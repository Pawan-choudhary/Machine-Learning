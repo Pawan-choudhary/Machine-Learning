{
  "nbformat": 4,
  "nbformat_minor": 0,
  "metadata": {
    "colab": {
      "provenance": []
    },
    "kernelspec": {
      "name": "python3",
      "display_name": "Python 3"
    },
    "language_info": {
      "name": "python"
    }
  },
  "cells": [
    {
      "cell_type": "markdown",
      "source": [
        "# Assumptions for Linear Regression"
      ],
      "metadata": {
        "id": "5jH7BgmnEqn6"
      }
    },
    {
      "cell_type": "markdown",
      "source": [
        "In linear regression, there are several **assumptions that need to be satisfied** for the model to be valid. Multicollinearity primarily violates the assumption of independence among the predictor variables. Here are the key assumptions in linear regression:\n",
        "\n",
        "1. **Linearity**: The relationship between the dependent variable and the predictor variables is assumed to be linear. This means that the effect of a one-unit change in a predictor variable is constant across all levels of that variable.\n",
        "\n",
        "2. **Independence**: The observations in the dataset are assumed to be independent of each other. In the context of multicollinearity, this assumption is violated because highly correlated predictor variables introduce dependence among the observations.\n",
        "\n",
        "3. **Homoscedasticity**: The error terms (residuals) should have constant variance across all levels of the predictor variables. Homoscedasticity ensures that the spread of the residuals is consistent throughout the range of predicted values.\n",
        "\n",
        "4. **Normality**: The error terms are assumed to be normally distributed. This assumption allows for valid hypothesis testing, confidence interval construction, and the use of certain statistical tests.\n",
        "\n",
        "5. **No autocorrelation**: The error terms should be uncorrelated with each other. Autocorrelation occurs when the residuals from a regression model are correlated over time or within specific groups of observations.\n",
        "\n",
        "6. **No perfect multicollinearity**: There should be no perfect linear relationship among the predictor variables. Perfect multicollinearity occurs when one predictor variable is a perfect linear combination of other predictor variables, leading to numerical instability and rendering the model unidentifiable.\n",
        "\n",
        "While multicollinearity primarily affects the assumption of independence, it can also have implications for other assumptions, such as the interpretation of coefficients and the accuracy of statistical tests. Therefore, addressing multicollinearity is crucial to ensure the validity of the linear regression model."
      ],
      "metadata": {
        "id": "K57xgll-Ew_p"
      }
    },
    {
      "cell_type": "markdown",
      "source": [
        "# Simple Linear Regression"
      ],
      "metadata": {
        "id": "Ao5YeeX6OcKx"
      }
    },
    {
      "cell_type": "code",
      "execution_count": 112,
      "metadata": {
        "id": "3OO3HOoYk7GY"
      },
      "outputs": [],
      "source": [
        "import numpy as np\n",
        "import pandas as pd\n",
        "import seaborn as sns\n",
        "import matplotlib.pyplot as plt\n",
        "import warnings\n",
        "\n",
        "# Ignore all warnings\n",
        "warnings.filterwarnings(\"ignore\")\n",
        "warnings.resetwarnings()\n",
        "\n",
        "# !pip install celluloid"
      ]
    },
    {
      "cell_type": "code",
      "source": [
        "df = pd.read_csv(\"/content/cars-24-clean-data\")\n",
        "df.head()"
      ],
      "metadata": {
        "colab": {
          "base_uri": "https://localhost:8080/",
          "height": 478
        },
        "id": "bbDy3scSln9H",
        "outputId": "57388f38-23fc-415a-d801-9a13921476fe"
      },
      "execution_count": 113,
      "outputs": [
        {
          "output_type": "stream",
          "name": "stderr",
          "text": [
            "/usr/local/lib/python3.10/dist-packages/ipykernel/ipkernel.py:283: DeprecationWarning: `should_run_async` will not call `transform_cell` automatically in the future. Please pass the result to `transformed_cell` argument and any exception that happen during thetransform in `preprocessing_exc_tuple` in IPython 7.17 and above.\n",
            "  and should_run_async(code)\n"
          ]
        },
        {
          "output_type": "execute_result",
          "data": {
            "text/plain": [
              "   selling_price    year  km_driven  mileage  engine  max_power     make  \\\n",
              "0           1.20  2012.0     120000    19.70   796.0      46.30   Maruti   \n",
              "1           5.50  2016.0      20000    18.90  1197.0      82.00  Hyundai   \n",
              "2           2.15  2010.0      60000    17.00  1197.0      80.00  Hyundai   \n",
              "3           2.26  2012.0      37000    20.92   998.0      67.10   Maruti   \n",
              "4           5.70  2015.0      30000    22.77  1498.0      98.59     Ford   \n",
              "\n",
              "                                       model  transmission_type  seats_coupe  \\\n",
              "0                                   Alto Std                  1            0   \n",
              "1                             Grand i10 Asta                  1            0   \n",
              "2                                   i20 Asta                  1            0   \n",
              "3                     Alto K10 2010-2014 VXI                  1            0   \n",
              "4  Ecosport 2015-2021 1.5 TDCi Titanium BSIV                  1            0   \n",
              "\n",
              "   seats_family  seats_large  fuel_cng  fuel_diesel  fuel_electric  fuel_lpg  \\\n",
              "0             1            0         0            0              0         0   \n",
              "1             1            0         0            0              0         0   \n",
              "2             1            0         0            0              0         0   \n",
              "3             1            0         0            0              0         0   \n",
              "4             1            0         0            1              0         0   \n",
              "\n",
              "   fuel_petrol  seller_dealer  seller_individual  seller_trustmark dealer  \n",
              "0            1              0                  1                        0  \n",
              "1            1              0                  1                        0  \n",
              "2            1              0                  1                        0  \n",
              "3            1              0                  1                        0  \n",
              "4            0              1                  0                        0  "
            ],
            "text/html": [
              "\n",
              "  <div id=\"df-5c5c74aa-66f3-470f-acf9-cb4540361093\">\n",
              "    <div class=\"colab-df-container\">\n",
              "      <div>\n",
              "<style scoped>\n",
              "    .dataframe tbody tr th:only-of-type {\n",
              "        vertical-align: middle;\n",
              "    }\n",
              "\n",
              "    .dataframe tbody tr th {\n",
              "        vertical-align: top;\n",
              "    }\n",
              "\n",
              "    .dataframe thead th {\n",
              "        text-align: right;\n",
              "    }\n",
              "</style>\n",
              "<table border=\"1\" class=\"dataframe\">\n",
              "  <thead>\n",
              "    <tr style=\"text-align: right;\">\n",
              "      <th></th>\n",
              "      <th>selling_price</th>\n",
              "      <th>year</th>\n",
              "      <th>km_driven</th>\n",
              "      <th>mileage</th>\n",
              "      <th>engine</th>\n",
              "      <th>max_power</th>\n",
              "      <th>make</th>\n",
              "      <th>model</th>\n",
              "      <th>transmission_type</th>\n",
              "      <th>seats_coupe</th>\n",
              "      <th>seats_family</th>\n",
              "      <th>seats_large</th>\n",
              "      <th>fuel_cng</th>\n",
              "      <th>fuel_diesel</th>\n",
              "      <th>fuel_electric</th>\n",
              "      <th>fuel_lpg</th>\n",
              "      <th>fuel_petrol</th>\n",
              "      <th>seller_dealer</th>\n",
              "      <th>seller_individual</th>\n",
              "      <th>seller_trustmark dealer</th>\n",
              "    </tr>\n",
              "  </thead>\n",
              "  <tbody>\n",
              "    <tr>\n",
              "      <th>0</th>\n",
              "      <td>1.20</td>\n",
              "      <td>2012.0</td>\n",
              "      <td>120000</td>\n",
              "      <td>19.70</td>\n",
              "      <td>796.0</td>\n",
              "      <td>46.30</td>\n",
              "      <td>Maruti</td>\n",
              "      <td>Alto Std</td>\n",
              "      <td>1</td>\n",
              "      <td>0</td>\n",
              "      <td>1</td>\n",
              "      <td>0</td>\n",
              "      <td>0</td>\n",
              "      <td>0</td>\n",
              "      <td>0</td>\n",
              "      <td>0</td>\n",
              "      <td>1</td>\n",
              "      <td>0</td>\n",
              "      <td>1</td>\n",
              "      <td>0</td>\n",
              "    </tr>\n",
              "    <tr>\n",
              "      <th>1</th>\n",
              "      <td>5.50</td>\n",
              "      <td>2016.0</td>\n",
              "      <td>20000</td>\n",
              "      <td>18.90</td>\n",
              "      <td>1197.0</td>\n",
              "      <td>82.00</td>\n",
              "      <td>Hyundai</td>\n",
              "      <td>Grand i10 Asta</td>\n",
              "      <td>1</td>\n",
              "      <td>0</td>\n",
              "      <td>1</td>\n",
              "      <td>0</td>\n",
              "      <td>0</td>\n",
              "      <td>0</td>\n",
              "      <td>0</td>\n",
              "      <td>0</td>\n",
              "      <td>1</td>\n",
              "      <td>0</td>\n",
              "      <td>1</td>\n",
              "      <td>0</td>\n",
              "    </tr>\n",
              "    <tr>\n",
              "      <th>2</th>\n",
              "      <td>2.15</td>\n",
              "      <td>2010.0</td>\n",
              "      <td>60000</td>\n",
              "      <td>17.00</td>\n",
              "      <td>1197.0</td>\n",
              "      <td>80.00</td>\n",
              "      <td>Hyundai</td>\n",
              "      <td>i20 Asta</td>\n",
              "      <td>1</td>\n",
              "      <td>0</td>\n",
              "      <td>1</td>\n",
              "      <td>0</td>\n",
              "      <td>0</td>\n",
              "      <td>0</td>\n",
              "      <td>0</td>\n",
              "      <td>0</td>\n",
              "      <td>1</td>\n",
              "      <td>0</td>\n",
              "      <td>1</td>\n",
              "      <td>0</td>\n",
              "    </tr>\n",
              "    <tr>\n",
              "      <th>3</th>\n",
              "      <td>2.26</td>\n",
              "      <td>2012.0</td>\n",
              "      <td>37000</td>\n",
              "      <td>20.92</td>\n",
              "      <td>998.0</td>\n",
              "      <td>67.10</td>\n",
              "      <td>Maruti</td>\n",
              "      <td>Alto K10 2010-2014 VXI</td>\n",
              "      <td>1</td>\n",
              "      <td>0</td>\n",
              "      <td>1</td>\n",
              "      <td>0</td>\n",
              "      <td>0</td>\n",
              "      <td>0</td>\n",
              "      <td>0</td>\n",
              "      <td>0</td>\n",
              "      <td>1</td>\n",
              "      <td>0</td>\n",
              "      <td>1</td>\n",
              "      <td>0</td>\n",
              "    </tr>\n",
              "    <tr>\n",
              "      <th>4</th>\n",
              "      <td>5.70</td>\n",
              "      <td>2015.0</td>\n",
              "      <td>30000</td>\n",
              "      <td>22.77</td>\n",
              "      <td>1498.0</td>\n",
              "      <td>98.59</td>\n",
              "      <td>Ford</td>\n",
              "      <td>Ecosport 2015-2021 1.5 TDCi Titanium BSIV</td>\n",
              "      <td>1</td>\n",
              "      <td>0</td>\n",
              "      <td>1</td>\n",
              "      <td>0</td>\n",
              "      <td>0</td>\n",
              "      <td>1</td>\n",
              "      <td>0</td>\n",
              "      <td>0</td>\n",
              "      <td>0</td>\n",
              "      <td>1</td>\n",
              "      <td>0</td>\n",
              "      <td>0</td>\n",
              "    </tr>\n",
              "  </tbody>\n",
              "</table>\n",
              "</div>\n",
              "      <button class=\"colab-df-convert\" onclick=\"convertToInteractive('df-5c5c74aa-66f3-470f-acf9-cb4540361093')\"\n",
              "              title=\"Convert this dataframe to an interactive table.\"\n",
              "              style=\"display:none;\">\n",
              "        \n",
              "  <svg xmlns=\"http://www.w3.org/2000/svg\" height=\"24px\"viewBox=\"0 0 24 24\"\n",
              "       width=\"24px\">\n",
              "    <path d=\"M0 0h24v24H0V0z\" fill=\"none\"/>\n",
              "    <path d=\"M18.56 5.44l.94 2.06.94-2.06 2.06-.94-2.06-.94-.94-2.06-.94 2.06-2.06.94zm-11 1L8.5 8.5l.94-2.06 2.06-.94-2.06-.94L8.5 2.5l-.94 2.06-2.06.94zm10 10l.94 2.06.94-2.06 2.06-.94-2.06-.94-.94-2.06-.94 2.06-2.06.94z\"/><path d=\"M17.41 7.96l-1.37-1.37c-.4-.4-.92-.59-1.43-.59-.52 0-1.04.2-1.43.59L10.3 9.45l-7.72 7.72c-.78.78-.78 2.05 0 2.83L4 21.41c.39.39.9.59 1.41.59.51 0 1.02-.2 1.41-.59l7.78-7.78 2.81-2.81c.8-.78.8-2.07 0-2.86zM5.41 20L4 18.59l7.72-7.72 1.47 1.35L5.41 20z\"/>\n",
              "  </svg>\n",
              "      </button>\n",
              "      \n",
              "  <style>\n",
              "    .colab-df-container {\n",
              "      display:flex;\n",
              "      flex-wrap:wrap;\n",
              "      gap: 12px;\n",
              "    }\n",
              "\n",
              "    .colab-df-convert {\n",
              "      background-color: #E8F0FE;\n",
              "      border: none;\n",
              "      border-radius: 50%;\n",
              "      cursor: pointer;\n",
              "      display: none;\n",
              "      fill: #1967D2;\n",
              "      height: 32px;\n",
              "      padding: 0 0 0 0;\n",
              "      width: 32px;\n",
              "    }\n",
              "\n",
              "    .colab-df-convert:hover {\n",
              "      background-color: #E2EBFA;\n",
              "      box-shadow: 0px 1px 2px rgba(60, 64, 67, 0.3), 0px 1px 3px 1px rgba(60, 64, 67, 0.15);\n",
              "      fill: #174EA6;\n",
              "    }\n",
              "\n",
              "    [theme=dark] .colab-df-convert {\n",
              "      background-color: #3B4455;\n",
              "      fill: #D2E3FC;\n",
              "    }\n",
              "\n",
              "    [theme=dark] .colab-df-convert:hover {\n",
              "      background-color: #434B5C;\n",
              "      box-shadow: 0px 1px 3px 1px rgba(0, 0, 0, 0.15);\n",
              "      filter: drop-shadow(0px 1px 2px rgba(0, 0, 0, 0.3));\n",
              "      fill: #FFFFFF;\n",
              "    }\n",
              "  </style>\n",
              "\n",
              "      <script>\n",
              "        const buttonEl =\n",
              "          document.querySelector('#df-5c5c74aa-66f3-470f-acf9-cb4540361093 button.colab-df-convert');\n",
              "        buttonEl.style.display =\n",
              "          google.colab.kernel.accessAllowed ? 'block' : 'none';\n",
              "\n",
              "        async function convertToInteractive(key) {\n",
              "          const element = document.querySelector('#df-5c5c74aa-66f3-470f-acf9-cb4540361093');\n",
              "          const dataTable =\n",
              "            await google.colab.kernel.invokeFunction('convertToInteractive',\n",
              "                                                     [key], {});\n",
              "          if (!dataTable) return;\n",
              "\n",
              "          const docLinkHtml = 'Like what you see? Visit the ' +\n",
              "            '<a target=\"_blank\" href=https://colab.research.google.com/notebooks/data_table.ipynb>data table notebook</a>'\n",
              "            + ' to learn more about interactive tables.';\n",
              "          element.innerHTML = '';\n",
              "          dataTable['output_type'] = 'display_data';\n",
              "          await google.colab.output.renderOutput(dataTable, element);\n",
              "          const docLink = document.createElement('div');\n",
              "          docLink.innerHTML = docLinkHtml;\n",
              "          element.appendChild(docLink);\n",
              "        }\n",
              "      </script>\n",
              "    </div>\n",
              "  </div>\n",
              "  "
            ]
          },
          "metadata": {},
          "execution_count": 113
        }
      ]
    },
    {
      "cell_type": "code",
      "source": [
        "df.columns"
      ],
      "metadata": {
        "colab": {
          "base_uri": "https://localhost:8080/"
        },
        "id": "ykjwfKcn5QNQ",
        "outputId": "acc1ddbb-4707-4873-dff3-629f848c46e3"
      },
      "execution_count": 114,
      "outputs": [
        {
          "output_type": "stream",
          "name": "stderr",
          "text": [
            "/usr/local/lib/python3.10/dist-packages/ipykernel/ipkernel.py:283: DeprecationWarning: `should_run_async` will not call `transform_cell` automatically in the future. Please pass the result to `transformed_cell` argument and any exception that happen during thetransform in `preprocessing_exc_tuple` in IPython 7.17 and above.\n",
            "  and should_run_async(code)\n"
          ]
        },
        {
          "output_type": "execute_result",
          "data": {
            "text/plain": [
              "Index(['selling_price', 'year', 'km_driven', 'mileage', 'engine', 'max_power',\n",
              "       'make', 'model', 'transmission_type', 'seats_coupe', 'seats_family',\n",
              "       'seats_large', 'fuel_cng', 'fuel_diesel', 'fuel_electric', 'fuel_lpg',\n",
              "       'fuel_petrol', 'seller_dealer', 'seller_individual',\n",
              "       'seller_trustmark dealer'],\n",
              "      dtype='object')"
            ]
          },
          "metadata": {},
          "execution_count": 114
        }
      ]
    },
    {
      "cell_type": "code",
      "source": [
        "df.shape"
      ],
      "metadata": {
        "colab": {
          "base_uri": "https://localhost:8080/"
        },
        "id": "_o1IH1Y850M_",
        "outputId": "08068917-d408-41b5-ea91-8fa8cbb31f77"
      },
      "execution_count": 115,
      "outputs": [
        {
          "output_type": "execute_result",
          "data": {
            "text/plain": [
              "(19820, 20)"
            ]
          },
          "metadata": {},
          "execution_count": 115
        }
      ]
    },
    {
      "cell_type": "markdown",
      "source": [
        "Target variable = selling_price\n",
        "\n",
        "Feature varuable = max_power"
      ],
      "metadata": {
        "id": "YcqdLf0htHTm"
      }
    },
    {
      "cell_type": "code",
      "source": [
        "# define X and y\n",
        "X = df['max_power'].values\n",
        "Y = df['selling_price'].values\n",
        "\n",
        "plt.scatter(X,Y)\n",
        "plt.xlabel(\"max_power\")\n",
        "plt.ylabel(\"selling_price\")\n",
        "plt.show()"
      ],
      "metadata": {
        "colab": {
          "base_uri": "https://localhost:8080/",
          "height": 449
        },
        "id": "YZ_-wCObl966",
        "outputId": "19e5f32a-a2d7-4559-ad45-5a8c93360c00"
      },
      "execution_count": 116,
      "outputs": [
        {
          "output_type": "display_data",
          "data": {
            "text/plain": [
              "<Figure size 640x480 with 1 Axes>"
            ],
            "image/png": "[encoded data removed]"
          },
          "metadata": {}
        }
      ]
    },
    {
      "cell_type": "code",
      "source": [
        "def univariate_linear_hypothesis(x, theta):\n",
        "  y_hat = theta[0] + theta[1]*x\n",
        "  return y_hat"
      ],
      "metadata": {
        "id": "mJ5zdEQeroO8"
      },
      "execution_count": 117,
      "outputs": []
    },
    {
      "cell_type": "code",
      "source": [
        "def cost(X,Y, theta):\n",
        "  m = X.shape[0] # number of training example\n",
        "  total_error = 0.0\n",
        "  for i in range(m):\n",
        "    y_ = univariate_linear_hypothesis(X[i], theta)\n",
        "    total_error += (y_ - Y[i])**2\n",
        "  return (total_error/m)  "
      ],
      "metadata": {
        "id": "OeXur6wKurAu"
      },
      "execution_count": 118,
      "outputs": []
    },
    {
      "cell_type": "markdown",
      "source": [
        "## Gradient Descent from scratch"
      ],
      "metadata": {
        "id": "vrIw-uCM_OJr"
      }
    },
    {
      "cell_type": "code",
      "source": [
        "plt.figure(figsize=(5,3))\n",
        "X = np.arange(10)\n",
        "Y = (X-5)**2\n",
        "plt.style.use('seaborn')\n",
        "plt.plot(X,Y)\n",
        "plt.ylabel(\"y-f(x)\")\n",
        "plt.xlabel(\"X\")\n",
        "plt.title(\"Convex funtion y=(x-5)**2\")\n",
        "plt.show()"
      ],
      "metadata": {
        "colab": {
          "base_uri": "https://localhost:8080/",
          "height": 386
        },
        "id": "MIe8Lg_5Gygp",
        "outputId": "5f35a840-5b46-404c-9526-ff39f8d05b84"
      },
      "execution_count": 119,
      "outputs": [
        {
          "output_type": "stream",
          "name": "stderr",
          "text": [
            "<ipython-input-119-06148e633530>:4: MatplotlibDeprecationWarning: The seaborn styles shipped by Matplotlib are deprecated since 3.6, as they no longer correspond to the styles shipped by seaborn. However, they will remain available as 'seaborn-v0_8-<style>'. Alternatively, directly use the seaborn API instead.\n",
            "  plt.style.use('seaborn')\n"
          ]
        },
        {
          "output_type": "display_data",
          "data": {
            "text/plain": [
              "<Figure size 500x300 with 1 Axes>"
            ],
            "image/png": "[encoded data removed]"
          },
          "metadata": {}
        }
      ]
    },
    {
      "cell_type": "code",
      "source": [
        "# Given data points\n",
        "# x = np.array([1, 2, 3, 4, 5])\n",
        "# y = np.array([3, 5, 7, 9, 11])\n",
        "\n",
        "x = df['max_power'].values\n",
        "y = df['selling_price'].values\n",
        "\n",
        "# Standardizing Data\n",
        "u = x.mean()\n",
        "std = x.std()\n",
        "x =  (x-u)/std\n",
        "# Initialize parameters\n",
        "m = 0.0\n",
        "c = 0.0\n",
        "errors = []\n",
        "# Define learning rate and number of iterations\n",
        "learning_rate = 0.1\n",
        "num_iterations = 60\n",
        "\n",
        "c_list = []\n",
        "m_list = [m]\n",
        "# Perform gradient descent\n",
        "n = len(x)\n",
        "\n",
        "for i in range(num_iterations):\n",
        "    # Calculate predicted values\n",
        "    c_list.append(c)\n",
        "    m_list.append(m)\n",
        "    predicted_y = m * x + c\n",
        "    \n",
        "    # Calculate gradients\n",
        "    gradient_m = (2/n) * np.sum((predicted_y - y) * x)\n",
        "    gradient_c = (2/n) * np.sum(predicted_y - y)\n",
        "    \n",
        "    # Update parameters\n",
        "    m = m - learning_rate * gradient_m\n",
        "    c = c - learning_rate * gradient_c\n",
        "    \n",
        "    # Calculate Mean Squared Error (MSE)\n",
        "    mse = (1/n) * np.sum((predicted_y - y)**2)\n",
        "    errors.append(mse)\n",
        "    # Print MSE for monitoring\n",
        "    print(f\"Iteration {i+1}: MSE = {mse}, Updated m = {m}, Updated c ={c}\")\n",
        "\n",
        "# Print final parameters\n",
        "print(\"Optimal parameters:\")\n",
        "print(\"m =\", m)\n",
        "print(\"c =\", c)\n"
      ],
      "metadata": {
        "colab": {
          "base_uri": "https://localhost:8080/"
        },
        "id": "FghoHIck-WrT",
        "outputId": "03480f75-f389-4db0-93c1-a6c844e6b9c3"
      },
      "execution_count": 120,
      "outputs": [
        {
          "output_type": "stream",
          "name": "stdout",
          "text": [
            "Iteration 1: MSE = 136.63651343311147, Updated m = 1.3315653574511908, Updated c =1.4776845775983858\n",
            "Iteration 2: MSE = 101.02695132478536, Updated m = 2.3968176434121427, Updated c =2.6598322396770944\n",
            "Iteration 3: MSE = 78.23683157545663, Updated m = 3.2490194721809047, Updated c =3.605550369340061\n",
            "Iteration 4: MSE = 63.65115493588627, Updated m = 3.930780935195914, Updated c =4.362124873070434\n",
            "Iteration 5: MSE = 54.316321886561234, Updated m = 4.476190105607921, Updated c =4.9673844760547325\n",
            "Iteration 6: MSE = 48.342028734993214, Updated m = 4.912517441937528, Updated c =5.451592158442171\n",
            "Iteration 7: MSE = 44.51848111798968, Updated m = 5.261579311001213, Updated c =5.838958304352122\n",
            "Iteration 8: MSE = 42.07141064310742, Updated m = 5.5408288062521605, Updated c =6.148851221080083\n",
            "Iteration 9: MSE = 40.505285539182765, Updated m = 5.764228402452918, Updated c =6.396765554462451\n",
            "Iteration 10: MSE = 39.50296547267099, Updated m = 5.942948079413525, Updated c =6.595097021168346\n",
            "Iteration 11: MSE = 38.86148063010346, Updated m = 6.08592382098201, Updated c =6.753762194533063\n",
            "Iteration 12: MSE = 38.45093033086023, Updated m = 6.200304414236798, Updated c =6.880694333224835\n",
            "Iteration 13: MSE = 38.18817813934458, Updated m = 6.291808888840628, Updated c =6.982240044178254\n",
            "Iteration 14: MSE = 38.02001673677455, Updated m = 6.365012468523693, Updated c =7.063476612940988\n",
            "Iteration 15: MSE = 37.91239343912973, Updated m = 6.423575332270144, Updated c =7.128465867951176\n",
            "Iteration 16: MSE = 37.843514528637044, Updated m = 6.470425623267306, Updated c =7.180457271959326\n",
            "Iteration 17: MSE = 37.79943202592173, Updated m = 6.507905856065035, Updated c =7.222050395165846\n",
            "Iteration 18: MSE = 37.77121922418394, Updated m = 6.537890042303218, Updated c =7.255324893731062\n",
            "Iteration 19: MSE = 37.75316303107174, Updated m = 6.5618773912937645, Updated c =7.281944492583235\n",
            "Iteration 20: MSE = 37.74160706747993, Updated m = 6.581067270486201, Updated c =7.3032401716649735\n",
            "Iteration 21: MSE = 37.734211250781186, Updated m = 6.596419173840151, Updated c =7.3202767149303645\n",
            "Iteration 22: MSE = 37.72947792809398, Updated m = 6.608700696523311, Updated c =7.333905949542677\n",
            "Iteration 23: MSE = 37.72644860157417, Updated m = 6.6185259146698385, Updated c =7.344809337232527\n",
            "Iteration 24: MSE = 37.72450983260149, Updated m = 6.6263860891870605, Updated c =7.353532047384407\n",
            "Iteration 25: MSE = 37.72326902045898, Updated m = 6.6326742288008385, Updated c =7.360510215505911\n",
            "Iteration 26: MSE = 37.72247490068777, Updated m = 6.637704740491861, Updated c =7.366092750003114\n",
            "Iteration 27: MSE = 37.7219666640342, Updated m = 6.641729149844679, Updated c =7.370558777600876\n",
            "Iteration 28: MSE = 37.721641392575904, Updated m = 6.644948677326933, Updated c =7.374131599679086\n",
            "Iteration 29: MSE = 37.7214332188426, Updated m = 6.647524299312736, Updated c =7.376989857341655\n",
            "Iteration 30: MSE = 37.72129998765328, Updated m = 6.649584796901379, Updated c =7.379276463471709\n",
            "Iteration 31: MSE = 37.72121471969213, Updated m = 6.651233194972293, Updated c =7.381105748375752\n",
            "Iteration 32: MSE = 37.72116014819698, Updated m = 6.652551913429025, Updated c =7.382569176298987\n",
            "Iteration 33: MSE = 37.72112522244009, Updated m = 6.6536068881944095, Updated c =7.383739918637575\n",
            "Iteration 34: MSE = 37.721102869955686, Updated m = 6.654450868006718, Updated c =7.384676512508445\n",
            "Iteration 35: MSE = 37.72108856436566, Updated m = 6.6551260518565645, Updated c =7.385425787605142\n",
            "Iteration 36: MSE = 37.72107940878804, Updated m = 6.655666198936442, Updated c =7.386025207682499\n",
            "Iteration 37: MSE = 37.72107354921837, Updated m = 6.656098316600343, Updated c =7.386504743744385\n",
            "Iteration 38: MSE = 37.721069799093776, Updated m = 6.656444010731465, Updated c =7.386888372593893\n",
            "Iteration 39: MSE = 37.721067399014046, Updated m = 6.656720566036362, Updated c =7.3871952756735\n",
            "Iteration 40: MSE = 37.72106586296301, Updated m = 6.656941810280279, Updated c =7.3874407981371855\n",
            "Iteration 41: MSE = 37.72106487989035, Updated m = 6.657118805675413, Updated c =7.387637216108134\n",
            "Iteration 42: MSE = 37.72106425072384, Updated m = 6.657260401991521, Updated c =7.387794350484892\n",
            "Iteration 43: MSE = 37.721063848057284, Updated m = 6.657373679044407, Updated c =7.387920057986299\n",
            "Iteration 44: MSE = 37.72106359035068, Updated m = 6.657464300686716, Updated c =7.388020623987424\n",
            "Iteration 45: MSE = 37.72106342541846, Updated m = 6.657536798000563, Updated c =7.388101076788325\n",
            "Iteration 46: MSE = 37.72106331986184, Updated m = 6.65759479585164, Updated c =7.388165439029045\n",
            "Iteration 47: MSE = 37.7210632523056, Updated m = 6.657641194132502, Updated c =7.388216928821621\n",
            "Iteration 48: MSE = 37.721063209069605, Updated m = 6.6576783127571915, Updated c =7.388258120655682\n",
            "Iteration 49: MSE = 37.72106318139857, Updated m = 6.657708007656943, Updated c =7.3882910741229315\n",
            "Iteration 50: MSE = 37.72106316368911, Updated m = 6.657731763576744, Updated c =7.38831743689673\n",
            "Iteration 51: MSE = 37.72106315235505, Updated m = 6.657750768312585, Updated c =7.38833852711577\n",
            "Iteration 52: MSE = 37.721063145101255, Updated m = 6.6577659721012585, Updated c =7.388355399291001\n",
            "Iteration 53: MSE = 37.72106314045883, Updated m = 6.6577781351321965, Updated c =7.388368897031186\n",
            "Iteration 54: MSE = 37.72106313748767, Updated m = 6.657787865556947, Updated c =7.3883796952233345\n",
            "Iteration 55: MSE = 37.72106313558613, Updated m = 6.657795649896747, Updated c =7.388388333777053\n",
            "Iteration 56: MSE = 37.72106313436914, Updated m = 6.657801877368588, Updated c =7.388395244620027\n",
            "Iteration 57: MSE = 37.72106313359027, Updated m = 6.65780685934606, Updated c =7.388400773294407\n",
            "Iteration 58: MSE = 37.721063133091796, Updated m = 6.657810844928038, Updated c =7.388405196233911\n",
            "Iteration 59: MSE = 37.72106313277278, Updated m = 6.65781403339362, Updated c =7.388408734585513\n",
            "Iteration 60: MSE = 37.72106313256859, Updated m = 6.657816584166087, Updated c =7.388411565266796\n",
            "Optimal parameters:\n",
            "m = 6.657816584166087\n",
            "c = 7.388411565266796\n"
          ]
        },
        {
          "output_type": "stream",
          "name": "stderr",
          "text": [
            "/usr/local/lib/python3.10/dist-packages/ipykernel/ipkernel.py:283: DeprecationWarning: `should_run_async` will not call `transform_cell` automatically in the future. Please pass the result to `transformed_cell` argument and any exception that happen during thetransform in `preprocessing_exc_tuple` in IPython 7.17 and above.\n",
            "  and should_run_async(code)\n"
          ]
        }
      ]
    },
    {
      "cell_type": "code",
      "source": [
        "plt.figure(figsize=(5,3))\n",
        "plt.plot(errors)\n",
        "plt.xlabel(\"Iteration run\")\n",
        "plt.ylabel(\"Error = (y_hat - y)\")\n",
        "plt.title(\"Gradient Descent - Error V/S iteration\")\n",
        "plt.show()"
      ],
      "metadata": {
        "colab": {
          "base_uri": "https://localhost:8080/",
          "height": 331
        },
        "id": "EhTVGEhyIyMs",
        "outputId": "1d2927b1-15a4-40f3-c93f-ef1a8f942b3b"
      },
      "execution_count": 121,
      "outputs": [
        {
          "output_type": "display_data",
          "data": {
            "text/plain": [
              "<Figure size 500x300 with 1 Axes>"
            ],
            "image/png": "[encoded data removed]"
          },
          "metadata": {}
        }
      ]
    },
    {
      "cell_type": "code",
      "source": [
        "plt.figure(figsize=(5,3))\n",
        "\n",
        "plt.plot(c_list, label='c')\n",
        "plt.plot(m_list, label='m')\n",
        "plt.legend()\n",
        "plt.show()"
      ],
      "metadata": {
        "colab": {
          "base_uri": "https://localhost:8080/",
          "height": 291
        },
        "id": "zJLZg0YScHyW",
        "outputId": "6a920c20-0a7e-4aae-dba0-3972d1ad59c4"
      },
      "execution_count": 122,
      "outputs": [
        {
          "output_type": "display_data",
          "data": {
            "text/plain": [
              "<Figure size 500x300 with 1 Axes>"
            ],
            "image/png": "[encoded data removed]"
          },
          "metadata": {}
        }
      ]
    },
    {
      "cell_type": "code",
      "source": [
        "fig = plt.figure()\n",
        "plt.scatter(x,y)\n",
        "plt.plot(x,predicted_y, 'r-', label='Prediction')\n",
        "plt.legend()\n",
        "plt.show()"
      ],
      "metadata": {
        "colab": {
          "base_uri": "https://localhost:8080/",
          "height": 484
        },
        "id": "RfFyfkcsM1rT",
        "outputId": "5ce7d0ae-bf46-49ab-b136-084e7be0cb73"
      },
      "execution_count": 123,
      "outputs": [
        {
          "output_type": "display_data",
          "data": {
            "text/plain": [
              "<Figure size 800x550 with 1 Axes>"
            ],
            "image/png": "[encoded data removed]"
          },
          "metadata": {}
        }
      ]
    },
    {
      "cell_type": "code",
      "source": [
        "#r2 = 1 - (SSR/SST)\n",
        "\n",
        "def r2_score(y,predicted_y):\n",
        "  SSR = np.sum((predicted_y - y.mean())**2)\n",
        "  SST = np.sum((y - y.mean())**2)\n",
        "  score = 1 - (SSR/SST)\n",
        "  return score  \n",
        "r2_score(y,predicted_y)"
      ],
      "metadata": {
        "colab": {
          "base_uri": "https://localhost:8080/"
        },
        "id": "TOlN8rCO0IGB",
        "outputId": "5d9610b3-ebe5-44ee-cd0b-cfd503a5749e"
      },
      "execution_count": 124,
      "outputs": [
        {
          "output_type": "execute_result",
          "data": {
            "text/plain": [
              "0.4597474817559859"
            ]
          },
          "metadata": {},
          "execution_count": 124
        }
      ]
    },
    {
      "cell_type": "markdown",
      "source": [
        "Observation:\n",
        "* 46% of variation in y is explained by x\n",
        "* For 1 input variable/feature 0.46 is prety good"
      ],
      "metadata": {
        "id": "OGmwCzD84EVI"
      }
    },
    {
      "cell_type": "markdown",
      "source": [
        "## From sklearn"
      ],
      "metadata": {
        "id": "TvVY1I6UO9Rm"
      }
    },
    {
      "cell_type": "code",
      "source": [
        "from sklearn.linear_model import LinearRegression"
      ],
      "metadata": {
        "id": "x3kp--DJ9WIr"
      },
      "execution_count": 125,
      "outputs": []
    },
    {
      "cell_type": "code",
      "source": [
        "X = df['max_power'].values\n",
        "Y = df['selling_price'].values\n",
        "\n",
        "X = (X - X.mean()) / X.std()\n",
        "#Y = (Y - Y.mean()) / Y.std()\n",
        "print(X)\n",
        "print(Y)\n",
        "print(\"Length of X : \",len(X),\" Shape of X : \", X.shape)\n",
        "print(\"Length of Y : \",len(Y),\" Shape of X : \", Y.shape)\n"
      ],
      "metadata": {
        "colab": {
          "base_uri": "https://localhost:8080/"
        },
        "id": "A4Vt_hXM_C5d",
        "outputId": "37bc60dd-1413-445c-f0be-2fac115c2efc"
      },
      "execution_count": 126,
      "outputs": [
        {
          "output_type": "stream",
          "name": "stdout",
          "text": [
            "[-1.15777962 -0.36020313 -0.40488529 ...  0.12057687  0.93557939\n",
            "  0.43513924]\n",
            "[ 1.2   5.5   2.15 ...  4.25 12.25 12.  ]\n",
            "Length of X :  19820  Shape of X :  (19820,)\n",
            "Length of Y :  19820  Shape of X :  (19820,)\n"
          ]
        }
      ]
    },
    {
      "cell_type": "markdown",
      "source": [
        "scikit-learn's LinearRegression model expects a 2D array for the features (X).\n",
        "\n",
        "To resolve this issue, you can reshape your 1D array using the reshape function in NumPy to convert it into a 2D array with a single column."
      ],
      "metadata": {
        "id": "08CV9kBNCCQF"
      }
    },
    {
      "cell_type": "code",
      "source": [
        "X = X.reshape(X.size, 1)\n",
        "Y = Y.reshape(Y.size, 1)\n",
        "print(X)\n",
        "print(Y)\n",
        "print(\"Length of X : \",len(X),\" Shape of X : \", X.shape)\n",
        "print(\"Length of Y : \",len(Y),\" Shape of X : \", Y.shape)"
      ],
      "metadata": {
        "colab": {
          "base_uri": "https://localhost:8080/"
        },
        "id": "BaBjNkpNCO5x",
        "outputId": "04d0e47e-2fd2-4553-dbe3-d231c477dddc"
      },
      "execution_count": 127,
      "outputs": [
        {
          "output_type": "stream",
          "name": "stdout",
          "text": [
            "[[-1.15777962]\n",
            " [-0.36020313]\n",
            " [-0.40488529]\n",
            " ...\n",
            " [ 0.12057687]\n",
            " [ 0.93557939]\n",
            " [ 0.43513924]]\n",
            "[[ 1.2 ]\n",
            " [ 5.5 ]\n",
            " [ 2.15]\n",
            " ...\n",
            " [ 4.25]\n",
            " [12.25]\n",
            " [12.  ]]\n",
            "Length of X :  19820  Shape of X :  (19820, 1)\n",
            "Length of Y :  19820  Shape of X :  (19820, 1)\n"
          ]
        }
      ]
    },
    {
      "cell_type": "code",
      "source": [
        "model = LinearRegression()\n",
        "model.fit(X,Y) # Training"
      ],
      "metadata": {
        "colab": {
          "base_uri": "https://localhost:8080/",
          "height": 75
        },
        "id": "2repESJl92Xv",
        "outputId": "1fd7f0c0-930a-4530-d172-9d22925e5040"
      },
      "execution_count": 128,
      "outputs": [
        {
          "output_type": "execute_result",
          "data": {
            "text/plain": [
              "LinearRegression()"
            ],
            "text/html": [
              "<style>#sk-container-id-5 {color: black;background-color: white;}#sk-container-id-5 pre{padding: 0;}#sk-container-id-5 div.sk-toggleable {background-color: white;}#sk-container-id-5 label.sk-toggleable__label {cursor: pointer;display: block;width: 100%;margin-bottom: 0;padding: 0.3em;box-sizing: border-box;text-align: center;}#sk-container-id-5 label.sk-toggleable__label-arrow:before {content: \"▸\";float: left;margin-right: 0.25em;color: #696969;}#sk-container-id-5 label.sk-toggleable__label-arrow:hover:before {color: black;}#sk-container-id-5 div.sk-estimator:hover label.sk-toggleable__label-arrow:before {color: black;}#sk-container-id-5 div.sk-toggleable__content {max-height: 0;max-width: 0;overflow: hidden;text-align: left;background-color: #f0f8ff;}#sk-container-id-5 div.sk-toggleable__content pre {margin: 0.2em;color: black;border-radius: 0.25em;background-color: #f0f8ff;}#sk-container-id-5 input.sk-toggleable__control:checked~div.sk-toggleable__content {max-height: 200px;max-width: 100%;overflow: auto;}#sk-container-id-5 input.sk-toggleable__control:checked~label.sk-toggleable__label-arrow:before {content: \"▾\";}#sk-container-id-5 div.sk-estimator input.sk-toggleable__control:checked~label.sk-toggleable__label {background-color: #d4ebff;}#sk-container-id-5 div.sk-label input.sk-toggleable__control:checked~label.sk-toggleable__label {background-color: #d4ebff;}#sk-container-id-5 input.sk-hidden--visually {border: 0;clip: rect(1px 1px 1px 1px);clip: rect(1px, 1px, 1px, 1px);height: 1px;margin: -1px;overflow: hidden;padding: 0;position: absolute;width: 1px;}#sk-container-id-5 div.sk-estimator {font-family: monospace;background-color: #f0f8ff;border: 1px dotted black;border-radius: 0.25em;box-sizing: border-box;margin-bottom: 0.5em;}#sk-container-id-5 div.sk-estimator:hover {background-color: #d4ebff;}#sk-container-id-5 div.sk-parallel-item::after {content: \"\";width: 100%;border-bottom: 1px solid gray;flex-grow: 1;}#sk-container-id-5 div.sk-label:hover label.sk-toggleable__label {background-color: #d4ebff;}#sk-container-id-5 div.sk-serial::before {content: \"\";position: absolute;border-left: 1px solid gray;box-sizing: border-box;top: 0;bottom: 0;left: 50%;z-index: 0;}#sk-container-id-5 div.sk-serial {display: flex;flex-direction: column;align-items: center;background-color: white;padding-right: 0.2em;padding-left: 0.2em;position: relative;}#sk-container-id-5 div.sk-item {position: relative;z-index: 1;}#sk-container-id-5 div.sk-parallel {display: flex;align-items: stretch;justify-content: center;background-color: white;position: relative;}#sk-container-id-5 div.sk-item::before, #sk-container-id-5 div.sk-parallel-item::before {content: \"\";position: absolute;border-left: 1px solid gray;box-sizing: border-box;top: 0;bottom: 0;left: 50%;z-index: -1;}#sk-container-id-5 div.sk-parallel-item {display: flex;flex-direction: column;z-index: 1;position: relative;background-color: white;}#sk-container-id-5 div.sk-parallel-item:first-child::after {align-self: flex-end;width: 50%;}#sk-container-id-5 div.sk-parallel-item:last-child::after {align-self: flex-start;width: 50%;}#sk-container-id-5 div.sk-parallel-item:only-child::after {width: 0;}#sk-container-id-5 div.sk-dashed-wrapped {border: 1px dashed gray;margin: 0 0.4em 0.5em 0.4em;box-sizing: border-box;padding-bottom: 0.4em;background-color: white;}#sk-container-id-5 div.sk-label label {font-family: monospace;font-weight: bold;display: inline-block;line-height: 1.2em;}#sk-container-id-5 div.sk-label-container {text-align: center;}#sk-container-id-5 div.sk-container {/* jupyter's `normalize.less` sets `[hidden] { display: none; }` but bootstrap.min.css set `[hidden] { display: none !important; }` so we also need the `!important` here to be able to override the default hidden behavior on the sphinx rendered scikit-learn.org. See: https://github.com/scikit-learn/scikit-learn/issues/21755 */display: inline-block !important;position: relative;}#sk-container-id-5 div.sk-text-repr-fallback {display: none;}</style><div id=\"sk-container-id-5\" class=\"sk-top-container\"><div class=\"sk-text-repr-fallback\"><pre>LinearRegression()</pre><b>In a Jupyter environment, please rerun this cell to show the HTML representation or trust the notebook. <br />On GitHub, the HTML representation is unable to render, please try loading this page with nbviewer.org.</b></div><div class=\"sk-container\" hidden><div class=\"sk-item\"><div class=\"sk-estimator sk-toggleable\"><input class=\"sk-toggleable__control sk-hidden--visually\" id=\"sk-estimator-id-5\" type=\"checkbox\" checked><label for=\"sk-estimator-id-5\" class=\"sk-toggleable__label sk-toggleable__label-arrow\">LinearRegression</label><div class=\"sk-toggleable__content\"><pre>LinearRegression()</pre></div></div></div></div></div>"
            ]
          },
          "metadata": {},
          "execution_count": 128
        }
      ]
    },
    {
      "cell_type": "code",
      "source": [
        "print(\"c = \",model.intercept_)\n",
        "print(\"m = \",model.coef_)\n",
        "print(\"r2_score = \", model.score(X,Y))"
      ],
      "metadata": {
        "colab": {
          "base_uri": "https://localhost:8080/"
        },
        "id": "pk6I54M5C_oE",
        "outputId": "8f577d4e-ca6e-4617-d293-6d3d5304ddf3"
      },
      "execution_count": 129,
      "outputs": [
        {
          "output_type": "stream",
          "name": "stdout",
          "text": [
            "c =  [7.38842289]\n",
            "m =  [[6.65782679]]\n",
            "r2_score =  0.5402545880839582\n"
          ]
        },
        {
          "output_type": "stream",
          "name": "stderr",
          "text": [
            "/usr/local/lib/python3.10/dist-packages/ipykernel/ipkernel.py:283: DeprecationWarning: `should_run_async` will not call `transform_cell` automatically in the future. Please pass the result to `transformed_cell` argument and any exception that happen during thetransform in `preprocessing_exc_tuple` in IPython 7.17 and above.\n",
            "  and should_run_async(code)\n"
          ]
        }
      ]
    },
    {
      "cell_type": "code",
      "source": [
        "output = model.predict(X)"
      ],
      "metadata": {
        "id": "1r9GwxQa98EL",
        "colab": {
          "base_uri": "https://localhost:8080/"
        },
        "outputId": "8f51c2dd-7b98-42de-872f-813d64179950"
      },
      "execution_count": 130,
      "outputs": [
        {
          "output_type": "stream",
          "name": "stderr",
          "text": [
            "/usr/local/lib/python3.10/dist-packages/ipykernel/ipkernel.py:283: DeprecationWarning: `should_run_async` will not call `transform_cell` automatically in the future. Please pass the result to `transformed_cell` argument and any exception that happen during thetransform in `preprocessing_exc_tuple` in IPython 7.17 and above.\n",
            "  and should_run_async(code)\n"
          ]
        }
      ]
    },
    {
      "cell_type": "code",
      "source": [
        "from sklearn.metrics import mean_absolute_error\n",
        "from sklearn.metrics import mean_squared_error\n",
        "\n",
        "MAE = mean_absolute_error(Y,output)\n",
        "MSE = mean_squared_error(Y, output)\n",
        "RMSE = np.sqrt(MSE)\n",
        "print(\"MAE : \", MAE)\n",
        "print(\"MSE : \", MSE)\n",
        "print(\"RMSE : \", RMSE)"
      ],
      "metadata": {
        "colab": {
          "base_uri": "https://localhost:8080/"
        },
        "id": "dVcZjVBp3QQJ",
        "outputId": "d4fc7b94-7943-48a6-8373-b5897d1cb59a"
      },
      "execution_count": 131,
      "outputs": [
        {
          "output_type": "stream",
          "name": "stdout",
          "text": [
            "MAE :  3.0911161838782792\n",
            "MSE :  37.72106313220562\n",
            "RMSE :  6.141747563373605\n"
          ]
        },
        {
          "output_type": "stream",
          "name": "stderr",
          "text": [
            "/usr/local/lib/python3.10/dist-packages/ipykernel/ipkernel.py:283: DeprecationWarning: `should_run_async` will not call `transform_cell` automatically in the future. Please pass the result to `transformed_cell` argument and any exception that happen during thetransform in `preprocessing_exc_tuple` in IPython 7.17 and above.\n",
            "  and should_run_async(code)\n"
          ]
        }
      ]
    },
    {
      "cell_type": "code",
      "source": [
        "fig = plt.figure()\n",
        "plt.scatter(X,Y, label='Data')\n",
        "plt.scatter(X,output,color='orange', label='Prediction')\n",
        "plt.legend()\n",
        "plt.show()"
      ],
      "metadata": {
        "id": "TrXzaDT-C_eL",
        "colab": {
          "base_uri": "https://localhost:8080/",
          "height": 539
        },
        "outputId": "b5cad9ab-0532-4032-eded-99f9c34ddf0d"
      },
      "execution_count": 132,
      "outputs": [
        {
          "output_type": "stream",
          "name": "stderr",
          "text": [
            "/usr/local/lib/python3.10/dist-packages/ipykernel/ipkernel.py:283: DeprecationWarning: `should_run_async` will not call `transform_cell` automatically in the future. Please pass the result to `transformed_cell` argument and any exception that happen during thetransform in `preprocessing_exc_tuple` in IPython 7.17 and above.\n",
            "  and should_run_async(code)\n"
          ]
        },
        {
          "output_type": "display_data",
          "data": {
            "text/plain": [
              "<Figure size 800x550 with 1 Axes>"
            ],
            "image/png": "[encoded data removed]"
          },
          "metadata": {}
        }
      ]
    },
    {
      "cell_type": "markdown",
      "source": [
        "-----------\n",
        "# Multiple Linear Regression"
      ],
      "metadata": {
        "id": "dScuxsIGPCTq"
      }
    },
    {
      "cell_type": "code",
      "source": [
        "import numpy as np\n",
        "import pandas as pd\n",
        "import seaborn as sns\n",
        "import matplotlib.pyplot as plt"
      ],
      "metadata": {
        "id": "D-CpR-Iyz1eH"
      },
      "execution_count": 133,
      "outputs": []
    },
    {
      "cell_type": "code",
      "source": [
        "df = pd.read_csv(\"/content/cars-24-clean-data\")\n",
        "df.head()"
      ],
      "metadata": {
        "id": "mMdOJtaWC_W-",
        "colab": {
          "base_uri": "https://localhost:8080/",
          "height": 444
        },
        "outputId": "b864512b-0c36-4a81-f276-d360d8fde308"
      },
      "execution_count": 134,
      "outputs": [
        {
          "output_type": "execute_result",
          "data": {
            "text/plain": [
              "   selling_price    year  km_driven  mileage  engine  max_power     make  \\\n",
              "0           1.20  2012.0     120000    19.70   796.0      46.30   Maruti   \n",
              "1           5.50  2016.0      20000    18.90  1197.0      82.00  Hyundai   \n",
              "2           2.15  2010.0      60000    17.00  1197.0      80.00  Hyundai   \n",
              "3           2.26  2012.0      37000    20.92   998.0      67.10   Maruti   \n",
              "4           5.70  2015.0      30000    22.77  1498.0      98.59     Ford   \n",
              "\n",
              "                                       model  transmission_type  seats_coupe  \\\n",
              "0                                   Alto Std                  1            0   \n",
              "1                             Grand i10 Asta                  1            0   \n",
              "2                                   i20 Asta                  1            0   \n",
              "3                     Alto K10 2010-2014 VXI                  1            0   \n",
              "4  Ecosport 2015-2021 1.5 TDCi Titanium BSIV                  1            0   \n",
              "\n",
              "   seats_family  seats_large  fuel_cng  fuel_diesel  fuel_electric  fuel_lpg  \\\n",
              "0             1            0         0            0              0         0   \n",
              "1             1            0         0            0              0         0   \n",
              "2             1            0         0            0              0         0   \n",
              "3             1            0         0            0              0         0   \n",
              "4             1            0         0            1              0         0   \n",
              "\n",
              "   fuel_petrol  seller_dealer  seller_individual  seller_trustmark dealer  \n",
              "0            1              0                  1                        0  \n",
              "1            1              0                  1                        0  \n",
              "2            1              0                  1                        0  \n",
              "3            1              0                  1                        0  \n",
              "4            0              1                  0                        0  "
            ],
            "text/html": [
              "\n",
              "  <div id=\"df-6f8d9e8a-aed4-4c78-a654-84b2e55d3b00\">\n",
              "    <div class=\"colab-df-container\">\n",
              "      <div>\n",
              "<style scoped>\n",
              "    .dataframe tbody tr th:only-of-type {\n",
              "        vertical-align: middle;\n",
              "    }\n",
              "\n",
              "    .dataframe tbody tr th {\n",
              "        vertical-align: top;\n",
              "    }\n",
              "\n",
              "    .dataframe thead th {\n",
              "        text-align: right;\n",
              "    }\n",
              "</style>\n",
              "<table border=\"1\" class=\"dataframe\">\n",
              "  <thead>\n",
              "    <tr style=\"text-align: right;\">\n",
              "      <th></th>\n",
              "      <th>selling_price</th>\n",
              "      <th>year</th>\n",
              "      <th>km_driven</th>\n",
              "      <th>mileage</th>\n",
              "      <th>engine</th>\n",
              "      <th>max_power</th>\n",
              "      <th>make</th>\n",
              "      <th>model</th>\n",
              "      <th>transmission_type</th>\n",
              "      <th>seats_coupe</th>\n",
              "      <th>seats_family</th>\n",
              "      <th>seats_large</th>\n",
              "      <th>fuel_cng</th>\n",
              "      <th>fuel_diesel</th>\n",
              "      <th>fuel_electric</th>\n",
              "      <th>fuel_lpg</th>\n",
              "      <th>fuel_petrol</th>\n",
              "      <th>seller_dealer</th>\n",
              "      <th>seller_individual</th>\n",
              "      <th>seller_trustmark dealer</th>\n",
              "    </tr>\n",
              "  </thead>\n",
              "  <tbody>\n",
              "    <tr>\n",
              "      <th>0</th>\n",
              "      <td>1.20</td>\n",
              "      <td>2012.0</td>\n",
              "      <td>120000</td>\n",
              "      <td>19.70</td>\n",
              "      <td>796.0</td>\n",
              "      <td>46.30</td>\n",
              "      <td>Maruti</td>\n",
              "      <td>Alto Std</td>\n",
              "      <td>1</td>\n",
              "      <td>0</td>\n",
              "      <td>1</td>\n",
              "      <td>0</td>\n",
              "      <td>0</td>\n",
              "      <td>0</td>\n",
              "      <td>0</td>\n",
              "      <td>0</td>\n",
              "      <td>1</td>\n",
              "      <td>0</td>\n",
              "      <td>1</td>\n",
              "      <td>0</td>\n",
              "    </tr>\n",
              "    <tr>\n",
              "      <th>1</th>\n",
              "      <td>5.50</td>\n",
              "      <td>2016.0</td>\n",
              "      <td>20000</td>\n",
              "      <td>18.90</td>\n",
              "      <td>1197.0</td>\n",
              "      <td>82.00</td>\n",
              "      <td>Hyundai</td>\n",
              "      <td>Grand i10 Asta</td>\n",
              "      <td>1</td>\n",
              "      <td>0</td>\n",
              "      <td>1</td>\n",
              "      <td>0</td>\n",
              "      <td>0</td>\n",
              "      <td>0</td>\n",
              "      <td>0</td>\n",
              "      <td>0</td>\n",
              "      <td>1</td>\n",
              "      <td>0</td>\n",
              "      <td>1</td>\n",
              "      <td>0</td>\n",
              "    </tr>\n",
              "    <tr>\n",
              "      <th>2</th>\n",
              "      <td>2.15</td>\n",
              "      <td>2010.0</td>\n",
              "      <td>60000</td>\n",
              "      <td>17.00</td>\n",
              "      <td>1197.0</td>\n",
              "      <td>80.00</td>\n",
              "      <td>Hyundai</td>\n",
              "      <td>i20 Asta</td>\n",
              "      <td>1</td>\n",
              "      <td>0</td>\n",
              "      <td>1</td>\n",
              "      <td>0</td>\n",
              "      <td>0</td>\n",
              "      <td>0</td>\n",
              "      <td>0</td>\n",
              "      <td>0</td>\n",
              "      <td>1</td>\n",
              "      <td>0</td>\n",
              "      <td>1</td>\n",
              "      <td>0</td>\n",
              "    </tr>\n",
              "    <tr>\n",
              "      <th>3</th>\n",
              "      <td>2.26</td>\n",
              "      <td>2012.0</td>\n",
              "      <td>37000</td>\n",
              "      <td>20.92</td>\n",
              "      <td>998.0</td>\n",
              "      <td>67.10</td>\n",
              "      <td>Maruti</td>\n",
              "      <td>Alto K10 2010-2014 VXI</td>\n",
              "      <td>1</td>\n",
              "      <td>0</td>\n",
              "      <td>1</td>\n",
              "      <td>0</td>\n",
              "      <td>0</td>\n",
              "      <td>0</td>\n",
              "      <td>0</td>\n",
              "      <td>0</td>\n",
              "      <td>1</td>\n",
              "      <td>0</td>\n",
              "      <td>1</td>\n",
              "      <td>0</td>\n",
              "    </tr>\n",
              "    <tr>\n",
              "      <th>4</th>\n",
              "      <td>5.70</td>\n",
              "      <td>2015.0</td>\n",
              "      <td>30000</td>\n",
              "      <td>22.77</td>\n",
              "      <td>1498.0</td>\n",
              "      <td>98.59</td>\n",
              "      <td>Ford</td>\n",
              "      <td>Ecosport 2015-2021 1.5 TDCi Titanium BSIV</td>\n",
              "      <td>1</td>\n",
              "      <td>0</td>\n",
              "      <td>1</td>\n",
              "      <td>0</td>\n",
              "      <td>0</td>\n",
              "      <td>1</td>\n",
              "      <td>0</td>\n",
              "      <td>0</td>\n",
              "      <td>0</td>\n",
              "      <td>1</td>\n",
              "      <td>0</td>\n",
              "      <td>0</td>\n",
              "    </tr>\n",
              "  </tbody>\n",
              "</table>\n",
              "</div>\n",
              "      <button class=\"colab-df-convert\" onclick=\"convertToInteractive('df-6f8d9e8a-aed4-4c78-a654-84b2e55d3b00')\"\n",
              "              title=\"Convert this dataframe to an interactive table.\"\n",
              "              style=\"display:none;\">\n",
              "        \n",
              "  <svg xmlns=\"http://www.w3.org/2000/svg\" height=\"24px\"viewBox=\"0 0 24 24\"\n",
              "       width=\"24px\">\n",
              "    <path d=\"M0 0h24v24H0V0z\" fill=\"none\"/>\n",
              "    <path d=\"M18.56 5.44l.94 2.06.94-2.06 2.06-.94-2.06-.94-.94-2.06-.94 2.06-2.06.94zm-11 1L8.5 8.5l.94-2.06 2.06-.94-2.06-.94L8.5 2.5l-.94 2.06-2.06.94zm10 10l.94 2.06.94-2.06 2.06-.94-2.06-.94-.94-2.06-.94 2.06-2.06.94z\"/><path d=\"M17.41 7.96l-1.37-1.37c-.4-.4-.92-.59-1.43-.59-.52 0-1.04.2-1.43.59L10.3 9.45l-7.72 7.72c-.78.78-.78 2.05 0 2.83L4 21.41c.39.39.9.59 1.41.59.51 0 1.02-.2 1.41-.59l7.78-7.78 2.81-2.81c.8-.78.8-2.07 0-2.86zM5.41 20L4 18.59l7.72-7.72 1.47 1.35L5.41 20z\"/>\n",
              "  </svg>\n",
              "      </button>\n",
              "      \n",
              "  <style>\n",
              "    .colab-df-container {\n",
              "      display:flex;\n",
              "      flex-wrap:wrap;\n",
              "      gap: 12px;\n",
              "    }\n",
              "\n",
              "    .colab-df-convert {\n",
              "      background-color: #E8F0FE;\n",
              "      border: none;\n",
              "      border-radius: 50%;\n",
              "      cursor: pointer;\n",
              "      display: none;\n",
              "      fill: #1967D2;\n",
              "      height: 32px;\n",
              "      padding: 0 0 0 0;\n",
              "      width: 32px;\n",
              "    }\n",
              "\n",
              "    .colab-df-convert:hover {\n",
              "      background-color: #E2EBFA;\n",
              "      box-shadow: 0px 1px 2px rgba(60, 64, 67, 0.3), 0px 1px 3px 1px rgba(60, 64, 67, 0.15);\n",
              "      fill: #174EA6;\n",
              "    }\n",
              "\n",
              "    [theme=dark] .colab-df-convert {\n",
              "      background-color: #3B4455;\n",
              "      fill: #D2E3FC;\n",
              "    }\n",
              "\n",
              "    [theme=dark] .colab-df-convert:hover {\n",
              "      background-color: #434B5C;\n",
              "      box-shadow: 0px 1px 3px 1px rgba(0, 0, 0, 0.15);\n",
              "      filter: drop-shadow(0px 1px 2px rgba(0, 0, 0, 0.3));\n",
              "      fill: #FFFFFF;\n",
              "    }\n",
              "  </style>\n",
              "\n",
              "      <script>\n",
              "        const buttonEl =\n",
              "          document.querySelector('#df-6f8d9e8a-aed4-4c78-a654-84b2e55d3b00 button.colab-df-convert');\n",
              "        buttonEl.style.display =\n",
              "          google.colab.kernel.accessAllowed ? 'block' : 'none';\n",
              "\n",
              "        async function convertToInteractive(key) {\n",
              "          const element = document.querySelector('#df-6f8d9e8a-aed4-4c78-a654-84b2e55d3b00');\n",
              "          const dataTable =\n",
              "            await google.colab.kernel.invokeFunction('convertToInteractive',\n",
              "                                                     [key], {});\n",
              "          if (!dataTable) return;\n",
              "\n",
              "          const docLinkHtml = 'Like what you see? Visit the ' +\n",
              "            '<a target=\"_blank\" href=https://colab.research.google.com/notebooks/data_table.ipynb>data table notebook</a>'\n",
              "            + ' to learn more about interactive tables.';\n",
              "          element.innerHTML = '';\n",
              "          dataTable['output_type'] = 'display_data';\n",
              "          await google.colab.output.renderOutput(dataTable, element);\n",
              "          const docLink = document.createElement('div');\n",
              "          docLink.innerHTML = docLinkHtml;\n",
              "          element.appendChild(docLink);\n",
              "        }\n",
              "      </script>\n",
              "    </div>\n",
              "  </div>\n",
              "  "
            ]
          },
          "metadata": {},
          "execution_count": 134
        }
      ]
    },
    {
      "cell_type": "code",
      "source": [
        "df.shape"
      ],
      "metadata": {
        "colab": {
          "base_uri": "https://localhost:8080/"
        },
        "id": "iZmIVieUbNUX",
        "outputId": "b5e53ffa-2e5f-40ed-cefc-94073dc7a296"
      },
      "execution_count": 135,
      "outputs": [
        {
          "output_type": "stream",
          "name": "stderr",
          "text": [
            "/usr/local/lib/python3.10/dist-packages/ipykernel/ipkernel.py:283: DeprecationWarning: `should_run_async` will not call `transform_cell` automatically in the future. Please pass the result to `transformed_cell` argument and any exception that happen during thetransform in `preprocessing_exc_tuple` in IPython 7.17 and above.\n",
            "  and should_run_async(code)\n"
          ]
        },
        {
          "output_type": "execute_result",
          "data": {
            "text/plain": [
              "(19820, 20)"
            ]
          },
          "metadata": {},
          "execution_count": 135
        }
      ]
    },
    {
      "cell_type": "code",
      "source": [
        "df.isnull().sum()"
      ],
      "metadata": {
        "colab": {
          "base_uri": "https://localhost:8080/"
        },
        "id": "yJwZl9F-13rL",
        "outputId": "7bce51ef-048b-440f-9bc4-bfddf45ff5dc"
      },
      "execution_count": 136,
      "outputs": [
        {
          "output_type": "execute_result",
          "data": {
            "text/plain": [
              "selling_price              0\n",
              "year                       0\n",
              "km_driven                  0\n",
              "mileage                    0\n",
              "engine                     0\n",
              "max_power                  0\n",
              "make                       0\n",
              "model                      0\n",
              "transmission_type          0\n",
              "seats_coupe                0\n",
              "seats_family               0\n",
              "seats_large                0\n",
              "fuel_cng                   0\n",
              "fuel_diesel                0\n",
              "fuel_electric              0\n",
              "fuel_lpg                   0\n",
              "fuel_petrol                0\n",
              "seller_dealer              0\n",
              "seller_individual          0\n",
              "seller_trustmark dealer    0\n",
              "dtype: int64"
            ]
          },
          "metadata": {},
          "execution_count": 136
        }
      ]
    },
    {
      "cell_type": "code",
      "source": [
        "df.dropna(inplace=True)\n",
        "df.isnull().sum()"
      ],
      "metadata": {
        "colab": {
          "base_uri": "https://localhost:8080/"
        },
        "id": "02FCTiSr2I10",
        "outputId": "e1e88e0b-7187-42a0-e579-53f96db3a325"
      },
      "execution_count": 137,
      "outputs": [
        {
          "output_type": "stream",
          "name": "stderr",
          "text": [
            "/usr/local/lib/python3.10/dist-packages/ipykernel/ipkernel.py:283: DeprecationWarning: `should_run_async` will not call `transform_cell` automatically in the future. Please pass the result to `transformed_cell` argument and any exception that happen during thetransform in `preprocessing_exc_tuple` in IPython 7.17 and above.\n",
            "  and should_run_async(code)\n"
          ]
        },
        {
          "output_type": "execute_result",
          "data": {
            "text/plain": [
              "selling_price              0\n",
              "year                       0\n",
              "km_driven                  0\n",
              "mileage                    0\n",
              "engine                     0\n",
              "max_power                  0\n",
              "make                       0\n",
              "model                      0\n",
              "transmission_type          0\n",
              "seats_coupe                0\n",
              "seats_family               0\n",
              "seats_large                0\n",
              "fuel_cng                   0\n",
              "fuel_diesel                0\n",
              "fuel_electric              0\n",
              "fuel_lpg                   0\n",
              "fuel_petrol                0\n",
              "seller_dealer              0\n",
              "seller_individual          0\n",
              "seller_trustmark dealer    0\n",
              "dtype: int64"
            ]
          },
          "metadata": {},
          "execution_count": 137
        }
      ]
    },
    {
      "cell_type": "code",
      "source": [
        "# Droping categorical variable\n",
        "df.drop(['model','make'], axis=1, inplace=True)"
      ],
      "metadata": {
        "id": "nUG7hiykb0xn",
        "colab": {
          "base_uri": "https://localhost:8080/"
        },
        "outputId": "971a59c7-3183-4885-9116-7b618ecac05b"
      },
      "execution_count": 138,
      "outputs": [
        {
          "output_type": "stream",
          "name": "stderr",
          "text": [
            "/usr/local/lib/python3.10/dist-packages/ipykernel/ipkernel.py:283: DeprecationWarning: `should_run_async` will not call `transform_cell` automatically in the future. Please pass the result to `transformed_cell` argument and any exception that happen during thetransform in `preprocessing_exc_tuple` in IPython 7.17 and above.\n",
            "  and should_run_async(code)\n"
          ]
        }
      ]
    },
    {
      "cell_type": "code",
      "source": [
        "X = df[df.columns.drop('selling_price')] # Apply standization or Normalization\n",
        "Y = df['selling_price']  # Never ever transform Y"
      ],
      "metadata": {
        "id": "sFg7HOpZcBh9",
        "colab": {
          "base_uri": "https://localhost:8080/"
        },
        "outputId": "aa9e233b-e8fe-41dc-adbe-54191e7d98cf"
      },
      "execution_count": 139,
      "outputs": [
        {
          "output_type": "stream",
          "name": "stderr",
          "text": [
            "/usr/local/lib/python3.10/dist-packages/ipykernel/ipkernel.py:283: DeprecationWarning: `should_run_async` will not call `transform_cell` automatically in the future. Please pass the result to `transformed_cell` argument and any exception that happen during thetransform in `preprocessing_exc_tuple` in IPython 7.17 and above.\n",
            "  and should_run_async(code)\n"
          ]
        }
      ]
    },
    {
      "cell_type": "code",
      "source": [
        "print(\"Shape of X: \",X.shape)\n",
        "print(\"Shape of Y: \",Y.shape)"
      ],
      "metadata": {
        "colab": {
          "base_uri": "https://localhost:8080/"
        },
        "id": "gr5QdnILcwBG",
        "outputId": "526d41fb-3a1b-4bff-c256-ddcba099344b"
      },
      "execution_count": 140,
      "outputs": [
        {
          "output_type": "stream",
          "name": "stdout",
          "text": [
            "Shape of X:  (19820, 17)\n",
            "Shape of Y:  (19820,)\n"
          ]
        },
        {
          "output_type": "stream",
          "name": "stderr",
          "text": [
            "/usr/local/lib/python3.10/dist-packages/ipykernel/ipkernel.py:283: DeprecationWarning: `should_run_async` will not call `transform_cell` automatically in the future. Please pass the result to `transformed_cell` argument and any exception that happen during thetransform in `preprocessing_exc_tuple` in IPython 7.17 and above.\n",
            "  and should_run_async(code)\n"
          ]
        }
      ]
    },
    {
      "cell_type": "code",
      "source": [
        "# Applying standardization on X\n",
        "from sklearn.preprocessing import StandardScaler, MinMaxScaler \n",
        "ss = StandardScaler()\n",
        "# X = ss.fit_tansform(X) # This will result in a numpy array but we want dataframe\n",
        "\n",
        "std_X = ss.fit_transform(X)\n",
        "# the std_data is numpy array we we need dataframe so\n",
        "std_X = pd.DataFrame(data=std_X, columns=X.columns)\n",
        "std_X.head()"
      ],
      "metadata": {
        "colab": {
          "base_uri": "https://localhost:8080/",
          "height": 288
        },
        "id": "clB6WXJYiPYT",
        "outputId": "620ced07-81c8-4e44-fe68-9233ed38c518"
      },
      "execution_count": 141,
      "outputs": [
        {
          "output_type": "execute_result",
          "data": {
            "text/plain": [
              "       year  km_driven   mileage    engine  max_power  transmission_type  \\\n",
              "0 -0.801317   1.195828  0.045745 -1.310754  -1.157780           0.495818   \n",
              "1  0.450030  -0.737872 -0.140402 -0.537456  -0.360203           0.495818   \n",
              "2 -1.426990   0.035608 -0.582501 -0.537456  -0.404885           0.495818   \n",
              "3 -0.801317  -0.409143  0.329620 -0.921213  -0.693085           0.495818   \n",
              "4  0.137194  -0.544502  0.760085  0.042999   0.010435           0.495818   \n",
              "\n",
              "   seats_coupe  seats_family  seats_large  fuel_cng  fuel_diesel  \\\n",
              "0    -0.110946       0.20159    -0.166238 -0.127286    -0.985275   \n",
              "1    -0.110946       0.20159    -0.166238 -0.127286    -0.985275   \n",
              "2    -0.110946       0.20159    -0.166238 -0.127286    -0.985275   \n",
              "3    -0.110946       0.20159    -0.166238 -0.127286    -0.985275   \n",
              "4    -0.110946       0.20159    -0.166238 -0.127286     1.014945   \n",
              "\n",
              "   fuel_electric  fuel_lpg  fuel_petrol  seller_dealer  seller_individual  \\\n",
              "0      -0.020095 -0.056917     1.024622      -1.224101           1.248892   \n",
              "1      -0.020095 -0.056917     1.024622      -1.224101           1.248892   \n",
              "2      -0.020095 -0.056917     1.024622      -1.224101           1.248892   \n",
              "3      -0.020095 -0.056917     1.024622      -1.224101           1.248892   \n",
              "4      -0.020095 -0.056917    -0.975970       0.816926          -0.800710   \n",
              "\n",
              "   seller_trustmark dealer  \n",
              "0                -0.098382  \n",
              "1                -0.098382  \n",
              "2                -0.098382  \n",
              "3                -0.098382  \n",
              "4                -0.098382  "
            ],
            "text/html": [
              "\n",
              "  <div id=\"df-b134baec-2530-47bc-bd6d-7b9b9bc3a5eb\">\n",
              "    <div class=\"colab-df-container\">\n",
              "      <div>\n",
              "<style scoped>\n",
              "    .dataframe tbody tr th:only-of-type {\n",
              "        vertical-align: middle;\n",
              "    }\n",
              "\n",
              "    .dataframe tbody tr th {\n",
              "        vertical-align: top;\n",
              "    }\n",
              "\n",
              "    .dataframe thead th {\n",
              "        text-align: right;\n",
              "    }\n",
              "</style>\n",
              "<table border=\"1\" class=\"dataframe\">\n",
              "  <thead>\n",
              "    <tr style=\"text-align: right;\">\n",
              "      <th></th>\n",
              "      <th>year</th>\n",
              "      <th>km_driven</th>\n",
              "      <th>mileage</th>\n",
              "      <th>engine</th>\n",
              "      <th>max_power</th>\n",
              "      <th>transmission_type</th>\n",
              "      <th>seats_coupe</th>\n",
              "      <th>seats_family</th>\n",
              "      <th>seats_large</th>\n",
              "      <th>fuel_cng</th>\n",
              "      <th>fuel_diesel</th>\n",
              "      <th>fuel_electric</th>\n",
              "      <th>fuel_lpg</th>\n",
              "      <th>fuel_petrol</th>\n",
              "      <th>seller_dealer</th>\n",
              "      <th>seller_individual</th>\n",
              "      <th>seller_trustmark dealer</th>\n",
              "    </tr>\n",
              "  </thead>\n",
              "  <tbody>\n",
              "    <tr>\n",
              "      <th>0</th>\n",
              "      <td>-0.801317</td>\n",
              "      <td>1.195828</td>\n",
              "      <td>0.045745</td>\n",
              "      <td>-1.310754</td>\n",
              "      <td>-1.157780</td>\n",
              "      <td>0.495818</td>\n",
              "      <td>-0.110946</td>\n",
              "      <td>0.20159</td>\n",
              "      <td>-0.166238</td>\n",
              "      <td>-0.127286</td>\n",
              "      <td>-0.985275</td>\n",
              "      <td>-0.020095</td>\n",
              "      <td>-0.056917</td>\n",
              "      <td>1.024622</td>\n",
              "      <td>-1.224101</td>\n",
              "      <td>1.248892</td>\n",
              "      <td>-0.098382</td>\n",
              "    </tr>\n",
              "    <tr>\n",
              "      <th>1</th>\n",
              "      <td>0.450030</td>\n",
              "      <td>-0.737872</td>\n",
              "      <td>-0.140402</td>\n",
              "      <td>-0.537456</td>\n",
              "      <td>-0.360203</td>\n",
              "      <td>0.495818</td>\n",
              "      <td>-0.110946</td>\n",
              "      <td>0.20159</td>\n",
              "      <td>-0.166238</td>\n",
              "      <td>-0.127286</td>\n",
              "      <td>-0.985275</td>\n",
              "      <td>-0.020095</td>\n",
              "      <td>-0.056917</td>\n",
              "      <td>1.024622</td>\n",
              "      <td>-1.224101</td>\n",
              "      <td>1.248892</td>\n",
              "      <td>-0.098382</td>\n",
              "    </tr>\n",
              "    <tr>\n",
              "      <th>2</th>\n",
              "      <td>-1.426990</td>\n",
              "      <td>0.035608</td>\n",
              "      <td>-0.582501</td>\n",
              "      <td>-0.537456</td>\n",
              "      <td>-0.404885</td>\n",
              "      <td>0.495818</td>\n",
              "      <td>-0.110946</td>\n",
              "      <td>0.20159</td>\n",
              "      <td>-0.166238</td>\n",
              "      <td>-0.127286</td>\n",
              "      <td>-0.985275</td>\n",
              "      <td>-0.020095</td>\n",
              "      <td>-0.056917</td>\n",
              "      <td>1.024622</td>\n",
              "      <td>-1.224101</td>\n",
              "      <td>1.248892</td>\n",
              "      <td>-0.098382</td>\n",
              "    </tr>\n",
              "    <tr>\n",
              "      <th>3</th>\n",
              "      <td>-0.801317</td>\n",
              "      <td>-0.409143</td>\n",
              "      <td>0.329620</td>\n",
              "      <td>-0.921213</td>\n",
              "      <td>-0.693085</td>\n",
              "      <td>0.495818</td>\n",
              "      <td>-0.110946</td>\n",
              "      <td>0.20159</td>\n",
              "      <td>-0.166238</td>\n",
              "      <td>-0.127286</td>\n",
              "      <td>-0.985275</td>\n",
              "      <td>-0.020095</td>\n",
              "      <td>-0.056917</td>\n",
              "      <td>1.024622</td>\n",
              "      <td>-1.224101</td>\n",
              "      <td>1.248892</td>\n",
              "      <td>-0.098382</td>\n",
              "    </tr>\n",
              "    <tr>\n",
              "      <th>4</th>\n",
              "      <td>0.137194</td>\n",
              "      <td>-0.544502</td>\n",
              "      <td>0.760085</td>\n",
              "      <td>0.042999</td>\n",
              "      <td>0.010435</td>\n",
              "      <td>0.495818</td>\n",
              "      <td>-0.110946</td>\n",
              "      <td>0.20159</td>\n",
              "      <td>-0.166238</td>\n",
              "      <td>-0.127286</td>\n",
              "      <td>1.014945</td>\n",
              "      <td>-0.020095</td>\n",
              "      <td>-0.056917</td>\n",
              "      <td>-0.975970</td>\n",
              "      <td>0.816926</td>\n",
              "      <td>-0.800710</td>\n",
              "      <td>-0.098382</td>\n",
              "    </tr>\n",
              "  </tbody>\n",
              "</table>\n",
              "</div>\n",
              "      <button class=\"colab-df-convert\" onclick=\"convertToInteractive('df-b134baec-2530-47bc-bd6d-7b9b9bc3a5eb')\"\n",
              "              title=\"Convert this dataframe to an interactive table.\"\n",
              "              style=\"display:none;\">\n",
              "        \n",
              "  <svg xmlns=\"http://www.w3.org/2000/svg\" height=\"24px\"viewBox=\"0 0 24 24\"\n",
              "       width=\"24px\">\n",
              "    <path d=\"M0 0h24v24H0V0z\" fill=\"none\"/>\n",
              "    <path d=\"M18.56 5.44l.94 2.06.94-2.06 2.06-.94-2.06-.94-.94-2.06-.94 2.06-2.06.94zm-11 1L8.5 8.5l.94-2.06 2.06-.94-2.06-.94L8.5 2.5l-.94 2.06-2.06.94zm10 10l.94 2.06.94-2.06 2.06-.94-2.06-.94-.94-2.06-.94 2.06-2.06.94z\"/><path d=\"M17.41 7.96l-1.37-1.37c-.4-.4-.92-.59-1.43-.59-.52 0-1.04.2-1.43.59L10.3 9.45l-7.72 7.72c-.78.78-.78 2.05 0 2.83L4 21.41c.39.39.9.59 1.41.59.51 0 1.02-.2 1.41-.59l7.78-7.78 2.81-2.81c.8-.78.8-2.07 0-2.86zM5.41 20L4 18.59l7.72-7.72 1.47 1.35L5.41 20z\"/>\n",
              "  </svg>\n",
              "      </button>\n",
              "      \n",
              "  <style>\n",
              "    .colab-df-container {\n",
              "      display:flex;\n",
              "      flex-wrap:wrap;\n",
              "      gap: 12px;\n",
              "    }\n",
              "\n",
              "    .colab-df-convert {\n",
              "      background-color: #E8F0FE;\n",
              "      border: none;\n",
              "      border-radius: 50%;\n",
              "      cursor: pointer;\n",
              "      display: none;\n",
              "      fill: #1967D2;\n",
              "      height: 32px;\n",
              "      padding: 0 0 0 0;\n",
              "      width: 32px;\n",
              "    }\n",
              "\n",
              "    .colab-df-convert:hover {\n",
              "      background-color: #E2EBFA;\n",
              "      box-shadow: 0px 1px 2px rgba(60, 64, 67, 0.3), 0px 1px 3px 1px rgba(60, 64, 67, 0.15);\n",
              "      fill: #174EA6;\n",
              "    }\n",
              "\n",
              "    [theme=dark] .colab-df-convert {\n",
              "      background-color: #3B4455;\n",
              "      fill: #D2E3FC;\n",
              "    }\n",
              "\n",
              "    [theme=dark] .colab-df-convert:hover {\n",
              "      background-color: #434B5C;\n",
              "      box-shadow: 0px 1px 3px 1px rgba(0, 0, 0, 0.15);\n",
              "      filter: drop-shadow(0px 1px 2px rgba(0, 0, 0, 0.3));\n",
              "      fill: #FFFFFF;\n",
              "    }\n",
              "  </style>\n",
              "\n",
              "      <script>\n",
              "        const buttonEl =\n",
              "          document.querySelector('#df-b134baec-2530-47bc-bd6d-7b9b9bc3a5eb button.colab-df-convert');\n",
              "        buttonEl.style.display =\n",
              "          google.colab.kernel.accessAllowed ? 'block' : 'none';\n",
              "\n",
              "        async function convertToInteractive(key) {\n",
              "          const element = document.querySelector('#df-b134baec-2530-47bc-bd6d-7b9b9bc3a5eb');\n",
              "          const dataTable =\n",
              "            await google.colab.kernel.invokeFunction('convertToInteractive',\n",
              "                                                     [key], {});\n",
              "          if (!dataTable) return;\n",
              "\n",
              "          const docLinkHtml = 'Like what you see? Visit the ' +\n",
              "            '<a target=\"_blank\" href=https://colab.research.google.com/notebooks/data_table.ipynb>data table notebook</a>'\n",
              "            + ' to learn more about interactive tables.';\n",
              "          element.innerHTML = '';\n",
              "          dataTable['output_type'] = 'display_data';\n",
              "          await google.colab.output.renderOutput(dataTable, element);\n",
              "          const docLink = document.createElement('div');\n",
              "          docLink.innerHTML = docLinkHtml;\n",
              "          element.appendChild(docLink);\n",
              "        }\n",
              "      </script>\n",
              "    </div>\n",
              "  </div>\n",
              "  "
            ]
          },
          "metadata": {},
          "execution_count": 141
        }
      ]
    },
    {
      "cell_type": "code",
      "source": [
        "from sklearn.linear_model import LinearRegression\n",
        "lr_model = LinearRegression()\n",
        "lr_model.fit(X,Y)"
      ],
      "metadata": {
        "colab": {
          "base_uri": "https://localhost:8080/",
          "height": 129
        },
        "id": "ibldtrXtiPNR",
        "outputId": "9d6ba04d-be17-4aa1-cb6a-b602481a9002"
      },
      "execution_count": 142,
      "outputs": [
        {
          "output_type": "stream",
          "name": "stderr",
          "text": [
            "/usr/local/lib/python3.10/dist-packages/ipykernel/ipkernel.py:283: DeprecationWarning: `should_run_async` will not call `transform_cell` automatically in the future. Please pass the result to `transformed_cell` argument and any exception that happen during thetransform in `preprocessing_exc_tuple` in IPython 7.17 and above.\n",
            "  and should_run_async(code)\n"
          ]
        },
        {
          "output_type": "execute_result",
          "data": {
            "text/plain": [
              "LinearRegression()"
            ],
            "text/html": [
              "<style>#sk-container-id-6 {color: black;background-color: white;}#sk-container-id-6 pre{padding: 0;}#sk-container-id-6 div.sk-toggleable {background-color: white;}#sk-container-id-6 label.sk-toggleable__label {cursor: pointer;display: block;width: 100%;margin-bottom: 0;padding: 0.3em;box-sizing: border-box;text-align: center;}#sk-container-id-6 label.sk-toggleable__label-arrow:before {content: \"▸\";float: left;margin-right: 0.25em;color: #696969;}#sk-container-id-6 label.sk-toggleable__label-arrow:hover:before {color: black;}#sk-container-id-6 div.sk-estimator:hover label.sk-toggleable__label-arrow:before {color: black;}#sk-container-id-6 div.sk-toggleable__content {max-height: 0;max-width: 0;overflow: hidden;text-align: left;background-color: #f0f8ff;}#sk-container-id-6 div.sk-toggleable__content pre {margin: 0.2em;color: black;border-radius: 0.25em;background-color: #f0f8ff;}#sk-container-id-6 input.sk-toggleable__control:checked~div.sk-toggleable__content {max-height: 200px;max-width: 100%;overflow: auto;}#sk-container-id-6 input.sk-toggleable__control:checked~label.sk-toggleable__label-arrow:before {content: \"▾\";}#sk-container-id-6 div.sk-estimator input.sk-toggleable__control:checked~label.sk-toggleable__label {background-color: #d4ebff;}#sk-container-id-6 div.sk-label input.sk-toggleable__control:checked~label.sk-toggleable__label {background-color: #d4ebff;}#sk-container-id-6 input.sk-hidden--visually {border: 0;clip: rect(1px 1px 1px 1px);clip: rect(1px, 1px, 1px, 1px);height: 1px;margin: -1px;overflow: hidden;padding: 0;position: absolute;width: 1px;}#sk-container-id-6 div.sk-estimator {font-family: monospace;background-color: #f0f8ff;border: 1px dotted black;border-radius: 0.25em;box-sizing: border-box;margin-bottom: 0.5em;}#sk-container-id-6 div.sk-estimator:hover {background-color: #d4ebff;}#sk-container-id-6 div.sk-parallel-item::after {content: \"\";width: 100%;border-bottom: 1px solid gray;flex-grow: 1;}#sk-container-id-6 div.sk-label:hover label.sk-toggleable__label {background-color: #d4ebff;}#sk-container-id-6 div.sk-serial::before {content: \"\";position: absolute;border-left: 1px solid gray;box-sizing: border-box;top: 0;bottom: 0;left: 50%;z-index: 0;}#sk-container-id-6 div.sk-serial {display: flex;flex-direction: column;align-items: center;background-color: white;padding-right: 0.2em;padding-left: 0.2em;position: relative;}#sk-container-id-6 div.sk-item {position: relative;z-index: 1;}#sk-container-id-6 div.sk-parallel {display: flex;align-items: stretch;justify-content: center;background-color: white;position: relative;}#sk-container-id-6 div.sk-item::before, #sk-container-id-6 div.sk-parallel-item::before {content: \"\";position: absolute;border-left: 1px solid gray;box-sizing: border-box;top: 0;bottom: 0;left: 50%;z-index: -1;}#sk-container-id-6 div.sk-parallel-item {display: flex;flex-direction: column;z-index: 1;position: relative;background-color: white;}#sk-container-id-6 div.sk-parallel-item:first-child::after {align-self: flex-end;width: 50%;}#sk-container-id-6 div.sk-parallel-item:last-child::after {align-self: flex-start;width: 50%;}#sk-container-id-6 div.sk-parallel-item:only-child::after {width: 0;}#sk-container-id-6 div.sk-dashed-wrapped {border: 1px dashed gray;margin: 0 0.4em 0.5em 0.4em;box-sizing: border-box;padding-bottom: 0.4em;background-color: white;}#sk-container-id-6 div.sk-label label {font-family: monospace;font-weight: bold;display: inline-block;line-height: 1.2em;}#sk-container-id-6 div.sk-label-container {text-align: center;}#sk-container-id-6 div.sk-container {/* jupyter's `normalize.less` sets `[hidden] { display: none; }` but bootstrap.min.css set `[hidden] { display: none !important; }` so we also need the `!important` here to be able to override the default hidden behavior on the sphinx rendered scikit-learn.org. See: https://github.com/scikit-learn/scikit-learn/issues/21755 */display: inline-block !important;position: relative;}#sk-container-id-6 div.sk-text-repr-fallback {display: none;}</style><div id=\"sk-container-id-6\" class=\"sk-top-container\"><div class=\"sk-text-repr-fallback\"><pre>LinearRegression()</pre><b>In a Jupyter environment, please rerun this cell to show the HTML representation or trust the notebook. <br />On GitHub, the HTML representation is unable to render, please try loading this page with nbviewer.org.</b></div><div class=\"sk-container\" hidden><div class=\"sk-item\"><div class=\"sk-estimator sk-toggleable\"><input class=\"sk-toggleable__control sk-hidden--visually\" id=\"sk-estimator-id-6\" type=\"checkbox\" checked><label for=\"sk-estimator-id-6\" class=\"sk-toggleable__label sk-toggleable__label-arrow\">LinearRegression</label><div class=\"sk-toggleable__content\"><pre>LinearRegression()</pre></div></div></div></div></div>"
            ]
          },
          "metadata": {},
          "execution_count": 142
        }
      ]
    },
    {
      "cell_type": "code",
      "source": [
        "lr_model.intercept_"
      ],
      "metadata": {
        "colab": {
          "base_uri": "https://localhost:8080/"
        },
        "id": "XAHoq-fYiPH6",
        "outputId": "5b12352e-d115-46ac-d077-779a28ed0ac6"
      },
      "execution_count": 143,
      "outputs": [
        {
          "output_type": "stream",
          "name": "stderr",
          "text": [
            "/usr/local/lib/python3.10/dist-packages/ipykernel/ipkernel.py:283: DeprecationWarning: `should_run_async` will not call `transform_cell` automatically in the future. Please pass the result to `transformed_cell` argument and any exception that happen during thetransform in `preprocessing_exc_tuple` in IPython 7.17 and above.\n",
            "  and should_run_async(code)\n"
          ]
        },
        {
          "output_type": "execute_result",
          "data": {
            "text/plain": [
              "-1190.9802251448436"
            ]
          },
          "metadata": {},
          "execution_count": 143
        }
      ]
    },
    {
      "cell_type": "code",
      "source": [
        "lr_model.coef_"
      ],
      "metadata": {
        "colab": {
          "base_uri": "https://localhost:8080/"
        },
        "id": "nvXZlisMiPCo",
        "outputId": "8560dd93-2ee9-4bcb-c268-332ba41c5fdb"
      },
      "execution_count": 144,
      "outputs": [
        {
          "output_type": "execute_result",
          "data": {
            "text/plain": [
              "array([ 5.89665207e-01, -9.15841299e-06,  7.58005033e-02,  2.21408718e-03,\n",
              "        1.13357061e-01, -2.42727857e+00,  5.95507223e+00, -3.02412010e+00,\n",
              "       -2.93095213e+00,  2.41798248e-01, -1.50476425e-01, -2.83711375e+00,\n",
              "        3.29594190e+00, -5.50149978e-01,  3.54460004e-01,  2.53433245e-01,\n",
              "       -6.07893249e-01])"
            ]
          },
          "metadata": {},
          "execution_count": 144
        }
      ]
    },
    {
      "cell_type": "code",
      "source": [
        "lr_model.score(X,Y) # r-square value"
      ],
      "metadata": {
        "colab": {
          "base_uri": "https://localhost:8080/"
        },
        "id": "C705ztTRiO-q",
        "outputId": "d022fcc4-5776-42d8-c493-7a29a6d75197"
      },
      "execution_count": 145,
      "outputs": [
        {
          "output_type": "execute_result",
          "data": {
            "text/plain": [
              "0.613825908544124"
            ]
          },
          "metadata": {},
          "execution_count": 145
        }
      ]
    },
    {
      "cell_type": "code",
      "source": [
        "Adjusted_R_Squared = 1 - (1-lr_model.score(X,Y)) * (len(Y) - 1) / (len(Y) - X.shape[1]-1)\n",
        "Adjusted_R_Squared"
      ],
      "metadata": {
        "colab": {
          "base_uri": "https://localhost:8080/"
        },
        "id": "pi3GIe_4rI0N",
        "outputId": "78e597d1-8f1c-42ad-e637-7745550f9a48"
      },
      "execution_count": 146,
      "outputs": [
        {
          "output_type": "stream",
          "name": "stderr",
          "text": [
            "/usr/local/lib/python3.10/dist-packages/ipykernel/ipkernel.py:283: DeprecationWarning: `should_run_async` will not call `transform_cell` automatically in the future. Please pass the result to `transformed_cell` argument and any exception that happen during thetransform in `preprocessing_exc_tuple` in IPython 7.17 and above.\n",
            "  and should_run_async(code)\n"
          ]
        },
        {
          "output_type": "execute_result",
          "data": {
            "text/plain": [
              "0.6134943784181393"
            ]
          },
          "metadata": {},
          "execution_count": 146
        }
      ]
    },
    {
      "cell_type": "code",
      "source": [
        "output = lr_model.predict(X)\n",
        "output"
      ],
      "metadata": {
        "colab": {
          "base_uri": "https://localhost:8080/"
        },
        "id": "vx3ixkdvqnjs",
        "outputId": "77be7415-561e-4f72-c6ba-3e38f2cab158"
      },
      "execution_count": 147,
      "outputs": [
        {
          "output_type": "stream",
          "name": "stderr",
          "text": [
            "/usr/local/lib/python3.10/dist-packages/ipykernel/ipkernel.py:283: DeprecationWarning: `should_run_async` will not call `transform_cell` automatically in the future. Please pass the result to `transformed_cell` argument and any exception that happen during thetransform in `preprocessing_exc_tuple` in IPython 7.17 and above.\n",
            "  and should_run_async(code)\n"
          ]
        },
        {
          "output_type": "execute_result",
          "data": {
            "text/plain": [
              "array([ -2.9168381 ,   5.23171967,   0.95665683, ...,   7.98798669,\n",
              "       -20.35725942,  14.2246466 ])"
            ]
          },
          "metadata": {},
          "execution_count": 147
        }
      ]
    },
    {
      "cell_type": "code",
      "source": [
        "from sklearn.metrics import mean_absolute_error\n",
        "from sklearn.metrics import mean_squared_error\n",
        "\n",
        "MAE = mean_absolute_error(Y,output)\n",
        "MSE = mean_squared_error(Y, output)\n",
        "RMSE = np.sqrt(MSE)\n",
        "print(\"MAE : \", MAE)\n",
        "print(\"MSE : \", MSE)\n",
        "print(\"RMSE : \", RMSE)"
      ],
      "metadata": {
        "colab": {
          "base_uri": "https://localhost:8080/"
        },
        "id": "akqXWfY8giOe",
        "outputId": "c16ac9a9-f92d-409e-eff4-d1b2f6109c1f"
      },
      "execution_count": 148,
      "outputs": [
        {
          "output_type": "stream",
          "name": "stdout",
          "text": [
            "MAE :  2.737742312222364\n",
            "MSE :  31.684703982406315\n",
            "RMSE :  5.628916768118562\n"
          ]
        },
        {
          "output_type": "stream",
          "name": "stderr",
          "text": [
            "/usr/local/lib/python3.10/dist-packages/ipykernel/ipkernel.py:283: DeprecationWarning: `should_run_async` will not call `transform_cell` automatically in the future. Please pass the result to `transformed_cell` argument and any exception that happen during thetransform in `preprocessing_exc_tuple` in IPython 7.17 and above.\n",
            "  and should_run_async(code)\n"
          ]
        }
      ]
    },
    {
      "cell_type": "markdown",
      "source": [
        "-----\n",
        "## statsmodels implementation"
      ],
      "metadata": {
        "id": "6T6ziMcy8fYF"
      }
    },
    {
      "cell_type": "code",
      "source": [
        "import statsmodels.api as sm"
      ],
      "metadata": {
        "id": "aRjqJZRC8dIf",
        "colab": {
          "base_uri": "https://localhost:8080/"
        },
        "outputId": "4f00bdf3-5fa6-4a37-d44c-4174805587ae"
      },
      "execution_count": 149,
      "outputs": [
        {
          "output_type": "stream",
          "name": "stderr",
          "text": [
            "/usr/local/lib/python3.10/dist-packages/ipykernel/ipkernel.py:283: DeprecationWarning: `should_run_async` will not call `transform_cell` automatically in the future. Please pass the result to `transformed_cell` argument and any exception that happen during thetransform in `preprocessing_exc_tuple` in IPython 7.17 and above.\n",
            "  and should_run_async(code)\n"
          ]
        }
      ]
    },
    {
      "cell_type": "code",
      "source": [
        "X_sm = sm.add_constant(X) # statsmodels default is without intercept, to add intercept we need to add constant\n",
        "sm_model = sm.OLS(Y, X_sm).fit()"
      ],
      "metadata": {
        "id": "iHWXnnSB8dFH"
      },
      "execution_count": 150,
      "outputs": []
    },
    {
      "cell_type": "code",
      "source": [
        "print(sm_model.summary())"
      ],
      "metadata": {
        "colab": {
          "base_uri": "https://localhost:8080/"
        },
        "id": "3LSSXIhm8dAt",
        "outputId": "462e4a3b-86c1-40a5-e506-763de1bee622"
      },
      "execution_count": 151,
      "outputs": [
        {
          "output_type": "stream",
          "name": "stdout",
          "text": [
            "                            OLS Regression Results                            \n",
            "==============================================================================\n",
            "Dep. Variable:          selling_price   R-squared:                       0.614\n",
            "Model:                            OLS   Adj. R-squared:                  0.614\n",
            "Method:                 Least Squares   F-statistic:                     2249.\n",
            "Date:                Fri, 02 Jun 2023   Prob (F-statistic):               0.00\n",
            "Time:                        13:42:49   Log-Likelihood:                -62371.\n",
            "No. Observations:               19820   AIC:                         1.248e+05\n",
            "Df Residuals:                   19805   BIC:                         1.249e+05\n",
            "Df Model:                          14                                         \n",
            "Covariance Type:            nonrobust                                         \n",
            "===========================================================================================\n",
            "                              coef    std err          t      P>|t|      [0.025      0.975]\n",
            "-------------------------------------------------------------------------------------------\n",
            "const                    -638.0251     15.302    -41.697      0.000    -668.018    -608.033\n",
            "year                        0.5897      0.014     41.373      0.000       0.562       0.618\n",
            "km_driven               -9.158e-06   8.57e-07    -10.682      0.000   -1.08e-05   -7.48e-06\n",
            "mileage                     0.0758      0.016      4.772      0.000       0.045       0.107\n",
            "engine                      0.0022      0.000     12.125      0.000       0.002       0.003\n",
            "max_power                   0.1134      0.002     65.084      0.000       0.110       0.117\n",
            "transmission_type          -2.4273      0.123    -19.736      0.000      -2.668      -2.186\n",
            "seats_coupe              -206.7200      5.074    -40.739      0.000    -216.666    -196.774\n",
            "seats_family             -215.6992      5.114    -42.177      0.000    -225.723    -205.675\n",
            "seats_large              -215.6060      5.127    -42.053      0.000    -225.655    -205.557\n",
            "fuel_cng                 -127.3632      3.141    -40.543      0.000    -133.521    -121.206\n",
            "fuel_diesel              -127.7555      3.133    -40.777      0.000    -133.896    -121.615\n",
            "fuel_electric            -130.4421      3.388    -38.507      0.000    -137.082    -123.802\n",
            "fuel_lpg                 -124.3091      3.156    -39.390      0.000    -130.495    -118.123\n",
            "fuel_petrol              -128.1552      3.140    -40.808      0.000    -134.311    -122.000\n",
            "seller_dealer            -212.3206      5.093    -41.692      0.000    -222.302    -202.339\n",
            "seller_individual        -212.4216      5.097    -41.675      0.000    -222.412    -202.431\n",
            "seller_trustmark dealer  -213.2829      5.123    -41.628      0.000    -223.325    -203.240\n",
            "==============================================================================\n",
            "Omnibus:                    36798.081   Durbin-Watson:                   2.015\n",
            "Prob(Omnibus):                  0.000   Jarque-Bera (JB):        271533084.294\n",
            "Skew:                          13.327   Prob(JB):                         0.00\n",
            "Kurtosis:                     575.790   Cond. No.                     9.74e+20\n",
            "==============================================================================\n",
            "\n",
            "Notes:\n",
            "[1] Standard Errors assume that the covariance matrix of the errors is correctly specified.\n",
            "[2] The smallest eigenvalue is 1.27e-28. This might indicate that there are\n",
            "strong multicollinearity problems or that the design matrix is singular.\n"
          ]
        },
        {
          "output_type": "stream",
          "name": "stderr",
          "text": [
            "/usr/local/lib/python3.10/dist-packages/ipykernel/ipkernel.py:283: DeprecationWarning: `should_run_async` will not call `transform_cell` automatically in the future. Please pass the result to `transformed_cell` argument and any exception that happen during thetransform in `preprocessing_exc_tuple` in IPython 7.17 and above.\n",
            "  and should_run_async(code)\n"
          ]
        }
      ]
    },
    {
      "cell_type": "markdown",
      "source": [
        "H0: theta = 0 (theta or coefficient = 0 : Mean to use of that variable in our model) : Y = theta0 + theta1*x1 + ..... \n",
        "\n",
        "Ha: theta != 0 (theta !=0, means variable with theta!=0  has some siginificance).\n",
        "\n",
        "* If p_value < 0.05 :  variable with theta!=0  has some siginificance.\n",
        "* If p_value > 0.05 :  variable with theta=0  has no siginificance.So we can drop those features.\n",
        "* Larger standard errors mean that the estimated coefficients are less precise, resulting in wider confidence intervals. Consequently, it becomes harder to determine the statistical significance of individual predictors and make reliable inferences about their impact.\n"
      ],
      "metadata": {
        "id": "j4jv1CSc_XDK"
      }
    },
    {
      "cell_type": "markdown",
      "source": [
        "## VIF(Variance Inflation Factor)"
      ],
      "metadata": {
        "id": "NMnhm5Zuz8UZ"
      }
    },
    {
      "cell_type": "code",
      "source": [
        "# Calculate the VIF for each independent variable\n",
        "from statsmodels.stats.outliers_influence import variance_inflation_factor\n",
        "\n",
        "vif = pd.DataFrame()\n",
        "vif['Variable'] = X.columns\n",
        "vif['VIF'] = [variance_inflation_factor(X.values, i) for i in range(X.shape[1])]\n",
        "vif = vif.sort_values(by='VIF', ascending=False)\n",
        "print(vif)"
      ],
      "metadata": {
        "id": "eLqRWGbbDwDc",
        "colab": {
          "base_uri": "https://localhost:8080/"
        },
        "outputId": "290827da-1085-49b2-f702-10676f5ace66"
      },
      "execution_count": 152,
      "outputs": [
        {
          "output_type": "stream",
          "name": "stderr",
          "text": [
            "/usr/local/lib/python3.10/dist-packages/ipykernel/ipkernel.py:283: DeprecationWarning: `should_run_async` will not call `transform_cell` automatically in the future. Please pass the result to `transformed_cell` argument and any exception that happen during thetransform in `preprocessing_exc_tuple` in IPython 7.17 and above.\n",
            "  and should_run_async(code)\n",
            "/usr/local/lib/python3.10/dist-packages/statsmodels/stats/outliers_influence.py:195: RuntimeWarning: divide by zero encountered in double_scalars\n",
            "  vif = 1. / (1. - r_squared_i)\n"
          ]
        },
        {
          "output_type": "stream",
          "name": "stdout",
          "text": [
            "                   Variable       VIF\n",
            "8               seats_large       inf\n",
            "9                  fuel_cng       inf\n",
            "15        seller_individual       inf\n",
            "14            seller_dealer       inf\n",
            "13              fuel_petrol       inf\n",
            "12                 fuel_lpg       inf\n",
            "11            fuel_electric       inf\n",
            "10              fuel_diesel       inf\n",
            "16  seller_trustmark dealer       inf\n",
            "7              seats_family       inf\n",
            "6               seats_coupe       inf\n",
            "3                    engine  5.604772\n",
            "4                 max_power  3.798939\n",
            "2                   mileage  2.912553\n",
            "5         transmission_type  1.497576\n",
            "0                      year  1.297353\n",
            "1                 km_driven  1.228862\n"
          ]
        }
      ]
    },
    {
      "cell_type": "markdown",
      "source": [
        "* 5 < ViF > 10: feature has very strong correlation with other variable(s). We can drop this feature.\n",
        "* ViF > 5: feature has marginal correlation with other variable(s)"
      ],
      "metadata": {
        "id": "337-xTld5vTr"
      }
    },
    {
      "cell_type": "markdown",
      "source": [
        "### Model-2"
      ],
      "metadata": {
        "id": "_u2yKfLC8kRE"
      }
    },
    {
      "cell_type": "code",
      "source": [
        "cols2 = ['km_driven', 'year', 'transmission_type', 'mileage', 'max_power', 'engine']"
      ],
      "metadata": {
        "id": "5CxNRBAZ8c6j",
        "colab": {
          "base_uri": "https://localhost:8080/"
        },
        "outputId": "68ab48b3-41f8-450e-853d-eab880fd0b8d"
      },
      "execution_count": 153,
      "outputs": [
        {
          "output_type": "stream",
          "name": "stderr",
          "text": [
            "/usr/local/lib/python3.10/dist-packages/ipykernel/ipkernel.py:283: DeprecationWarning: `should_run_async` will not call `transform_cell` automatically in the future. Please pass the result to `transformed_cell` argument and any exception that happen during thetransform in `preprocessing_exc_tuple` in IPython 7.17 and above.\n",
            "  and should_run_async(code)\n"
          ]
        }
      ]
    },
    {
      "cell_type": "code",
      "source": [
        "X2 = X[cols2]\n",
        "\n",
        "X2_sm = sm.add_constant(X2) # statsmodels default is without intercept, to add intercept we need to add constant\n",
        "\n",
        "sm_model2 = sm.OLS(Y, X2_sm).fit()"
      ],
      "metadata": {
        "id": "VtBuB-Le8czS"
      },
      "execution_count": 154,
      "outputs": []
    },
    {
      "cell_type": "code",
      "source": [
        "print(sm_model2.summary())"
      ],
      "metadata": {
        "id": "bZhyrgvi8crM",
        "colab": {
          "base_uri": "https://localhost:8080/"
        },
        "outputId": "b84a7062-0e76-4ba3-96b7-b9cf93148c05"
      },
      "execution_count": 155,
      "outputs": [
        {
          "output_type": "stream",
          "name": "stdout",
          "text": [
            "                            OLS Regression Results                            \n",
            "==============================================================================\n",
            "Dep. Variable:          selling_price   R-squared:                       0.602\n",
            "Model:                            OLS   Adj. R-squared:                  0.602\n",
            "Method:                 Least Squares   F-statistic:                     4988.\n",
            "Date:                Fri, 02 Jun 2023   Prob (F-statistic):               0.00\n",
            "Time:                        13:42:50   Log-Likelihood:                -62677.\n",
            "No. Observations:               19820   AIC:                         1.254e+05\n",
            "Df Residuals:                   19813   BIC:                         1.254e+05\n",
            "Df Model:                           6                                         \n",
            "Covariance Type:            nonrobust                                         \n",
            "=====================================================================================\n",
            "                        coef    std err          t      P>|t|      [0.025      0.975]\n",
            "-------------------------------------------------------------------------------------\n",
            "const             -1101.3632     28.561    -38.562      0.000   -1157.345   -1045.382\n",
            "km_driven         -9.698e-06   8.54e-07    -11.362      0.000   -1.14e-05   -8.03e-06\n",
            "year                  0.5430      0.014     38.201      0.000       0.515       0.571\n",
            "transmission_type    -2.4888      0.123    -20.184      0.000      -2.730      -2.247\n",
            "mileage               0.1197      0.012      9.720      0.000       0.096       0.144\n",
            "max_power             0.1171      0.002     69.447      0.000       0.114       0.120\n",
            "engine                0.0024      0.000     16.724      0.000       0.002       0.003\n",
            "==============================================================================\n",
            "Omnibus:                    37097.680   Durbin-Watson:                   2.010\n",
            "Prob(Omnibus):                  0.000   Jarque-Bera (JB):        283074427.652\n",
            "Skew:                          13.570   Prob(JB):                         0.00\n",
            "Kurtosis:                     587.840   Cond. No.                     5.47e+07\n",
            "==============================================================================\n",
            "\n",
            "Notes:\n",
            "[1] Standard Errors assume that the covariance matrix of the errors is correctly specified.\n",
            "[2] The condition number is large, 5.47e+07. This might indicate that there are\n",
            "strong multicollinearity or other numerical problems.\n"
          ]
        },
        {
          "output_type": "stream",
          "name": "stderr",
          "text": [
            "/usr/local/lib/python3.10/dist-packages/ipykernel/ipkernel.py:283: DeprecationWarning: `should_run_async` will not call `transform_cell` automatically in the future. Please pass the result to `transformed_cell` argument and any exception that happen during thetransform in `preprocessing_exc_tuple` in IPython 7.17 and above.\n",
            "  and should_run_async(code)\n"
          ]
        }
      ]
    },
    {
      "cell_type": "markdown",
      "source": [
        "### Model-3"
      ],
      "metadata": {
        "id": "MchgQfQ2-mqa"
      }
    },
    {
      "cell_type": "code",
      "source": [
        "cols3 = ['km_driven', 'year', 'transmission_type','max_power', 'fuel_electric','seats_coupe']\n",
        "\n",
        "X3 = X[cols3]\n",
        "X3_sm = sm.add_constant(X3) # statsmodels default is without intercept, to add intercept we need to add constant\n",
        "sm_model3 = sm.OLS(Y, X3_sm).fit()\n",
        "\n",
        "print(sm_model3.summary())"
      ],
      "metadata": {
        "colab": {
          "base_uri": "https://localhost:8080/"
        },
        "id": "oeBvJpgQ-qrT",
        "outputId": "1147c010-2b46-4872-b81f-94f32a30a1d5"
      },
      "execution_count": 156,
      "outputs": [
        {
          "output_type": "stream",
          "name": "stdout",
          "text": [
            "                            OLS Regression Results                            \n",
            "==============================================================================\n",
            "Dep. Variable:          selling_price   R-squared:                       0.607\n",
            "Model:                            OLS   Adj. R-squared:                  0.606\n",
            "Method:                 Least Squares   F-statistic:                     5090.\n",
            "Date:                Fri, 02 Jun 2023   Prob (F-statistic):               0.00\n",
            "Time:                        13:42:50   Log-Likelihood:                -62556.\n",
            "No. Observations:               19820   AIC:                         1.251e+05\n",
            "Df Residuals:                   19813   BIC:                         1.252e+05\n",
            "Df Model:                           6                                         \n",
            "Covariance Type:            nonrobust                                         \n",
            "=====================================================================================\n",
            "                        coef    std err          t      P>|t|      [0.025      0.975]\n",
            "-------------------------------------------------------------------------------------\n",
            "const             -1203.7747     27.025    -44.542      0.000   -1256.747   -1150.803\n",
            "km_driven         -5.117e-06   8.26e-07     -6.194      0.000   -6.74e-06    -3.5e-06\n",
            "year                  0.5957      0.013     44.432      0.000       0.569       0.622\n",
            "transmission_type    -2.1609      0.122    -17.729      0.000      -2.400      -1.922\n",
            "max_power             0.1325      0.001    122.301      0.000       0.130       0.135\n",
            "fuel_electric         1.5107      2.013      0.751      0.453      -2.434       5.456\n",
            "seats_coupe           8.6702      0.373     23.216      0.000       7.938       9.402\n",
            "==============================================================================\n",
            "Omnibus:                    35995.866   Durbin-Watson:                   2.014\n",
            "Prob(Omnibus):                  0.000   Jarque-Bera (JB):        230783059.888\n",
            "Skew:                          12.713   Prob(JB):                         0.00\n",
            "Kurtosis:                     531.023   Cond. No.                     5.21e+07\n",
            "==============================================================================\n",
            "\n",
            "Notes:\n",
            "[1] Standard Errors assume that the covariance matrix of the errors is correctly specified.\n",
            "[2] The condition number is large, 5.21e+07. This might indicate that there are\n",
            "strong multicollinearity or other numerical problems.\n"
          ]
        },
        {
          "output_type": "stream",
          "name": "stderr",
          "text": [
            "/usr/local/lib/python3.10/dist-packages/ipykernel/ipkernel.py:283: DeprecationWarning: `should_run_async` will not call `transform_cell` automatically in the future. Please pass the result to `transformed_cell` argument and any exception that happen during thetransform in `preprocessing_exc_tuple` in IPython 7.17 and above.\n",
            "  and should_run_async(code)\n"
          ]
        }
      ]
    },
    {
      "cell_type": "markdown",
      "source": [
        "Drop 'fuel_electric' because p-value>0.05 mean Ho(coeff=0) is True. This feature has no significance."
      ],
      "metadata": {
        "id": "-BNgp4BrAOPx"
      }
    },
    {
      "cell_type": "markdown",
      "source": [
        "### Model-4"
      ],
      "metadata": {
        "id": "XMHgUlGkB0_l"
      }
    },
    {
      "cell_type": "code",
      "source": [
        "cols4 = ['km_driven', 'year', 'transmission_type','max_power', 'engine','seats_coupe']\n",
        "\n",
        "X4 = X[cols4]\n",
        "X4_sm = sm.add_constant(X4) # statsmodels default is without intercept, to add intercept we need to add constant\n",
        "sm_model4 = sm.OLS(Y, X4_sm).fit()\n",
        "\n",
        "print(sm_model4.summary())"
      ],
      "metadata": {
        "colab": {
          "base_uri": "https://localhost:8080/"
        },
        "id": "8fYA2K-T-qhj",
        "outputId": "44170ab9-c22f-4c4d-8695-1717c2669d84"
      },
      "execution_count": 157,
      "outputs": [
        {
          "output_type": "stream",
          "name": "stdout",
          "text": [
            "                            OLS Regression Results                            \n",
            "==============================================================================\n",
            "Dep. Variable:          selling_price   R-squared:                       0.611\n",
            "Model:                            OLS   Adj. R-squared:                  0.611\n",
            "Method:                 Least Squares   F-statistic:                     5196.\n",
            "Date:                Fri, 02 Jun 2023   Prob (F-statistic):               0.00\n",
            "Time:                        13:42:50   Log-Likelihood:                -62432.\n",
            "No. Observations:               19820   AIC:                         1.249e+05\n",
            "Df Residuals:                   19813   BIC:                         1.249e+05\n",
            "Df Model:                           6                                         \n",
            "Covariance Type:            nonrobust                                         \n",
            "=====================================================================================\n",
            "                        coef    std err          t      P>|t|      [0.025      0.975]\n",
            "-------------------------------------------------------------------------------------\n",
            "const             -1253.2863     27.036    -46.357      0.000   -1306.279   -1200.294\n",
            "km_driven         -7.964e-06    8.4e-07     -9.477      0.000   -9.61e-06   -6.32e-06\n",
            "year                  0.6199      0.013     46.227      0.000       0.594       0.646\n",
            "transmission_type    -2.3374      0.121    -19.246      0.000      -2.576      -2.099\n",
            "max_power             0.1121      0.002     66.851      0.000       0.109       0.115\n",
            "engine                0.0021      0.000     15.868      0.000       0.002       0.002\n",
            "seats_coupe           9.0661      0.372     24.382      0.000       8.337       9.795\n",
            "==============================================================================\n",
            "Omnibus:                    36607.794   Durbin-Watson:                   2.012\n",
            "Prob(Omnibus):                  0.000   Jarque-Bera (JB):        262332940.900\n",
            "Skew:                          13.178   Prob(JB):                         0.00\n",
            "Kurtosis:                     565.995   Cond. No.                     5.25e+07\n",
            "==============================================================================\n",
            "\n",
            "Notes:\n",
            "[1] Standard Errors assume that the covariance matrix of the errors is correctly specified.\n",
            "[2] The condition number is large, 5.25e+07. This might indicate that there are\n",
            "strong multicollinearity or other numerical problems.\n"
          ]
        },
        {
          "output_type": "stream",
          "name": "stderr",
          "text": [
            "/usr/local/lib/python3.10/dist-packages/ipykernel/ipkernel.py:283: DeprecationWarning: `should_run_async` will not call `transform_cell` automatically in the future. Please pass the result to `transformed_cell` argument and any exception that happen during thetransform in `preprocessing_exc_tuple` in IPython 7.17 and above.\n",
            "  and should_run_async(code)\n"
          ]
        }
      ]
    },
    {
      "cell_type": "code",
      "source": [
        "vif = pd.DataFrame()\n",
        "vif['Variable'] = X4.columns\n",
        "vif['VIF'] = [variance_inflation_factor(X4.values, i) for i in range(X4.shape[1])]\n",
        "vif = vif.sort_values(by='VIF', ascending=False)\n",
        "print(vif)"
      ],
      "metadata": {
        "colab": {
          "base_uri": "https://localhost:8080/"
        },
        "id": "fc-E-9wh-qYw",
        "outputId": "96d38780-c679-4290-c4c8-2ac05230faa7"
      },
      "execution_count": 158,
      "outputs": [
        {
          "output_type": "stream",
          "name": "stderr",
          "text": [
            "/usr/local/lib/python3.10/dist-packages/ipykernel/ipkernel.py:283: DeprecationWarning: `should_run_async` will not call `transform_cell` automatically in the future. Please pass the result to `transformed_cell` argument and any exception that happen during thetransform in `preprocessing_exc_tuple` in IPython 7.17 and above.\n",
            "  and should_run_async(code)\n"
          ]
        },
        {
          "output_type": "stream",
          "name": "stdout",
          "text": [
            "            Variable        VIF\n",
            "4             engine  26.531411\n",
            "1               year  22.394214\n",
            "3          max_power  20.046929\n",
            "2  transmission_type   7.341467\n",
            "0          km_driven   2.454183\n",
            "5        seats_coupe   1.033742\n"
          ]
        }
      ]
    },
    {
      "cell_type": "code",
      "source": [
        "from sklearn.model_selection import train_test_split"
      ],
      "metadata": {
        "id": "cj1haj0b-qF-",
        "colab": {
          "base_uri": "https://localhost:8080/"
        },
        "outputId": "e9e5a58e-4544-4496-d6c8-5cb109f04fd1"
      },
      "execution_count": 159,
      "outputs": [
        {
          "output_type": "stream",
          "name": "stderr",
          "text": [
            "/usr/local/lib/python3.10/dist-packages/ipykernel/ipkernel.py:283: DeprecationWarning: `should_run_async` will not call `transform_cell` automatically in the future. Please pass the result to `transformed_cell` argument and any exception that happen during thetransform in `preprocessing_exc_tuple` in IPython 7.17 and above.\n",
            "  and should_run_async(code)\n"
          ]
        }
      ]
    },
    {
      "cell_type": "code",
      "source": [
        "print(X4.head())\n",
        "print(X4.shape)"
      ],
      "metadata": {
        "colab": {
          "base_uri": "https://localhost:8080/"
        },
        "id": "lbvE3RdYUpSb",
        "outputId": "b8d709a9-3b9e-4fed-f47d-ee37543b0922"
      },
      "execution_count": 160,
      "outputs": [
        {
          "output_type": "stream",
          "name": "stdout",
          "text": [
            "   km_driven    year  transmission_type  max_power  engine  seats_coupe\n",
            "0     120000  2012.0                  1      46.30   796.0            0\n",
            "1      20000  2016.0                  1      82.00  1197.0            0\n",
            "2      60000  2010.0                  1      80.00  1197.0            0\n",
            "3      37000  2012.0                  1      67.10   998.0            0\n",
            "4      30000  2015.0                  1      98.59  1498.0            0\n",
            "(19820, 6)\n"
          ]
        }
      ]
    },
    {
      "cell_type": "code",
      "source": [
        "x_train, x_test, y_train, y_test = train_test_split(X4, Y, test_size=0.1, random_state=1)"
      ],
      "metadata": {
        "id": "lWUnKCT0-qAO",
        "colab": {
          "base_uri": "https://localhost:8080/"
        },
        "outputId": "c958ebb2-4da3-475b-af02-4b324fb2accb"
      },
      "execution_count": 161,
      "outputs": [
        {
          "output_type": "stream",
          "name": "stderr",
          "text": [
            "/usr/local/lib/python3.10/dist-packages/ipykernel/ipkernel.py:283: DeprecationWarning: `should_run_async` will not call `transform_cell` automatically in the future. Please pass the result to `transformed_cell` argument and any exception that happen during thetransform in `preprocessing_exc_tuple` in IPython 7.17 and above.\n",
            "  and should_run_async(code)\n"
          ]
        }
      ]
    },
    {
      "cell_type": "code",
      "source": [
        "print(\"x_train shape: \",x_train.shape)\n",
        "print(\"y_train shape: \",y_train.shape)\n",
        "print(\"x_test shape: \",x_test.shape)\n",
        "print(\"y_test shape: \",y_test.shape)"
      ],
      "metadata": {
        "colab": {
          "base_uri": "https://localhost:8080/"
        },
        "id": "BvYiSH8MWYaE",
        "outputId": "ae8a6eda-4cc6-4e87-b1e7-409593033421"
      },
      "execution_count": 162,
      "outputs": [
        {
          "output_type": "stream",
          "name": "stdout",
          "text": [
            "x_train shape:  (17838, 6)\n",
            "y_train shape:  (17838,)\n",
            "x_test shape:  (1982, 6)\n",
            "y_test shape:  (1982,)\n"
          ]
        }
      ]
    },
    {
      "cell_type": "code",
      "source": [
        "final_model = LinearRegression()\n",
        "final_model.fit(x_train, y_train)"
      ],
      "metadata": {
        "colab": {
          "base_uri": "https://localhost:8080/",
          "height": 75
        },
        "id": "tWl51tKWW5bQ",
        "outputId": "0b6abb99-758a-4b3e-c38a-36c705373e3c"
      },
      "execution_count": 163,
      "outputs": [
        {
          "output_type": "execute_result",
          "data": {
            "text/plain": [
              "LinearRegression()"
            ],
            "text/html": [
              "<style>#sk-container-id-7 {color: black;background-color: white;}#sk-container-id-7 pre{padding: 0;}#sk-container-id-7 div.sk-toggleable {background-color: white;}#sk-container-id-7 label.sk-toggleable__label {cursor: pointer;display: block;width: 100%;margin-bottom: 0;padding: 0.3em;box-sizing: border-box;text-align: center;}#sk-container-id-7 label.sk-toggleable__label-arrow:before {content: \"▸\";float: left;margin-right: 0.25em;color: #696969;}#sk-container-id-7 label.sk-toggleable__label-arrow:hover:before {color: black;}#sk-container-id-7 div.sk-estimator:hover label.sk-toggleable__label-arrow:before {color: black;}#sk-container-id-7 div.sk-toggleable__content {max-height: 0;max-width: 0;overflow: hidden;text-align: left;background-color: #f0f8ff;}#sk-container-id-7 div.sk-toggleable__content pre {margin: 0.2em;color: black;border-radius: 0.25em;background-color: #f0f8ff;}#sk-container-id-7 input.sk-toggleable__control:checked~div.sk-toggleable__content {max-height: 200px;max-width: 100%;overflow: auto;}#sk-container-id-7 input.sk-toggleable__control:checked~label.sk-toggleable__label-arrow:before {content: \"▾\";}#sk-container-id-7 div.sk-estimator input.sk-toggleable__control:checked~label.sk-toggleable__label {background-color: #d4ebff;}#sk-container-id-7 div.sk-label input.sk-toggleable__control:checked~label.sk-toggleable__label {background-color: #d4ebff;}#sk-container-id-7 input.sk-hidden--visually {border: 0;clip: rect(1px 1px 1px 1px);clip: rect(1px, 1px, 1px, 1px);height: 1px;margin: -1px;overflow: hidden;padding: 0;position: absolute;width: 1px;}#sk-container-id-7 div.sk-estimator {font-family: monospace;background-color: #f0f8ff;border: 1px dotted black;border-radius: 0.25em;box-sizing: border-box;margin-bottom: 0.5em;}#sk-container-id-7 div.sk-estimator:hover {background-color: #d4ebff;}#sk-container-id-7 div.sk-parallel-item::after {content: \"\";width: 100%;border-bottom: 1px solid gray;flex-grow: 1;}#sk-container-id-7 div.sk-label:hover label.sk-toggleable__label {background-color: #d4ebff;}#sk-container-id-7 div.sk-serial::before {content: \"\";position: absolute;border-left: 1px solid gray;box-sizing: border-box;top: 0;bottom: 0;left: 50%;z-index: 0;}#sk-container-id-7 div.sk-serial {display: flex;flex-direction: column;align-items: center;background-color: white;padding-right: 0.2em;padding-left: 0.2em;position: relative;}#sk-container-id-7 div.sk-item {position: relative;z-index: 1;}#sk-container-id-7 div.sk-parallel {display: flex;align-items: stretch;justify-content: center;background-color: white;position: relative;}#sk-container-id-7 div.sk-item::before, #sk-container-id-7 div.sk-parallel-item::before {content: \"\";position: absolute;border-left: 1px solid gray;box-sizing: border-box;top: 0;bottom: 0;left: 50%;z-index: -1;}#sk-container-id-7 div.sk-parallel-item {display: flex;flex-direction: column;z-index: 1;position: relative;background-color: white;}#sk-container-id-7 div.sk-parallel-item:first-child::after {align-self: flex-end;width: 50%;}#sk-container-id-7 div.sk-parallel-item:last-child::after {align-self: flex-start;width: 50%;}#sk-container-id-7 div.sk-parallel-item:only-child::after {width: 0;}#sk-container-id-7 div.sk-dashed-wrapped {border: 1px dashed gray;margin: 0 0.4em 0.5em 0.4em;box-sizing: border-box;padding-bottom: 0.4em;background-color: white;}#sk-container-id-7 div.sk-label label {font-family: monospace;font-weight: bold;display: inline-block;line-height: 1.2em;}#sk-container-id-7 div.sk-label-container {text-align: center;}#sk-container-id-7 div.sk-container {/* jupyter's `normalize.less` sets `[hidden] { display: none; }` but bootstrap.min.css set `[hidden] { display: none !important; }` so we also need the `!important` here to be able to override the default hidden behavior on the sphinx rendered scikit-learn.org. See: https://github.com/scikit-learn/scikit-learn/issues/21755 */display: inline-block !important;position: relative;}#sk-container-id-7 div.sk-text-repr-fallback {display: none;}</style><div id=\"sk-container-id-7\" class=\"sk-top-container\"><div class=\"sk-text-repr-fallback\"><pre>LinearRegression()</pre><b>In a Jupyter environment, please rerun this cell to show the HTML representation or trust the notebook. <br />On GitHub, the HTML representation is unable to render, please try loading this page with nbviewer.org.</b></div><div class=\"sk-container\" hidden><div class=\"sk-item\"><div class=\"sk-estimator sk-toggleable\"><input class=\"sk-toggleable__control sk-hidden--visually\" id=\"sk-estimator-id-7\" type=\"checkbox\" checked><label for=\"sk-estimator-id-7\" class=\"sk-toggleable__label sk-toggleable__label-arrow\">LinearRegression</label><div class=\"sk-toggleable__content\"><pre>LinearRegression()</pre></div></div></div></div></div>"
            ]
          },
          "metadata": {},
          "execution_count": 163
        }
      ]
    },
    {
      "cell_type": "code",
      "source": [
        "final_model.score(x_train, y_train)"
      ],
      "metadata": {
        "colab": {
          "base_uri": "https://localhost:8080/"
        },
        "id": "8U6jKoykXIFo",
        "outputId": "10627205-e3ed-4484-f046-ffcb42d4417b"
      },
      "execution_count": 164,
      "outputs": [
        {
          "output_type": "stream",
          "name": "stderr",
          "text": [
            "/usr/local/lib/python3.10/dist-packages/ipykernel/ipkernel.py:283: DeprecationWarning: `should_run_async` will not call `transform_cell` automatically in the future. Please pass the result to `transformed_cell` argument and any exception that happen during thetransform in `preprocessing_exc_tuple` in IPython 7.17 and above.\n",
            "  and should_run_async(code)\n"
          ]
        },
        {
          "output_type": "execute_result",
          "data": {
            "text/plain": [
              "0.6100390860403662"
            ]
          },
          "metadata": {},
          "execution_count": 164
        }
      ]
    },
    {
      "cell_type": "code",
      "source": [
        "y_pred = final_model.predict(x_test) # this will give prediction on test dataset"
      ],
      "metadata": {
        "id": "vZA6_nloXQVL",
        "colab": {
          "base_uri": "https://localhost:8080/"
        },
        "outputId": "08b0a2fb-fe3c-446d-f53f-82480fcfe9f4"
      },
      "execution_count": 165,
      "outputs": [
        {
          "output_type": "stream",
          "name": "stderr",
          "text": [
            "/usr/local/lib/python3.10/dist-packages/ipykernel/ipkernel.py:283: DeprecationWarning: `should_run_async` will not call `transform_cell` automatically in the future. Please pass the result to `transformed_cell` argument and any exception that happen during thetransform in `preprocessing_exc_tuple` in IPython 7.17 and above.\n",
            "  and should_run_async(code)\n"
          ]
        }
      ]
    },
    {
      "cell_type": "code",
      "source": [
        "# Model performance\n",
        "from sklearn.metrics import mean_absolute_error, mean_squared_error, mean_absolute_percentage_error\n",
        "\n",
        "MAE = mean_absolute_error(y_test,y_pred)\n",
        "MSE = mean_squared_error(y_test, y_pred)\n",
        "MAPE = mean_absolute_percentage_error(y_test, y_pred)\n",
        "RMSE = np.sqrt(MSE)\n",
        "print(\"MAE : \", MAE)\n",
        "print(\"MSE : \", MSE)\n",
        "print(\"MAPE : \", MAPE)\n",
        "print(\"RMSE : \", RMSE)"
      ],
      "metadata": {
        "colab": {
          "base_uri": "https://localhost:8080/"
        },
        "id": "1ccfqQgfXW1D",
        "outputId": "a0d07c76-1e61-47db-9cc8-f7ad67743000"
      },
      "execution_count": 166,
      "outputs": [
        {
          "output_type": "stream",
          "name": "stdout",
          "text": [
            "MAE :  2.8157245895217464\n",
            "MSE :  27.036450750588955\n",
            "MAPE :  0.5821886174802595\n",
            "RMSE :  5.199658714818594\n"
          ]
        },
        {
          "output_type": "stream",
          "name": "stderr",
          "text": [
            "/usr/local/lib/python3.10/dist-packages/ipykernel/ipkernel.py:283: DeprecationWarning: `should_run_async` will not call `transform_cell` automatically in the future. Please pass the result to `transformed_cell` argument and any exception that happen during thetransform in `preprocessing_exc_tuple` in IPython 7.17 and above.\n",
            "  and should_run_async(code)\n"
          ]
        }
      ]
    },
    {
      "cell_type": "code",
      "source": [
        "MAE = mean_absolute_error(y_pred,y_test)\n",
        "MSE = mean_squared_error(y_pred,y_test)\n",
        "MAPE = mean_absolute_percentage_error(y_pred,y_test)\n",
        "RMSE = np.sqrt(MSE)\n",
        "print(\"MAE : \", MAE)\n",
        "print(\"MSE : \", MSE)\n",
        "print(\"MAPE : \", MAPE)\n",
        "print(\"RMSE : \", RMSE)"
      ],
      "metadata": {
        "colab": {
          "base_uri": "https://localhost:8080/"
        },
        "id": "U7x0l6soYtxe",
        "outputId": "572e6011-7c41-4c63-82db-c7be380f1782"
      },
      "execution_count": 167,
      "outputs": [
        {
          "output_type": "stream",
          "name": "stdout",
          "text": [
            "MAE :  2.8157245895217464\n",
            "MSE :  27.036450750588955\n",
            "MAPE :  1.6471312290450013\n",
            "RMSE :  5.199658714818594\n"
          ]
        },
        {
          "output_type": "stream",
          "name": "stderr",
          "text": [
            "/usr/local/lib/python3.10/dist-packages/ipykernel/ipkernel.py:283: DeprecationWarning: `should_run_async` will not call `transform_cell` automatically in the future. Please pass the result to `transformed_cell` argument and any exception that happen during thetransform in `preprocessing_exc_tuple` in IPython 7.17 and above.\n",
            "  and should_run_async(code)\n"
          ]
        }
      ]
    },
    {
      "cell_type": "markdown",
      "source": [
        "**Observation** : RMSE = 5.1996 is quiet high\n",
        "\n",
        "Lets check the distribution of the target variable."
      ],
      "metadata": {
        "id": "s4dKm4uHZqML"
      }
    },
    {
      "cell_type": "code",
      "source": [
        "plt.figure(figsize=(5,3))\n",
        "sns.distplot(y_train)\n",
        "plt.show()"
      ],
      "metadata": {
        "colab": {
          "base_uri": "https://localhost:8080/",
          "height": 557
        },
        "id": "vO_q-dkLZPY6",
        "outputId": "8ec378bd-f065-4a0d-85a5-011989998750"
      },
      "execution_count": 168,
      "outputs": [
        {
          "output_type": "stream",
          "name": "stderr",
          "text": [
            "/usr/local/lib/python3.10/dist-packages/ipykernel/ipkernel.py:283: DeprecationWarning: `should_run_async` will not call `transform_cell` automatically in the future. Please pass the result to `transformed_cell` argument and any exception that happen during thetransform in `preprocessing_exc_tuple` in IPython 7.17 and above.\n",
            "  and should_run_async(code)\n",
            "<ipython-input-168-92c5c1ef71b4>:2: UserWarning: \n",
            "\n",
            "`distplot` is a deprecated function and will be removed in seaborn v0.14.0.\n",
            "\n",
            "Please adapt your code to use either `displot` (a figure-level function with\n",
            "similar flexibility) or `histplot` (an axes-level function for histograms).\n",
            "\n",
            "For a guide to updating your code to use the new functions, please see\n",
            "https://gist.github.com/mwaskom/de44147ed2974457ad6372750bbe5751\n",
            "\n",
            "  sns.distplot(y_train)\n"
          ]
        },
        {
          "output_type": "display_data",
          "data": {
            "text/plain": [
              "<Figure size 500x300 with 1 Axes>"
            ],
            "image/png": "[encoded data removed]"
          },
          "metadata": {}
        }
      ]
    },
    {
      "cell_type": "code",
      "source": [
        "plt.figure(figsize=(5,3))\n",
        "sns.distplot(y_pred)"
      ],
      "metadata": {
        "colab": {
          "base_uri": "https://localhost:8080/",
          "height": 554
        },
        "id": "JHUbeXTeZ_Ln",
        "outputId": "ae93b3c3-83eb-44f5-8056-a454f66fc523"
      },
      "execution_count": 169,
      "outputs": [
        {
          "output_type": "stream",
          "name": "stderr",
          "text": [
            "/usr/local/lib/python3.10/dist-packages/ipykernel/ipkernel.py:283: DeprecationWarning: `should_run_async` will not call `transform_cell` automatically in the future. Please pass the result to `transformed_cell` argument and any exception that happen during thetransform in `preprocessing_exc_tuple` in IPython 7.17 and above.\n",
            "  and should_run_async(code)\n",
            "<ipython-input-169-ee822cf756c7>:2: UserWarning: \n",
            "\n",
            "`distplot` is a deprecated function and will be removed in seaborn v0.14.0.\n",
            "\n",
            "Please adapt your code to use either `displot` (a figure-level function with\n",
            "similar flexibility) or `histplot` (an axes-level function for histograms).\n",
            "\n",
            "For a guide to updating your code to use the new functions, please see\n",
            "https://gist.github.com/mwaskom/de44147ed2974457ad6372750bbe5751\n",
            "\n",
            "  sns.distplot(y_pred)\n"
          ]
        },
        {
          "output_type": "execute_result",
          "data": {
            "text/plain": [
              "<Axes: ylabel='Density'>"
            ]
          },
          "metadata": {},
          "execution_count": 169
        },
        {
          "output_type": "display_data",
          "data": {
            "text/plain": [
              "<Figure size 500x300 with 1 Axes>"
            ],
            "image/png": "[encoded data removed]"
          },
          "metadata": {}
        }
      ]
    },
    {
      "cell_type": "markdown",
      "source": [
        "## Residual Analysis"
      ],
      "metadata": {
        "id": "sG0YsA_ffVjj"
      }
    },
    {
      "cell_type": "markdown",
      "source": [
        "The assumptions for residuals in a linear regression model are:\n",
        "\n",
        "* Linearity: The residuals should be linearly related to the independent variables. This means that the residuals should not have any curvature or other non-linear patterns.\n",
        "* Homoscedasticity: The residuals should have constant variance. This means that the spread of the residuals should be the same for all values of the independent variables.\n",
        "* Independence: The residuals should be independent of each other. This means that the value of any one residual should not be related to the value of any other residual.\n",
        "* Normality: The residuals should be normally distributed. This means that the residuals should be bell-shaped and symmetrical around zero."
      ],
      "metadata": {
        "id": "3Y1czPkafoqN"
      }
    },
    {
      "cell_type": "markdown",
      "source": [
        "### Errors normaly distributed or not?"
      ],
      "metadata": {
        "id": "1_eq17p9fZZB"
      }
    },
    {
      "cell_type": "code",
      "source": [
        "pred = final_model.predict(x_train)"
      ],
      "metadata": {
        "id": "DXxuQ5lIamYU",
        "colab": {
          "base_uri": "https://localhost:8080/"
        },
        "outputId": "c5060c8e-169f-45ca-f3ea-66a6bcf2a02d"
      },
      "execution_count": 170,
      "outputs": [
        {
          "output_type": "stream",
          "name": "stderr",
          "text": [
            "/usr/local/lib/python3.10/dist-packages/ipykernel/ipkernel.py:283: DeprecationWarning: `should_run_async` will not call `transform_cell` automatically in the future. Please pass the result to `transformed_cell` argument and any exception that happen during thetransform in `preprocessing_exc_tuple` in IPython 7.17 and above.\n",
            "  and should_run_async(code)\n"
          ]
        }
      ]
    },
    {
      "cell_type": "code",
      "source": [
        "errors = pred - y_train # residual\n",
        "errors"
      ],
      "metadata": {
        "colab": {
          "base_uri": "https://localhost:8080/"
        },
        "id": "n3ciYCsueUWe",
        "outputId": "20d881f5-83ea-4ab6-da91-6c9b978911af"
      },
      "execution_count": 171,
      "outputs": [
        {
          "output_type": "stream",
          "name": "stderr",
          "text": [
            "/usr/local/lib/python3.10/dist-packages/ipykernel/ipkernel.py:283: DeprecationWarning: `should_run_async` will not call `transform_cell` automatically in the future. Please pass the result to `transformed_cell` argument and any exception that happen during thetransform in `preprocessing_exc_tuple` in IPython 7.17 and above.\n",
            "  and should_run_async(code)\n"
          ]
        },
        {
          "output_type": "execute_result",
          "data": {
            "text/plain": [
              "8586    -2.120688\n",
              "5073    -7.254301\n",
              "6643     0.236502\n",
              "18390   -2.994185\n",
              "3289     2.484491\n",
              "           ...   \n",
              "10955    1.957181\n",
              "17289    1.607319\n",
              "5192    -2.010760\n",
              "12172    4.952249\n",
              "235      0.249296\n",
              "Name: selling_price, Length: 17838, dtype: float64"
            ]
          },
          "metadata": {},
          "execution_count": 171
        }
      ]
    },
    {
      "cell_type": "code",
      "source": [
        "sns.distplot(errors)"
      ],
      "metadata": {
        "colab": {
          "base_uri": "https://localhost:8080/",
          "height": 766
        },
        "id": "1Drg3mPugG69",
        "outputId": "2492e662-43a0-4037-e51b-26376ff7d0e5"
      },
      "execution_count": 172,
      "outputs": [
        {
          "output_type": "stream",
          "name": "stderr",
          "text": [
            "/usr/local/lib/python3.10/dist-packages/ipykernel/ipkernel.py:283: DeprecationWarning: `should_run_async` will not call `transform_cell` automatically in the future. Please pass the result to `transformed_cell` argument and any exception that happen during thetransform in `preprocessing_exc_tuple` in IPython 7.17 and above.\n",
            "  and should_run_async(code)\n",
            "<ipython-input-172-4a151ca7bc24>:1: UserWarning: \n",
            "\n",
            "`distplot` is a deprecated function and will be removed in seaborn v0.14.0.\n",
            "\n",
            "Please adapt your code to use either `displot` (a figure-level function with\n",
            "similar flexibility) or `histplot` (an axes-level function for histograms).\n",
            "\n",
            "For a guide to updating your code to use the new functions, please see\n",
            "https://gist.github.com/mwaskom/de44147ed2974457ad6372750bbe5751\n",
            "\n",
            "  sns.distplot(errors)\n"
          ]
        },
        {
          "output_type": "execute_result",
          "data": {
            "text/plain": [
              "<Axes: xlabel='selling_price', ylabel='Density'>"
            ]
          },
          "metadata": {},
          "execution_count": 172
        },
        {
          "output_type": "display_data",
          "data": {
            "text/plain": [
              "<Figure size 800x550 with 1 Axes>"
            ],
            "image/png": "[encoded data removed]"
          },
          "metadata": {}
        }
      ]
    },
    {
      "cell_type": "markdown",
      "source": [
        "### Checking Autocorrelation and Heteroscedasticity(not constant variance)\n",
        "To way to check:\n",
        "* using statistical test\n",
        "* using plot(predicted values vs residual)"
      ],
      "metadata": {
        "id": "7PcE4bjR4FCi"
      }
    },
    {
      "cell_type": "code",
      "source": [
        "plt.figure(figsize=(5,3))\n",
        "sns.scatterplot(x=pred, y=errors)\n",
        "plt.xlabel(\"Predicted_values\")\n",
        "plt.ylabel(\"errors\")\n",
        "plt.show()"
      ],
      "metadata": {
        "id": "jzdpjYt3gOED",
        "colab": {
          "base_uri": "https://localhost:8080/",
          "height": 366
        },
        "outputId": "1dc8785a-4060-4bcd-a961-e8f81c48ed00"
      },
      "execution_count": 173,
      "outputs": [
        {
          "output_type": "stream",
          "name": "stderr",
          "text": [
            "/usr/local/lib/python3.10/dist-packages/ipykernel/ipkernel.py:283: DeprecationWarning: `should_run_async` will not call `transform_cell` automatically in the future. Please pass the result to `transformed_cell` argument and any exception that happen during thetransform in `preprocessing_exc_tuple` in IPython 7.17 and above.\n",
            "  and should_run_async(code)\n"
          ]
        },
        {
          "output_type": "display_data",
          "data": {
            "text/plain": [
              "<Figure size 500x300 with 1 Axes>"
            ],
            "image/png": "[encoded data removed]"
          },
          "metadata": {}
        }
      ]
    },
    {
      "cell_type": "markdown",
      "source": [
        "In a residual vs. predicted value graph:\n",
        "\n",
        "1. If the points are randomly scattered around the horizontal line (usually at y=0), it suggests that the model has captured the underlying patterns well, and the residuals have no systematic relationship with the predicted values.\n",
        "2. If the points follow a clear pattern (e.g., a curve or a funnel shape), it indicates that the model may have systematic errors or is missing important information. This could mean that the model is underfitting or overfitting the data.\n",
        "3. If the points exhibit heteroscedasticity, meaning that the spread of residuals changes with the predicted values, it suggests that the model's errors are not consistent across the entire range of predicted values."
      ],
      "metadata": {
        "id": "ch8tP9q77wp3"
      }
    },
    {
      "cell_type": "markdown",
      "source": [
        "![image.png](data:image/png;base64,iVBORw0KGgoAAAANSUhEUgAAAQQAAADCCAIAAAAgrCtAAAAgAElEQVR4nO19e1wTV9r/sZXhovEy6hpvDV66XKRUa7F2A7XWglZ/SHALBbY1bysW3xUrdnUr7FurdOH1XVnj1rUvsV1LdgWWaA2S1SqptWjyWmVLKoUkWrSZekmszUgzCMxoze+P007H3JjcE8z3Dz6ZYc6Z55yZZ85zO88zxGKxgDDCCAOABwJNQBhhBAvCzBBGGD/iHmZQq9WBoiMYkJ2dHWgSAgyhUEhRVKCpCBiGMHWGIUOG3M8qxH0+fADA1KlTz58/jyBIoAkJDMJi0n0BgiAWLVo04Fc/MjLSP/QEJ8LMcF+Aw+Hs2bPnvv3ks0SYGQYzCIKgf/N4vABSEhIIM8OggkgkMhqN9GFxcXGoGEWqqqpwHA8sDUMDe/swvIukpCQURenD9957L1REo7i4uOHDhweWBk9XBp1OJxQK3WsrFosbGxs9JCAMJtLT05lvf6hwAgAgMzMz4NR6wbSKYZh78iiO4xERERwOx422A0KlUvH5fJeaDFbTqkKhOH369ObNmwe8Mj4+vr29PeAvZaDg8sqA47hcLmeecVszQ1GUDSfI5XI3pMnDhw8HXAb1PwQCgU6nszo5f/784uLigNDjFVAUJZVK/XAjl5mBoiiWLxlFUSKRyHWSrIHjuBtu0crKSqb0fJ9g79698fHxVicRBAnpqejp6bl586Y/7mRhwOrQQ5Ak2dDQ4MUOfQ3vDj8UERcXR5KkjzovLS01m81OLiBJsrS01HcEDAgfmlYRBMnNzfVR5yqVqrKy0kedh+ELLF261LlUjCDI0qVLA6ixhGpsEkVRBoPBu46kEBq+j+AfBVqtVs+ePdunt3AP3lkZXJXpVSpVWVmZJ3dEEOR+dqla2TAAABRF2Z4EABAEoVAo/EKUMzJoGI3GvXv3+o0el+A+MzAZYOHChVZaNTMQwBZ8Pr+0tNR5n2E4AkVR58+ft5orkiTPnz9vezGO45cuXfIXaaCnp8cuGTS4XO6uXbv8Ro9LcEFMMhqNXC6XPhSJRFOnThUIBAAAgiCsxMG0tLRDhw65asSorKx85JFHMjMzXWrlLYTFpCD0MxAEERkZ6SeSmNo0cGxOMZvNqamp7DX9ANoE3IaT4QccJpOpsLDQ13fxqTXJPVRUVDQ1NfnnXqGqQPsCQT58l/ROsVg8evRoV615QbgyOIHXFXH/Ra0SBJGWluaqVkBRlKv6X0lJiUqlcqlJkEAgEGAY5ui/Lj34nJyc5557zhtEDYBVq1Y5CYx1/uzceyVovPvuu14OMmAuE2AgOcHWadLQ0ABPslleDQaDK6uWxWKxmEymrVu3utrE1btADDh8X8ON+aHn3ytwQ0xyMttms3nAZ+fSkGUy2Y4dO9hf7ypcY4bCwsK2tjbmmZqaGrPZ3NTUtH37du9T518EnBncQHV1dWCZgYnm5mar18PVCywWi9lsdvQukSTpU5XGNWZwQordf5lMpnXr1rGhw42PIkmS69at8+LshCIzeBceMkNbW5ter/fkAovFQpKkTCZzmwZP4MPYJAilUjngNW1tbcXFxT7qnD3CzBCE1iR/ImxN+hlBPvy1a9e+8sorTtRotVo9Y8YMT/aHhJY1yevwvjVp6dKlTkwiYbiNP/zhD84NSp9++unly5f9Ro8tcBxPS0ujD30UT2A0Gpl38SK8vzLgOO7n6HmJRLJo0SKmd9w9BPnK4AewXxlsYw4g6Kcvl8vPnz+/YcMG71Pps3eM1cqgUqnsbjViJmKg4f99JCiKDr6V3e7cQlAUVVZWFtg4rhEjRtgNyKOffmZm5muvveaju/voHWPFDNOnT09KSrI6ieN4Tk6OV4hwJFbhOO484A8iMzMzpHdy2cL53CIIsmDBAj/zP0EQTA+XwWB4+OGHnTfxCoU4jrudccJlMLVp4G1zisFgyMjIGPAygUBg1+JWXV3tTyub14fvKjo7O1esWBFAApxYkxoaGqqrq/1MD0RnZ6d/buRNZiBJsrm52eqk1Vtu9xqXoFQq3fYxO0dAmIEkydTUVNpxNqAZ3qdww7QacFPs9u3bvRXJ57I1qa6uzpHoQpJka2ur1UmrLTg9PT2217iErq6ub7/91pMeAgjbqUMQZP/+/bQyGnI7ltasWQNjkwKlwxQVFS1atIg+FIvF7qfSYHIGYPFphPEXXmHEYAOb4XuI1NRU9r52Hy2ATuDGygBfhubm5tLSUt8Q5Ro8Cdnw1LRaXl4uFApD7ntmF8FmWn1x3brS11+f6ce5HRIfb7FJu3T/4J5cq//k8cDf/+5C66io/6fT8VpanFwA+vvdpc3b4PPB9OlO/m8BAAwZ4i9qBsY+AMA773itu64u58MHAFgmTgyqGfAyPvwQLF/u5P/3MMOtu3eBi8lfH3v+eSf//bS+/un8fPv/i44GfX0u3csj3Lkz4CVDAAiqlcH/GHLtmqsz8Onnnz89Z46P6PEz7mGGlZcvv+KUdVwCRVEnOzqetteh0Wi8ePEi3y+7T8JgjzgAKIpy7h9obGxcuHAh1PhxHG/+8MNBwwy+TSLmKNltd3f3jRs3fHdrAEAwJFq1osFoNEokEs/7CSy+//7727dvw98oig6mVG6uMYOTGAGXEB8fD9Nq+A5ZWVneotZt5OfnM53rw4YNc+4pLy8vt6WZoqisrCw2nnhfoKqqyiqTsVAoDKy/34efBqZpCTi1LRoMhtTUVPeMVs6Rl5cXWGcThPPhe4jS0tIBN3l5d3uGG7A1rba1tTm3VGq1Wh8TZY3S0lLnE2UwGNyzrvokHCMjI8OlnWtsJrS5ubmiooJ5hiTJjIwMLzo9fMoMdrk94G+/FVj6GTIyMuBwDAaDQCDwPV2uoaKiwr2J9Qkz+OIzT5KkrRPKuzfyKTPYQq/XB4mjigZLZgiGZdwX8N9ON4qiPvjgg6KiIjYXYxjW3t7udmo99+Ldg83p5n84388woKEp1DGAAl1VVWVXDS0vL3dDpXNpR2JUVJSr/dNYuXKlbQGbYIBGo3HPoOR/EARhFW60e/fu4KzB5zVLCXOZADZyQnNzs91108PIU1+AuXa7qT95Q0wiSbKwsNARASaTyYkaHXDxgykmVVdX19bWBpYeNjCZTI7sOkql0qWwc6/pDFbPmH34u16vz8vLc/u+NJYsWeJGvhkmvMIMFpupcAKSJGnjgV6vz8rK8goBbmOQZccwm80ufV+8wwzwc8g07JjNZvZBlwH/IkJ4ixms4MTe1dbW5mq+QJ8ihJjBlk7nqy4b+DxvUgjB7eFXVFQ4khubm5sBAKES9B4qzFBYWGhr0u3s7KypqfGk2wGYobq62uoDr9fr2cthJpMphNJODsgMjtY65+96kKx7bOCIGfy/s8I5zGYzm++Lq2QPYE3at2+f1W59FEWnTZvGUjsfPnx4XFycK/q81+CL3E2OQjxsrWRGo7GkpAT+HgSbPYIhtoUJDofDxjLpMtlMzgCBEJP0er3tLniBQOBIG9br9VZLpF0HtqtecItnw7elIdi8y2zARkzSarWBzVpgC9vJdy9IJPDMYHF9MFb/XbdunVcSKLg9fIPB4BWDWMDBUmfwfzySE5hMJtvJd++V8KYHWqVSTZ482YlUQFHUkSNHmPGqQeXUDHugaQ90UD0Xv8Gb+xlwHL9165btedoZTJLk119/zfzXli1bQrHKDkEQYrE40FT4ELblW+8H+Dw2CcOw2NhYg8FgNxdqUH2B2A+foqjGxkZHFdP8WqDSq6BXBkepVIMcVgVpXYWbKwN7Ww2PxyNJ0hGJofjGAAAQBHFSO7C4uHjLli3+pMfrCEVOAADk5OR4sqC5yQzr1q1jf1ffvfE4jjMTSPkfcrm8qqqKeQbGL3orC20YLuHUqVOe7MLziZiUlpa2f/9+z3PEswGGYd4y5FsNX6FQzJ8/n+ZkuxIdRVE9PT2DJu1xuFiJ9+GEEwiCsI1hlkgkzgPCjUajo+Bh37m0Wltbe3p66MPs7Gxb4RBBkEHDCbaweigikSjYQrgpinISEj/ge2WFoQNfAgBwUSn0z5rga5SVlTEP//nPf4aoJO0eCIJYsmTJ8ePH6Ye+Zs2akFs0IiMj2V/MVkwSi8UcDqegoMBT6vwCDMPEYrGrWUzCfgYrMSmobH1+AFsxqaioyBEnaDQa79HjHfB4PD+osAKBYHBXr7uvOAF4rjNgGPa///u/XiHFu3BeC9Ar+Mtf/jIIgvDCoBEuffsz7vPhg7A1KdAEhADuw8CEEAVFUZ6kHgwzwwAgCCIrKyuwpTXDYIkjR468//77bjcPi0k/4z4fPnAsJqlUqtOnT/uoqHPwgK2fIYz7GSkpKdMHKnQyCBAWk8K4B3a1ZwRBBocj1TnCK8M9wDCsz5/1hHyPu3fvTpkyhb3vXK1WR0dH+5Qk/2PUqFFsmNlaZ0hNTfUlVQGA2Wx+/fXX2VSZX7t2rR/o8TP6+/t/+9vfsvS6iESiS5cu+ZokP6O/vz89Pd1JyD2Ne5ghUBUxfI0Q3WoThp9xv9tPwgiDRliBDiOMHxFmBmfAcRxmZrdyQg8Yn0cQhNt+azeC/4xGo+/cgnbHMuAdKYpyO4rRjYYEQXgu5DtjBoqi6LRwVuetYv0pimLWQ1Cr1VZNCIJgNqEoatWqVe7QC4AbDVUqlVwud7WV0Whcv349h8NpbW212tvZ3t5uFR++du1aiUQiFovhjbq6uk6ePOnqHQEAFEU98cQTrrZ64403fKT4UhSVl5cXERFhdb67u3vNmjXMM2KxWCQSSSQSkUgEACBJsra21r2bxsbGutrk4MGDbjxiazhKqESSZF5enqOMlgaDobCwkJnIiZkj37Zbk8mUkZHBPON2Lt7x48e72qSpqcmlPP0Q9CiUSuWOHTuam5uZ2YXhGduLCwsLtVqtyWSCKVa1Wq1MJqOzQzc1NclkMjh2g8Egk8noxHsmk0kmk2m12nnz5jHJkMlkMpkM5vZqbm7W6/X0IexQqVSuW7fOR4m9xo8fT9/LbDZDYuBhW1sbswxXcXExHHJ1dXVDQ4Plp9T8cJj0XCmVSplMBq8kSZLZIRysVqu1en9gE5gfsa2tDc4AnS6xra2tqamptrYW3tQTOGSG6urqpqYm+BsyhkwmYzJAdXU1PUKTybRkyZKfOwXAbDYnJyc3NDSsWLFCr9ebzebx48c3NDTAd4UkScg8FRUVNTU1hYWFJpPJbDYXFhbKZDKYIA1WNKSLZMJH3tDQwJwpk8m0YsUKmUxWXFxssVjWrVtXUVFRW1tL5z/My8traGgoLi52NT9zQ0MDXaqjra0NUtvc3Lxjxw7mMOnfsbGxNTU1tbW18P1obm6GGZdhJ9u3b1cqlfCBmc3m5uZmk8kEk2Q2NTXt2LHDbDYLBAKSJJVKJZMZOjs7IWvBOQEAMA/h5JAkGRcX5wtmUCqVdMZ8+uPY1tZGJ6tLTU2lP2qlpaVw8iFt9PcRzgCcOq1WC58UfBx5eXkmk0mr1cImeXl5BoPBYDAwJ9ZgMMDvhUAgMJvN8D20/JSAVCaTwc8cfHM8HK9DMampqYnP58PfCILs3r27t7d32LBhdPKstLS0w4cPO2p++/btxMTE3NxciUQSGxsbGRk5Z86c3Nzc9957LyEhAUEQs9kMACgrKxs5cmR6enpiYuLt27flcvm4cePq6+spisrIyEhMTJw7d+5jjz0GAEhNTd25c2dubi5zDUVRtLy8nKIos9msUCgAAL/5zW8KCgqWLl0qlUrLysrefPPN3NzcjIwMVxfMO3fuDB36o0eyt7c3KysLADB//vyamhq713d3dwuFwoKCggULFojF4piYmAcffBDOg1QqpSiqpaXlmWeeeeGFF4qLi+fNm6fVaqOioqRSaV9f39y5c7u6umbPno0gSEpKSm9vL90tSZJtbW0nT548ceIElNHj4+Phrmscx//7v/8btkpPT3d1gCxBT4LBYEAQhMPhzJ49OzExkb6ALpDe29u7fPnygoICkUiUnZ0dERExYsQI2ENdXd21a9cOHjwYHx9/8uTJJ5988oknniAI4sSJEydPnmxvb3/hhRcoitJoNFwu18o7RpJkV1eXVCqNiorq6upCEGTevHkAAIFA8OWXXx4/fnzx4sUAgPT0dM+1Joce6Dt37tC/4Z5roVA4btw4R7Ip83o2iImJwXF85cqVMpkMAPDaa6+hKHrmzJmSkpINGzacPn06Li4OJqK0ODb+VlZWpqSk5Obm0m5j+OPOnTse7le2GilU6XAcnzp1Kn1y1KhR9O/u7m74Y8qUKYcPH05KSoqJiRGJRElJSenp6QqF4vTp0yiKWiwWqVT60ksvVVZWTp06FXqCcBw3Go03btwANuHijz32GBz+//zP/9gSGRcXB3dmXrlyxZPBOkJMTAydEiEyMhJ+vyiKIkkSTm9MTAytTvzwww/wB5fLpfMGqNVqnU63efNmHMd37NgBAGhtbb106VJCQoLFYnn00UfhI3aSK3vRokWtra0cDueLL76AZ0iSBAD09/cDAMaNG4fjOI/Hu3r16qRJkzwcr0NmKC4u3r9/PyzO2d/fHxUVpdFompqakpKS4AX79u2j3booivL5fIVCMXbs2LNnz8pkMvi1ZnZ45MgRtVqt1WpramooioLmiBEjRmg0mosXL16/fp2iqP379+/cufPpp58GAKxYsUIul0+fPn3fvn2VlZU7duxobGzk8Xh6vZ7us6enp7+/X6PRyGSyNWvW0Mktb9++3dfXV1RUJBKJVq9e3dTU9Pjjj7s0L+np6UOGDIHDHzNmzLRp0+rq6uAnCl5QXl7+r3/9i75+3bp18JNx9erVnTt3qtXq8ePHP/XUU9XV1deuXYuIiIiPj+/p6amqquLxeBs3bkxMTExKSpJIJP39/dOmTUtPT1+4cKFYLJ44ceLSpUvpbmtqaiQSyciRIxcsWADnBJ6fM2cOAKC9vX3Lli2zZs1KSUlhcqa3MHv27OLiYlg6lcvlbtiwQSwWYxgGw1cVCkV6ejr90Xn88cc/+uijtra2jo4O+Oj5fP7s2bM/+ugjiUSCouivf/1rAMC2bdvi4+Ohbr1t27aqqir4Qq9fv76hoQF+3QoLC2ka/va3v9XV1UVFRfF4vOjo6FmzZsE7Tpw4MSYmZvPmzZWVle3t7TExMZ4zg7O808XFxcyKY1D0hzKiUqm0KlFOX0PrRnSpCKjrmEwmg8FAV+6AJ+EZs9nMPKQ1Nvqm9KHJZLItngKbwDvCtjSdUJFlWdvCCmazOSsry27D6upqD4vEhBDsFstTKpXBVsTacwzggRaJROvXr7c6SVFUfX09m2ifUAcUQ21DOUI0FanbsE2TMThnINDc6CkaGhpYliFTKpW+qyil1Wpp+6nBYPBbaeDq6mqWVhQrS6h3wZzbzs5Or5TLYIMVK1awNKNBW5/za7zmgc7Ozqb9buXl5dC24wdUVFRAjcoRMAyDxIwZM8Z3H7Ovvvrq7Nmz8LfBYIB2NqgaQc8oRVHMQ6YH12g00hok8xqrf0E9m26F4ziO41FRUdBsZfVfuiFBEEOGDMFxfObMmTAdstUtvIKWlhZaie/o6GhtbYW3pkmCjnx4CH/QbZljZDax+hfzNzwkCAIarOjh2/apVqsXLVqE4zi09dG3sDt8rzHD2LFj6Th4DocTExMDAKiqqpJIJFDplEgkcrlcIpE0NjYqFAqRSAQd1Y2NjRKJBLp4KYqCXkzYRK1Wi8Xi8vJyOFSRSCQSiWjDTmVlJXzLIyMj4aFYLIZJnBobG+vq6mCfBw8e3Llzp1QqvXz58rfffktTVVdX562xAwCioqKuX7+u0+l0Oh2GYXD4QqHQYDC8+eabOp2upaUlOzvbYDAUFxdLJBKDwZCSkgIAEIvFn3zyySeffAJt1ikpKd3d3SKRiKIohUJRX1//5ZdfSiQStVpdXV2N4zh0wKvV6qqqKgzDjh49GhUVRVEU/C+UXek+VSoVNCpgGNbS0gKZAVIlEom8yA8IgnR1dcHhf/PNN9HR0UajsayszGAwrFq1Cpaz2LJli8FgyMzMPHbs2MWLF/Pz8wEAZWVlX375ZX19vUKhIAhixYoV3d3dkE7mKORy+aFDh7788ksYx6BQKPbt2wfd/PBeEonk4sWLMGBi1apVFy9erK+vxzAM2qkxDINPnKbqzTfftDMMbyxWFovFUlxcvH37drgYZWVlwUUZLpfwR3FxMfSewJsaDAaBQKDVatetW2exWLRabWFhYVtbG/Q9GQwG2pEHS0qPHz9eqVQqlUrYnPZDx8bGQv24s7NTqVTGxcXBW9BatVKphP6vrVu3trW10c5a73qpmpqatm7dqtfroct569atMpkM+kT1en1hYSFdrZ4mAPxkNYY9wB+xsbGFhYVQYWU+nYyMDOjZraiogF4qeE1NTQ30jSqVSujTlMlktbW1sbGxtKg2atQoi8XS1tZWUVHR0NDguafWFtu3b6+trdVqtXq9fseOHXAGoNzY3NxcXV29Y8cO+PSTk5OhWAurdtBuXAAASZKjRo3aunUrNFowhw8AgPNZWloKBQF4Htp4SJJsbm5uaGhITU3VarWlpaXz5s2D7x6cfIvFUltb29TURL+TduG1nW79/f05OTkwqdb169cBAF9//TV0oEAzMABg8uTJzCYjRowwmUywyaRJk3Q63ezZswUCQWRkZHV1dU5ODlwEoWxz/fr15OTk27dvQ7MdvAXsMzIyctu2bc8//3xycjKPx8NxvLOzc9myZSNGjDh+/Dj4SQ+G/qOvvvrqF7/4BQAgPj7eW2OHGD9+PBzL3bt329vbnVx59+5dR//6+uuvFQpFQkLCN998wzxvNptffvllWotlmq2joqLKyspycnJyc3NhBaqCggI+n79p06ZLly4VFRXRPhBXfUEugcfjwSmFrhjoB3AOK/kWQZCbN2/W1dWNGDHCYmPXgR4J2z06o0aNSklJaW1tRRDkiy++6Ovrq6ys1Gg0RUVF27Ztmzx5MntnnNfEJGbC6r6+vt7e3sWLF8NgtaNHj86ZM8dsNjN3VJIkaTabExISWlpaAACfffbZ8uXLcRxPTk62WCyrV69GUbSvrw+GAGo0mry8vFu3bqEoCuOxBAIBlPyUSiWCIG+99RZ0izY3N0dERHzxxRfnzp2bNWtWZ2cn+OklgH+XLVsGC2f5rg4VSZI4jgsEAplMJpVKN23atHv3btqbRjunIJqbm8vKysrKymD59Pz8/Fu3bi1evDgyMlKv1+fn50PhsLm5WSgUSqXS/Px8o9H4z3/+c/369VKp9OjRowCAuXPnyuXyuro6mUyGIIhCoZBIJFOnToVOoby8vLq6uu+++66/vz83NxdSlZ+f70UxifnCURT1/fffV1ZW/ulPf5JKpXv37i0qKqIfPc3Ger2ex+MlJiaKRKL8/Hy9Xk9RVH5+fkxMTF5eHnNmFAqFXq8XCoV1dXX5+fkURcGZkUqlJ0+eJEny17/+9QcffFBXV3fixIno6OiqqqpTp07Fx8dPnjx5woQJFEXV1dVB11NlZeXbb78Nh287Cq9t7lGpVMnJyfArrtFooJtGoVDcuHGDz+fzeDz6ArlcnpmZSRBEe3s7n883Go2ffPLJuHHjYEwBbPLMM89wuVyCIOCrD1UfKOUnJCTATYx1dXXwS8zn8zEMU6lU8DAlJcVgMKhUKmafN2/eTE5OhnthmVR5ZexhDA6Ed7qFEcaPCG/uCSOMHxFmhjDC+BFhZhhssFtuKww2COsMgw06nc7rVuNQhEqlojfksMSgXRlUKpXdDdyDHvcVJzjxIRw+fNjJNgm7+HllIAji1q1bgyml5uCMrGQAx3F6zwmbiwdZYVKFQtHa2mqVm8IT/LwytLe379mzx1v9BgNc5QQMw0KrLklERMTo0aPZXDkoq0ykp6d7N0v+PWISveH1/oREIoGpGUIFHA6HTQpReOWpU6ec59jEcdw2x0+Qw7tZQwetzuAGBtO3AMfxRYsWudQEhnb6iJ6QQKgyg0KhGGSLvneBoqgbQi+MPA9ROHolcBxPS0tj00OoMkNrayszNBDcm0J8sKYTdwn3W+SV7SsBgaLo/v372fQQqsxQVlZmZRtZsmQJbUpbsWIFM93l4ACO41ZZLsNgwvaVoMHSRhp0UrLRaHTPvHv8+HFanWpoaBh8BRmGDx8eFxcXaCoGM4JuZaioqHDPpsF8+wcfJwAAEATJzMwMNBUBg0qlKi8v9+ktgo4Zdu3aZbfmEtyREwYES6VwME1aSkrKq6++6tNbBB0z0IApSunDw4cPh5ZHzD1YjdoR2CiFOI47SYYbnBCLxXTOQitYVRx1biPBMIyZmJAlgpcZbt68yTysrKwcMJqAoihHmzlDhZFu3rzpPPMNjQE1KxRFrYpIQATzVLz88stwr/OAeP75550E5/J4vH/84x+u3j14maGoqMhV0b+np2fTpk12vxkvvfRSSAQ2FxUVuRdPheM4mygdnU63cuVKN/r3DxAEYfnQ5XK5c9uxG4FYQWdN8gQoilqtJzRCTmBwFSiKshEM4uPjYdrzUIcvbCSBXxkwDMvOzg40FcELiqIWLVrExo3oavh+0EKtVrsXXgCT57l93wAwg9U4eTzezp07vdvnYAKCIHv27BlksejOn5dcLof1ewAAarWavXy7Z88eT8LU/c0MGIbZGsvZBw4oFAq7ruXMzMyQUAncwyALrMAwzHmw7ebNm+kh28bVEwThKKCQOVFuhOT4mxl4PN6BAwc0Go17AZKOIskOHDhg+8YEs9nEPwjOGXDJ1CMQCOz6nQaEc3OTXQRATOJwOFwuNzk52Y22fD7f7rZGWynCDw5LX8Cl51dWVuY8BGv9+vXBuUXBE6mPw+GwqQ0yoLnJFt5kBqPRyNLTgaKoe+zOHnw+33NVxM/QaDSbN29mf/2LL77ofMezRCLx9TwHLdwwN3mTGbhc7rvvvut2cwzDBrHczwaJiYlQemRZ3Sy66A0AAB49SURBVIJZdTNEodFoWG7bT0tLc3WDv6vwsphkuzA1NjaylFwvXLhw4cIF79IDk856t09fg6Ko06dP+8I+VlJS4v9oJeeKbEdHB204co79+/fbdbqrVCpvhev7XGf4/vvvWV6Znp7ui3rGIbfRB0GQzZs3O1rlB/yyOLng7bff9r8v4vXXX3eit+Tm5toKcnaH4Cj8pLe310mKf5fgc2YQCoVM06/RaPRnOiMEQVhmUgkVZGVlOZEWKisrx4wZA3/bypwBcVbs3r3bJb3FaDTCEvQskZ6eTouLFEWVlJQwF1WCINh/Df1tTeJyuTk5Oe61rauru893rAMATp065SREb/78+TARFo7jL774oh/pcghXFVkul3vq1Cm7/xpQHEIQJCcnh3lHWLaC5a0DYFp1e6XOzMwcNLtbjEYjy13qLoGeWxRFHb1SvkZ+fj4bIV4ul9sNqnWC0tLSAaVEPp+v0WjoywoKCtiLBp4yg5ORi0SixsZGD/tngsPh2DrbVSqVcyPDgBcEBFwul7khwUe8ERCIRCKmwdeRJWDRokWrV692qWeZTMYm2uLUqVPumSXZMgOsWGp7fvfu3fHx8XbFssLCwiVLlrhBk0u4ceMGXbPMvQsCBaa0w+VyDx065Iu7+N8JbSXFrVmzxq4CjSCIh+kuxWKx3RevqKjIPe8KW2b44IMPDhw4YHseRVGVSmU3kp7D4TiRF8vKyhxpNi59yAUCgXPH04AXBAl8kQgVw7CXXnrJ6926BFcVaCvAAtJ2/zV69OjIyEi3e7YFW2YoKiqChdVswefzd+3a5eqNFyxY4Mi4sXr1arvLnEuWgcGH8vJy208sPVE4jtu+NDwez3Yjh1qtdlVY9wRueIJLSkpo2XvXrl3Hjh2zexmsbuoRcfciYPsZnLgUGhsb7UaVyOXygwcP+pKooEZubu7MmTOtTpaUlEB+kEgkjl4aK8ycOfM3v/mN9+ljwIljwWg0Dpj3cvXq1fRiXlZW5jerifeZgSAIltEErqKgoMB5hJZEIvFdQVu3YfvBZp/wkIn4+HjbD6FMJoMfjvXr12dmZrLxWyMI4q2YcEd6/969e2lZl6Io5vvA5XIHzHvpqliLYZgtgxEE4aq73SEzwGklCMLKTFtXV+dcVsFx/NKlS476dOIocKSjs0d+fr4jWS5QoChq4cKFVjPmPLeFVCoViUTu3S43N9efqQStbGI0du3aRavRPT09ra2tzP8yWdH5K8ESPB6vvr7eapJxHO/o6HCpH4fMsHbjRpFIFBkZ6Wpuah6P58SyGxER4ehfBw4csKujsweCIMG2IwxBkCNHjthS5cRxlpubu2bNGvdu949//MPP1gI2STrY1xNx2wj+7bffWmVVcv4e2sXPlXu+/uwz7M9/fvqVV+Ch5uzZkWPHTpo2DQwbBm7d+rmF1aGr8LC5J3juOef/r6ys/NWiRU/PmeMfcoINarV6//79A+rWGIb5aOcdXEXtfjvY3JqiKA/16Xu++qO+/x7cuAF6ewEAiePHw/t70ntoIR1BJh44ADo7A02IbxAbC556ysM+jEbjqt/9rtmzBdwREARx7jVf9bvfffjBB45YxXPL0s/McO2HH1qefnrWihUe9hjS+D4qatLw4YGmwjcY6F0ZRZL5CgVwWheLC0Dzs8+C7du9ShlbND/7LKiudrNxXx8YaOOUHX1AKpUKBAInIcQqlWrQxAgxoaCo+c8+C0Iw4YrnEgIA4IHo6EvTpj2SlgYGb6oR57DDDDDDIYIgBEG8//7769evZ/6Xoqjg3GZ+32JAUZsl8Lt3z0yfnjVvnrcICznYsSbRGQ4jIyNnzJhRXl7O1PG5XC6b7di28Fa0nNFo9GK100EABEGOHz/uZzOa7dNUKBS2cZl+DpFUqVSO8hazgTOnGywIsHDhwgHNZwqFwrm3i6KonJwcl4Ip8vPzHe14Ypl2wFEPAYRKpbIy1ygUCideBSungU6nW7t2re1l/q9HkZOTYzW3jzzyiFUMEkEQOTk5tr4jNp6Q/Px8NyJPp0+f7l7WlR9h+QlKpbKiosLiFsxms8FgcK8tREZGhlUPWq3Wkw7d6KGiokKpVHpyR6vmJEm2tbVZndHr9VZnHE2dXq9fsWKF1UnPp8UR2traSktLfdQ5DYPBIBAI6EOtVmsymWwvsxqmVqvNy8vzNW1uhmNYsTtMhcQ8QxBEWloae4/ynj17rHpwyXkkl8tt7+X/YNX9+/czv5ddXV3Hjx9nXmAbCkGXHbCNKeDxeLbe2UBF4HorQQGXy2VmPj5z5ozd2ttWw4yPj9+2bZtXCHACF5iBmdpx4cKFziUQDodz6NAh9su3h36crq4uu5Ue/YydO3cyI7ETExPZl7CHMQW+octTKBQK+l3EcdxuAIVarXYj9YZQKHS089FKqHbyhjQ2NnolyZALzBATExMdHQ1/HzlyZMD4e18E6BMEYTdP3vr1631xO1/AiU4ZtENIT0/ftGkT/B0REUG/BhBwRJGRkV4sI61Wq9mbSR588EFHGxtc0uBdYAY+n09zp9u2C7tB+ezB4XCefPJJt5sHA2xVz5AAvchzOJyn7vVkr1y5EsOwxMREL2bvmz17ttUmGSff/szMTLs2HlfNNv7ez2A3KN8lsM+ttHTp0iB87U6dOhW0KwBLwLefPjx8+LAf8oT/9re/ddVQC+M72H+4/c0MdoPynaCsrMztJHDvvvuuj167Aaliv6PD6sqgKjThaBT+efttb+pegXD28AkzONoV7QhGo1Eul9v914YNG9xOLeO7B+acKoIgTp8+zbKr06dP0+u4RqNxz6HpC1iNwi6XBu0uXNt9OGzgE2bg8/mlpaVWJymKqqqqctTkhx9+sHve7qddJBIx5R//y0LOFxwOh8M+mfbmzZvpdTwxMXHAXWB+A3MUTGsSDYIglixZEtiljLkhTKfT0Qxw+/bt27dvu9qbr8QkW0ENQZC4uDi7F3O5XJYFTyFmzJgxnBFbun79eo1G4waRHqKkpISNFOtSHoNg25wEwbQm0eBwOMePH/eP89uR9lxfX0/bo0eNGkXLAiiKurHG+lVn8Fasa2ZmJvMZSCQS/yRntwqmyMnJoaVYDMPy8/Pttjp48CAzj4E/t2V6EXZfer+FgdB5D6wgFArpl57L5TqXqAec+cBX+wwhpKSkvPLTTkBwb55MHo/31ltv2W3FfGAAgK1btwahjcsWjspl+D+pPWDkPXAbOp3uz3/+s/NrgpoZgsq0AhihEzSYFFpFEDgivr6+PiRMq+3t7bblMnAcD+aK2o2NjY6mPT4+/r333nPePHiZwW5eCTYgCMJ3CWPEYjE93SqV6ve//72jK4VCYYhKRBCZmZm2Lh0URf2ZgMwJ7K6uX3/9NUmSbvcZeGYwGo12IyzcDtOPjIwc7XTvoqtgxoAwe+bz+X/6058ctdqzZ09IpLUMRThKm7l+/XpPLBCBZwYURRcuXGj3XywLHFkBQRDnZYZdBY7jH374Ifxtm9LQkQIQnHahwQG7aTNtQVGUr2KTfAQEQewaASiKWrduna2YpNFo/KxL8Hi8c+fO2f3XsWPHBmv9lOCsmWsXdjPqAQBaWlr27dvHvp/AM4MjIAjS2Nho+309cuRIJyObi08ZIy0tzerDL5VKmQpJZmam1R7xwQGKovbu3Ru0DmYr8Hg8u87K9PR09iH0wG5CgCCH1fC2bNmyYMECX1RGBADs378fWn4IgoBsKRAIPFHRQgUIgriRWT2A8EroTfCuDCyxZcsWmhMoirL6mDnJ7s8G0JBqNBrpqitBmMEyDOcgCIKlBSzkmYGpztbX19umSfYwfysAgMvlWu3eDCOEwOFwUlJS2FwZ7GJSeXn5woULWQau2oajeKvurf/TT4ThRbCUooOdGV599dWQ8NeGMQgQ7GISl8u1+1U2Go0+KokSRqiAoqi0tDSmlmh7xiWDWLAzgyOQJHkrUKntwwgOIAhy6NAhpj3D6gxFUUuWLGHPD8EuJjkCj8fz/87DMIINtiI08wyM6GGv74XqyuAEIR0eF4Z34ZLlY7AxA47jtjtOwwiDDe5hhkFgQERRlJm9MIww2OMenWHjxo3nz58Pti01HsJsNjc0NLDkcy/mhAsj5PAzM6SkpOj1+gCS4juwX/Gee+65hx9+2KfE+Bl379596KGHWGZxjYqK8jU9wYyfq32GQVHUYA3CYxNPpVarH3vsMT8Q43+YTCY2rtswM4QRxo8YbNakMMJwG2FmCCOMH2HNDDiOW23Pb2xsVKvVtoURCIKg8+pQFGXr6tLpdMxNYRiGuZ1YITs729UmUqnUjY2LGIbZ9d4P2BWO4+7Vy7A7dQNCp9P52uhHD1mtVqvVajZ0ur0j12g0upFLyusbU+9hBhzHX3nlFas8odevX//uu+84HM7zzz9fUlJCn+/q6qJzp/b09Kxatcqq676+Pub7wePxXNqDx4RtGckBcfXq1e+++86lJhqNRiQS2dU1e3t7rVIpp6Wl1dXViUQiWF4Sw7ArV664SiQAoKen5+WXX3a11aZNm9zLlsASq1atguU/VCrV8ePHeTwegiB///vfme8fhmHZ2dlSqXTVqlXwVW5tbXWvftKxY8c+/vhjV1t5Xd2/x89QXl5Of7wJgnj11Vezs7M//fTTadOmAQASExN/+OEHjUZD53Jkvjdjx47VaDQbN24UCoUymWzPnj3R0dGnTp2SSqUymWz37t0EQVRVVe3atUsoFGZnZx8+fHj37t04jr/55pupqannz5+vrKyEK8m///3v//qv/+LxeHV1dXq9fsaMGUwiMQzbvHnzM888c+PGjQ0bNixatGj58uVRUVGwB5rskydPzp0716W5mDlzJm1OwDDs008/RVEUpsTk8/lnz55VKBR0ZLxSqTx16hQAID8//4knnpgwYUJ3dzcAQKVSdXV1JScnw8odMF3A8uXLORyOTqc7c+YM3SeGYUePHp07d66VoQM2yc/PRxBEKpU+/PDDZ8+eLSgogLMtFounTZs2btw4l4bmEsRi8bJly+BTPnz48NWrVwmCgBmTRo8effPmTXhZX1/f5MmTc3Nzc3NzhwwZYrFYZsyYERERQQ8hMzMTRVGj0Xjs2LHo6GiYskQul+M4/vTTT8PQMoVCce3aNXCv+RtO/siRIwUCgdFoNBgMWq126NChsAej0Xjo0KH58+fHxsZ6eeTMaofMw9TUVFiGsbq6urm5GZ5sbm6urq6Gv5nFIU0mk0Ag6OzshPVCSZKMi4vT6/X0BQAAg8FQWFgID2tra6urq/Py8tra2ubNm9fZ2WmxWPR6fXJyskwmk8lko0aNMplMWVlZtoRZLBatVtvQ0JCamqrValNTU0mStFgsFRUVbW1tGRkZZrPZimw2YF6v1+szMjIsFktDQ8PWrVvtzg8AoLa2tra2Fo6xqakJzgzspLS0VKlU7tixo6mpiSRJpVJJ91lTU7Njxw6DwQBHp1QqlyxZQnfb1tam1+sNBkNqaio9byRJwrZZWVmwNGhsbKyH5VWdgDnMpqammpoa+pBZElar1c6bN6+2trampkYmk1ksliVLlhgMBr1er9VqzWZzRkYGNFXDiw0GQ3V1dW1trcViSU1N1ev1NTU1DQ0NFoulsLAQ9gABf8tksu3bt3d2ds6bN8/y0/tmNpvhdGm12vHjx3t34A4VaJd8sREREb29vQCAO3fuAABIkrT6dI0aNQoAEBUVhWHYqlWrCgoKcnJyAACzZ8/+29/+lp+fD8sbz507VyAQCASCmzdvUhQ1ZMgQ23vl5+fDz0xaWho8w3QODB061I1c5BD9/f3wx4ULF375y18qFIrRo0c///zzjq4vKCgoKChYsGCBWCyOioqKiooiCOLSpUsKhQJF0bNnz+bn569atSo3N3f69OkXLlxISEhQKBQTJ0587rnnLl68OH/+fABAcnIynDSIK1eutLe3X7x4saOjA56hd3RQFHXo0CG4Lfupp57ym0uEnhYAQG9vL7Og2+OPP15QUCAUCg8fPmw0GkeMGIEgyJUrV3Q6XXt7OwAAx/GGhoYhQ4b861//4nK5n3766dChQ2GCexRFP/nkkyeeeAIAsGDBAuYdr1+/DjerKJVKAMBzzz0HAJg5c+bhw4dxHIde0fj4eK/PwD3MsGPHDnrHzObNm6urq3U6HTODdFVVVVZWFvw9c+ZMgiBUKpVard61a9fmzZtJkqQn7saNG319fQcPHoSCuFQqJUnSbDbfunVr3LhxGo1GLpf39/fjOH7q1KmGhoZLly7xeLxhw4bBDsvLy7lcLnx7rDLdms1mHMfVajUkzGw2w/M9PT1Qsrclmw2mTZsG12sAwNixYx988MH09PT09PQHHvhxinAcz8jIsG0YExND69y7du1KSkpKT0+H3wIEQb755puVK1e+8cYbkyZNiomJgX1GR0ePHj360qVLAIDLly8ze1u2bFlmZiafz4dCF43e3l6SJJOTk6GGapsF1YuIi4uj9WCruhnXrl2bNGkSfUg/7qioKPj0IyIiUlNTBQIBn8+HND/xxBMWi+X8+fMqlWrq1KkPP/xwenp6QkICvBFUtGjOBwAoFAqCINLT0+Pj4+F3jcmNHA7n+vXrAACj0Wg1RZ7D2ukmEAj27t0LpVij0UiS5IQJEwAAUH7t6+tj7jOmKAqqcZGRkVwul6Konp4eui2KoiRJQtWKx+PR/4VaNYqit2/fpg8nTJgAv3+2hyiK3rp1i874S98URdHIyEj6jjiODx8+HEEQK7LZz0V8fHx7eztsAmXZ/v7+uXPnQul/1apV69evp/Wl8vJyKPX29/cXFRWp1ere3t6EhASJRIKiKIqiUVFR8+bNE4vFHA5n8eLFPB4Pist0n/AWEydOvHTpEr1Xu7Gx8fvvv0dR9Pz58xs2bCgrK4NanFgshmpDZWVlYmLi9evXc3JyfLQhVqFQnDt3Dlo74LjgHnSKolJSUuh8akajcc+ePXASJk6cmJ6eDon87LPPrl27NnLkSEjk559/DmcSjhGuojdu3HjttdcQBIGHI0eO5PF4dH1EkUiEoiicmcWLF6vVaoFAQFHUO++8s2HDBrVaffbs2aSkpNOnT7ttkrEPW8mJ1gqYMJlMTKluUAKK5lDlsALUAfxPUqAAlTrmGSis252cQYOQD8eANk026TMoijpw4EBBQYEfqAojFOGRB3rIkCG0cJmdnW3X7+br2hZXrlxpaWlxfg30hyAI4sWdotAVBX9jGGY3O4EfipLYtTEwQVc9EwqF3qXHaDRCHwu8i90yAH5IUPnkk08OmF0YkiEWi52/jR7tgU5OTqaF8rFjx0I7Q2Vl5aRJk2bMmMHn8w8ePHj27FkMwwoKCqD0fPv2baFQKJfLp0+ffuDAAR6PJxQKy8vLx48fn5SUxOfzoSR99erVDRs2IAhSVVUFlVGhUMjsAfwkffb390Ma4H8JgigqKiIIYteuXWPGjElKSkpISNi4ceO4ceOSk5PPnj0Lb3Hp0qXr1697ksFcq9UCAKCYe+XKldOnT6enp+M4DpUlqEGNGTNGq9VOmjQpMjKyq6sLAJCYmEhRFI7jKIp2dXUlJiYymwAAdDrd3bt3Z8yYgSAIQRCXL18eNmwY1LjoHiABGo1mypQp8LfVf5l9btmyZdy4ccuXL4eCOGwIAIC3cG/sEN3d3QqFgk54/u677xYVFUFKHnjgAZiO/+GHH/7www8TEhJQFIX3hRRiGMbj8TQaDXQiMZtgGHbr1q0pU6bAR8NsxfwND+EY4UCY/2WSIZfL6+rq3nrrrYKCAuhJtLoFDY9WhuHDh4vFYolEUldXd/bs2cjIyKVLlyYmJiYnJ7/44osYhs2fP3/+/PmQEzAMS0hI+OSTT+Ry+bVr1w4cOCAUCpcvX/7oo49u2rSpqKjor3/9K7TYJCcnQ8WopKRk4cKFQqHw6aeflkgkdA+NjY1SqZTD4QiFwvHjx0NiFi9enJCQgGGYRCKRy+V37tx5+eWXp0+fDt8AoVA4Y8aMgwcPwu9ZUVFRcXGxJ2OPiYnp6OhQqVQqlaqjowPalN544w0URffs2UMvGtHR0bdv3/7973//wAMPXLhwQSKR4Di+aNGi+vr6t99+22g0vvHGG8OGDXvnnXd0Op1Cofjoo48AAEeOHKEo6tVXXx02bNjRo0cxDKN7gB/gkpISkiQhAwAAWlpabt68efXqVZFIBABYunQpl8uFexiioqJiYmI4HE5+fj6O4xKJpKOjgyRJzxMNAgCuXbsGZ6ClpQUy85o1a4YNG9bW1gZTG8KnExERUVVVdfXq1Zs3b0JHfmxsrFwuf/vttw0Gw5o1ax544IGWlha5XI5h2B//+EculwszvZaVld28efPChQsajcaqB5FIdOHChe7u7k8//RQAoNPpoIUNBkmkpKSgKHrmzBkcx6OiooYPHx4dHS0Wi1taWlQqVW1t7bBhw+BcMeERM/T09BQVFQmFwoKCAuju/b//+7+nnnqKx+O1t7czZRIMwxYsWMDj8f76179mZmYSBLFw4UIej8fhcGgDzvDhwwmC0Gq1r732GswHiGEYNArxeDxmDwKB4JtvvoH9w3UD8sCMGTOWLl16/vx5qBhERka2trYyCY6JicFxHDZBUdSTrKkURfF4vISEhISEhIkTJwIAPvroo6ioqJMnT/J4vCtXrsBB8Xi8b7/99syZM+3t7XBNQBBk8uTJQqEQVqrMzc3l8Xg5OTlSqXTKlCmvv/76sWPHBAJBa2vrnDlzeDweNMKcOHEC9tDb2wvjoGbPnk2bX6ZMmQK/dq+//joA4ObNmytXrly+fDkkYOLEiSiKDh06NCIi4j/+4z9yc3Nnz57tFd1p7NixycnJCQkJv/zlLwEAOp0OetnBT5IJl8tNTk7mcDgbN268devW1atX6TKtmZmZ9fX1V65cmTJlSnx8/Msvv7xx40YURd9///3y8vK1a9dCszufzxcIBImJiVY9vP766wKBID4+/le/+hUA4Be/+AVFUR0dHUePHsVxfO7cubNmzUpOTkZRdOzYsePGjePxeA8++GBMTMyePXteeeUVHo9nW57YIzHp+vXrFEXBpw6DUv7zP/8TPieFQjFnzpze3t6+vj4AwIIFCzo6OtLT02m9AjrpAACFhYVwubxx48aECRMaGxtPnTpVWVnZ2toqEAg+++wzgUAgkUgWLlwIRREMwy5fvvzkk08eP36cz+e3tLRER0cfPXp09uzZHA6no6MDuvaEQuGrr74qFAqZJUbNZvOUKVPgeqpWq1EU9USL4HA4cNmBf+/cuZORkWG3omlSUhItTkDnFPzN9Gz29/fHx8dbLJaqqiqhUFhSUkLrY319fbNmzWL2wIyHoyjqhRdeYFaQgKpabGwstP37bv/aiBEj4AeF9rqmpaUxK8UwQ5UcVTe2ciNYLBa5XD5ixAhbn5rdHu7cuTN8+PDIyEhoCpLJZARBvPfeexiG5eXlvfvuu7ZNHHnrHtyyZYuDkQ6MRx99FH4SAAATJkyYMmXKkiVL4FcwOjo6KSlp+vTp3d3d586dW7ZsWVRU1IkTJwwGw4IFC0aNGhUbGwtZfNmyZSdOnOjo6Ni0aVNMTMyYMWOampqmTJny7LPPzpo16/Lly2fOnHnqqaceeeSR6OjoEydOXL58+ZlnnnnooYdGjBhx4sSJpUuXPvTQQ88999y5c+fOnTsH/xUfH3/kyJHLly//4Q9/iIyMXL169YcffjhixIi0tLQZM2ZkZGTIZLLe3t558+a5PfavvvrKYrHMnDkTAGAymb7++mso6XV3d9fX19+9e3f69OkURV25cuWxxx7r7+8/ceLEhQsXpFJpWlrayZMnly1bBgB4/PHHt23b1tPTs3///r/85S86na60tHTq1KnJycnPPvvsiRMn9Hq9SCTKy8v74YcfPv744wsXLtTU1Dz//PPDhg07ePCgwWD497///bvf/e78+fM4jmu12o8//njTpk1CoZDL5U6aNGnp0qXDhw/ft2/fyJEjL168+Mwzz7zxxhurV6/W6/UXLlyYNWuW28MHAHz33Xc6nQ5WXaIo6ujRo8XFxV1dXZ9//vnnn39+5MiR+fPnDx06VKVSjR49+re//W1FRQWO41VVVdnZ2dXV1VASfuihh9Rq9VdffVVdXf3hhx9C4TAuLm7atGkZGRlTpkxpaGiQSqWxsbFr16794x//SPcAV5L+/n6VSpWXlxcVFaXX6zUazWeffVZQUPD222+TJDlkyJCsrKxx48Z99NFH3d3dkZGRKIq+9tprGzdu7Onpeeedd+BToBHyptUwwvAWwpt7wgjjR4SZIYwwfkSYGcII40f8fxpd9TMNIqx/AAAAAElFTkSuQmCC)"
      ],
      "metadata": {
        "id": "yTQxZRNz8wh0"
      }
    },
    {
      "cell_type": "code",
      "source": [
        "# Removing outlier from selling_price\n",
        "plt.figure(figsize=(10,5))\n",
        "\n",
        "plt.subplot(121)\n",
        "sns.boxplot(df['selling_price'])\n",
        "\n",
        "plt.subplot(122)\n",
        "sns.distplot(df['selling_price'])"
      ],
      "metadata": {
        "colab": {
          "base_uri": "https://localhost:8080/",
          "height": 728
        },
        "id": "YG5ZMIMn5IKR",
        "outputId": "84124092-fe7d-4856-92fc-94d9c65c6efe"
      },
      "execution_count": 174,
      "outputs": [
        {
          "output_type": "stream",
          "name": "stderr",
          "text": [
            "/usr/local/lib/python3.10/dist-packages/ipykernel/ipkernel.py:283: DeprecationWarning: `should_run_async` will not call `transform_cell` automatically in the future. Please pass the result to `transformed_cell` argument and any exception that happen during thetransform in `preprocessing_exc_tuple` in IPython 7.17 and above.\n",
            "  and should_run_async(code)\n",
            "<ipython-input-174-c6c13807c069>:8: UserWarning: \n",
            "\n",
            "`distplot` is a deprecated function and will be removed in seaborn v0.14.0.\n",
            "\n",
            "Please adapt your code to use either `displot` (a figure-level function with\n",
            "similar flexibility) or `histplot` (an axes-level function for histograms).\n",
            "\n",
            "For a guide to updating your code to use the new functions, please see\n",
            "https://gist.github.com/mwaskom/de44147ed2974457ad6372750bbe5751\n",
            "\n",
            "  sns.distplot(df['selling_price'])\n"
          ]
        },
        {
          "output_type": "execute_result",
          "data": {
            "text/plain": [
              "<Axes: xlabel='selling_price', ylabel='Density'>"
            ]
          },
          "metadata": {},
          "execution_count": 174
        },
        {
          "output_type": "display_data",
          "data": {
            "text/plain": [
              "<Figure size 1000x500 with 2 Axes>"
            ],
            "image/png": "[encoded data removed]"
          },
          "metadata": {}
        }
      ]
    },
    {
      "cell_type": "code",
      "source": [
        "df.shape"
      ],
      "metadata": {
        "colab": {
          "base_uri": "https://localhost:8080/"
        },
        "id": "uB94_D8rB2po",
        "outputId": "bd0af14d-c221-4413-d637-8fdbcf9af4db"
      },
      "execution_count": 175,
      "outputs": [
        {
          "output_type": "stream",
          "name": "stderr",
          "text": [
            "/usr/local/lib/python3.10/dist-packages/ipykernel/ipkernel.py:283: DeprecationWarning: `should_run_async` will not call `transform_cell` automatically in the future. Please pass the result to `transformed_cell` argument and any exception that happen during thetransform in `preprocessing_exc_tuple` in IPython 7.17 and above.\n",
            "  and should_run_async(code)\n"
          ]
        },
        {
          "output_type": "execute_result",
          "data": {
            "text/plain": [
              "(19820, 18)"
            ]
          },
          "metadata": {},
          "execution_count": 175
        }
      ]
    },
    {
      "cell_type": "code",
      "source": [
        "#calculating selling_price at each percntile 0,10,20,30,40,50,60,70,80,90,100 \n",
        "for i in range(0,100,10):\n",
        "    var =df[\"selling_price\"].values\n",
        "    var = np.sort(var,axis = None)\n",
        "    print(\"{} percentile value is {}\".format(i,var[int(len(var)*(float(i)/100))]))\n",
        "print(\"100 percentile value is \",var[-1])"
      ],
      "metadata": {
        "colab": {
          "base_uri": "https://localhost:8080/"
        },
        "id": "4p1oTlK7_Sed",
        "outputId": "a587d8b7-38a4-4914-e77c-9dcb2f86a841"
      },
      "execution_count": 176,
      "outputs": [
        {
          "output_type": "stream",
          "name": "stdout",
          "text": [
            "0 percentile value is 0.3\n",
            "10 percentile value is 2.3\n",
            "20 percentile value is 3.0\n",
            "30 percentile value is 3.75\n",
            "40 percentile value is 4.5\n",
            "50 percentile value is 5.2\n",
            "60 percentile value is 6.0\n",
            "70 percentile value is 7.0\n",
            "80 percentile value is 8.75\n",
            "90 percentile value is 13.5\n",
            "100 percentile value is  395.0\n"
          ]
        }
      ]
    },
    {
      "cell_type": "code",
      "source": [
        "for i in range(90,100):\n",
        "    var =df[\"selling_price\"].values\n",
        "    var = np.sort(var,axis = None)\n",
        "    print(\"{} percentile value is {}\".format(i,var[int(len(var)*(float(i)/100))]))\n",
        "print(\"100 percentile value is \",var[-1])"
      ],
      "metadata": {
        "colab": {
          "base_uri": "https://localhost:8080/"
        },
        "id": "2p88HS0vBbJT",
        "outputId": "b7622fa8-8f4a-4054-95ab-6e8967079c14"
      },
      "execution_count": 177,
      "outputs": [
        {
          "output_type": "stream",
          "name": "stdout",
          "text": [
            "90 percentile value is 13.5\n",
            "91 percentile value is 14.5\n",
            "92 percentile value is 15.6\n",
            "93 percentile value is 17.0\n",
            "94 percentile value is 18.5\n",
            "95 percentile value is 20.95\n",
            "96 percentile value is 24.99\n",
            "97 percentile value is 28.5\n",
            "98 percentile value is 33.5\n",
            "99 percentile value is 45.0\n",
            "100 percentile value is  395.0\n"
          ]
        }
      ]
    },
    {
      "cell_type": "code",
      "source": [
        "#calculating selling_price at each percntile 99.0,99.1,99.2,99.3,99.4,99.5,99.6,99.7,99.8,99.9,100\n",
        "for i in np.arange(0.0, 1.0, 0.1):\n",
        "    var =df[\"selling_price\"].values\n",
        "    var = np.sort(var,axis = None)\n",
        "    print(\"{} percentile value is {}\".format(99+i,var[int(len(var)*(float(99+i)/100))]))\n",
        "print(\"100 percentile value is \",var[-1])"
      ],
      "metadata": {
        "colab": {
          "base_uri": "https://localhost:8080/"
        },
        "id": "t5egJHsiBrK6",
        "outputId": "e217f3d2-2408-4c52-9cac-9eb218f13f68"
      },
      "execution_count": 178,
      "outputs": [
        {
          "output_type": "stream",
          "name": "stdout",
          "text": [
            "99.0 percentile value is 45.0\n",
            "99.1 percentile value is 47.0\n",
            "99.2 percentile value is 50.0\n",
            "99.3 percentile value is 52.95\n",
            "99.4 percentile value is 55.95\n",
            "99.5 percentile value is 58.1\n",
            "99.6 percentile value is 61.99\n",
            "99.7 percentile value is 65.0\n",
            "99.8 percentile value is 71.99\n",
            "99.9 percentile value is 82.0\n",
            "100 percentile value is  395.0\n"
          ]
        }
      ]
    },
    {
      "cell_type": "code",
      "source": [
        "#removing further outliers based on the 99.9th percentile value\n",
        "df = df[df['selling_price'] <= 82]"
      ],
      "metadata": {
        "id": "arIbAAOdCFee"
      },
      "execution_count": 179,
      "outputs": []
    },
    {
      "cell_type": "code",
      "source": [
        "df.shape"
      ],
      "metadata": {
        "colab": {
          "base_uri": "https://localhost:8080/"
        },
        "id": "xXWNKP9eDGS5",
        "outputId": "efe0a287-9fa5-42fd-d5a3-ef9f7b146e33"
      },
      "execution_count": 180,
      "outputs": [
        {
          "output_type": "execute_result",
          "data": {
            "text/plain": [
              "(19801, 18)"
            ]
          },
          "metadata": {},
          "execution_count": 180
        }
      ]
    },
    {
      "cell_type": "code",
      "source": [
        "# Removing outlier from selling_price\n",
        "plt.figure(figsize=(10,5))\n",
        "\n",
        "plt.subplot(121)\n",
        "sns.boxplot(df['selling_price'])\n",
        "\n",
        "plt.subplot(122)\n",
        "sns.distplot(df['selling_price'])"
      ],
      "metadata": {
        "colab": {
          "base_uri": "https://localhost:8080/",
          "height": 674
        },
        "id": "jSdF3fjwDEdc",
        "outputId": "f6364c7a-89d9-4058-e21f-0ff6bdd0958a"
      },
      "execution_count": 181,
      "outputs": [
        {
          "output_type": "stream",
          "name": "stderr",
          "text": [
            "<ipython-input-181-c6c13807c069>:8: UserWarning: \n",
            "\n",
            "`distplot` is a deprecated function and will be removed in seaborn v0.14.0.\n",
            "\n",
            "Please adapt your code to use either `displot` (a figure-level function with\n",
            "similar flexibility) or `histplot` (an axes-level function for histograms).\n",
            "\n",
            "For a guide to updating your code to use the new functions, please see\n",
            "https://gist.github.com/mwaskom/de44147ed2974457ad6372750bbe5751\n",
            "\n",
            "  sns.distplot(df['selling_price'])\n"
          ]
        },
        {
          "output_type": "execute_result",
          "data": {
            "text/plain": [
              "<Axes: xlabel='selling_price', ylabel='Density'>"
            ]
          },
          "metadata": {},
          "execution_count": 181
        },
        {
          "output_type": "display_data",
          "data": {
            "text/plain": [
              "<Figure size 1000x500 with 2 Axes>"
            ],
            "image/png": "[encoded data removed]"
          },
          "metadata": {}
        }
      ]
    },
    {
      "cell_type": "code",
      "source": [
        "df = df[df['selling_price'] <= 25]"
      ],
      "metadata": {
        "colab": {
          "base_uri": "https://localhost:8080/"
        },
        "id": "38ZY6CGBDRdg",
        "outputId": "9a8af766-cd77-44ca-9bca-336b4038e59e"
      },
      "execution_count": 182,
      "outputs": [
        {
          "output_type": "stream",
          "name": "stderr",
          "text": [
            "/usr/local/lib/python3.10/dist-packages/ipykernel/ipkernel.py:283: DeprecationWarning: `should_run_async` will not call `transform_cell` automatically in the future. Please pass the result to `transformed_cell` argument and any exception that happen during thetransform in `preprocessing_exc_tuple` in IPython 7.17 and above.\n",
            "  and should_run_async(code)\n"
          ]
        }
      ]
    },
    {
      "cell_type": "code",
      "source": [
        "# Removing outlier from selling_price\n",
        "plt.figure(figsize=(10,5))\n",
        "\n",
        "plt.subplot(121)\n",
        "sns.boxplot(df['selling_price'])\n",
        "\n",
        "plt.subplot(122)\n",
        "sns.distplot(df['selling_price'])"
      ],
      "metadata": {
        "colab": {
          "base_uri": "https://localhost:8080/",
          "height": 673
        },
        "id": "xVVZoYuuD8Fs",
        "outputId": "1baa3951-2b43-4302-eb18-4f14aeecce7a"
      },
      "execution_count": 183,
      "outputs": [
        {
          "output_type": "stream",
          "name": "stderr",
          "text": [
            "<ipython-input-183-c6c13807c069>:8: UserWarning: \n",
            "\n",
            "`distplot` is a deprecated function and will be removed in seaborn v0.14.0.\n",
            "\n",
            "Please adapt your code to use either `displot` (a figure-level function with\n",
            "similar flexibility) or `histplot` (an axes-level function for histograms).\n",
            "\n",
            "For a guide to updating your code to use the new functions, please see\n",
            "https://gist.github.com/mwaskom/de44147ed2974457ad6372750bbe5751\n",
            "\n",
            "  sns.distplot(df['selling_price'])\n"
          ]
        },
        {
          "output_type": "execute_result",
          "data": {
            "text/plain": [
              "<Axes: xlabel='selling_price', ylabel='Density'>"
            ]
          },
          "metadata": {},
          "execution_count": 183
        },
        {
          "output_type": "display_data",
          "data": {
            "text/plain": [
              "<Figure size 1000x500 with 2 Axes>"
            ],
            "image/png": "[encoded data removed]"
          },
          "metadata": {}
        }
      ]
    },
    {
      "cell_type": "code",
      "source": [
        "X = df[cols4]\n",
        "Y = df['selling_price']"
      ],
      "metadata": {
        "colab": {
          "base_uri": "https://localhost:8080/"
        },
        "id": "00agya_bD8g0",
        "outputId": "94dc2a29-b03f-4269-99a8-1023a4920833"
      },
      "execution_count": 184,
      "outputs": [
        {
          "output_type": "stream",
          "name": "stderr",
          "text": [
            "/usr/local/lib/python3.10/dist-packages/ipykernel/ipkernel.py:283: DeprecationWarning: `should_run_async` will not call `transform_cell` automatically in the future. Please pass the result to `transformed_cell` argument and any exception that happen during thetransform in `preprocessing_exc_tuple` in IPython 7.17 and above.\n",
            "  and should_run_async(code)\n"
          ]
        }
      ]
    },
    {
      "cell_type": "code",
      "source": [
        "sc = StandardScaler()\n",
        "std_X = sc.fit_transform(X)\n",
        "std_X = pd.DataFrame(data = std_X, columns = X.columns)"
      ],
      "metadata": {
        "colab": {
          "base_uri": "https://localhost:8080/"
        },
        "id": "877xxYLVEDe-",
        "outputId": "2e51cd9b-0bf2-45da-a45b-a12129bf08de"
      },
      "execution_count": 185,
      "outputs": [
        {
          "output_type": "stream",
          "name": "stderr",
          "text": [
            "/usr/local/lib/python3.10/dist-packages/ipykernel/ipkernel.py:283: DeprecationWarning: `should_run_async` will not call `transform_cell` automatically in the future. Please pass the result to `transformed_cell` argument and any exception that happen during thetransform in `preprocessing_exc_tuple` in IPython 7.17 and above.\n",
            "  and should_run_async(code)\n"
          ]
        }
      ]
    },
    {
      "cell_type": "code",
      "source": [
        "std_X.head()"
      ],
      "metadata": {
        "colab": {
          "base_uri": "https://localhost:8080/",
          "height": 261
        },
        "id": "Y59AfTEdEukj",
        "outputId": "32078c56-c018-4251-d6b3-d7ee63d84a94"
      },
      "execution_count": 186,
      "outputs": [
        {
          "output_type": "stream",
          "name": "stderr",
          "text": [
            "/usr/local/lib/python3.10/dist-packages/ipykernel/ipkernel.py:283: DeprecationWarning: `should_run_async` will not call `transform_cell` automatically in the future. Please pass the result to `transformed_cell` argument and any exception that happen during thetransform in `preprocessing_exc_tuple` in IPython 7.17 and above.\n",
            "  and should_run_async(code)\n"
          ]
        },
        {
          "output_type": "execute_result",
          "data": {
            "text/plain": [
              "   km_driven      year  transmission_type  max_power    engine  seats_coupe\n",
              "0   1.170598 -0.772937           0.447312  -1.293339 -1.371081    -0.092584\n",
              "1  -0.747033  0.473532           0.447312  -0.313359 -0.510079    -0.092584\n",
              "2   0.020019 -1.396172           0.447312  -0.368260 -0.510079    -0.092584\n",
              "3  -0.421036 -0.772937           0.447312  -0.722371 -0.937359    -0.092584\n",
              "4  -0.555270  0.161915           0.447312   0.142043  0.136209    -0.092584"
            ],
            "text/html": [
              "\n",
              "  <div id=\"df-621d135e-e2bc-450e-afa7-47baadd5608c\">\n",
              "    <div class=\"colab-df-container\">\n",
              "      <div>\n",
              "<style scoped>\n",
              "    .dataframe tbody tr th:only-of-type {\n",
              "        vertical-align: middle;\n",
              "    }\n",
              "\n",
              "    .dataframe tbody tr th {\n",
              "        vertical-align: top;\n",
              "    }\n",
              "\n",
              "    .dataframe thead th {\n",
              "        text-align: right;\n",
              "    }\n",
              "</style>\n",
              "<table border=\"1\" class=\"dataframe\">\n",
              "  <thead>\n",
              "    <tr style=\"text-align: right;\">\n",
              "      <th></th>\n",
              "      <th>km_driven</th>\n",
              "      <th>year</th>\n",
              "      <th>transmission_type</th>\n",
              "      <th>max_power</th>\n",
              "      <th>engine</th>\n",
              "      <th>seats_coupe</th>\n",
              "    </tr>\n",
              "  </thead>\n",
              "  <tbody>\n",
              "    <tr>\n",
              "      <th>0</th>\n",
              "      <td>1.170598</td>\n",
              "      <td>-0.772937</td>\n",
              "      <td>0.447312</td>\n",
              "      <td>-1.293339</td>\n",
              "      <td>-1.371081</td>\n",
              "      <td>-0.092584</td>\n",
              "    </tr>\n",
              "    <tr>\n",
              "      <th>1</th>\n",
              "      <td>-0.747033</td>\n",
              "      <td>0.473532</td>\n",
              "      <td>0.447312</td>\n",
              "      <td>-0.313359</td>\n",
              "      <td>-0.510079</td>\n",
              "      <td>-0.092584</td>\n",
              "    </tr>\n",
              "    <tr>\n",
              "      <th>2</th>\n",
              "      <td>0.020019</td>\n",
              "      <td>-1.396172</td>\n",
              "      <td>0.447312</td>\n",
              "      <td>-0.368260</td>\n",
              "      <td>-0.510079</td>\n",
              "      <td>-0.092584</td>\n",
              "    </tr>\n",
              "    <tr>\n",
              "      <th>3</th>\n",
              "      <td>-0.421036</td>\n",
              "      <td>-0.772937</td>\n",
              "      <td>0.447312</td>\n",
              "      <td>-0.722371</td>\n",
              "      <td>-0.937359</td>\n",
              "      <td>-0.092584</td>\n",
              "    </tr>\n",
              "    <tr>\n",
              "      <th>4</th>\n",
              "      <td>-0.555270</td>\n",
              "      <td>0.161915</td>\n",
              "      <td>0.447312</td>\n",
              "      <td>0.142043</td>\n",
              "      <td>0.136209</td>\n",
              "      <td>-0.092584</td>\n",
              "    </tr>\n",
              "  </tbody>\n",
              "</table>\n",
              "</div>\n",
              "      <button class=\"colab-df-convert\" onclick=\"convertToInteractive('df-621d135e-e2bc-450e-afa7-47baadd5608c')\"\n",
              "              title=\"Convert this dataframe to an interactive table.\"\n",
              "              style=\"display:none;\">\n",
              "        \n",
              "  <svg xmlns=\"http://www.w3.org/2000/svg\" height=\"24px\"viewBox=\"0 0 24 24\"\n",
              "       width=\"24px\">\n",
              "    <path d=\"M0 0h24v24H0V0z\" fill=\"none\"/>\n",
              "    <path d=\"M18.56 5.44l.94 2.06.94-2.06 2.06-.94-2.06-.94-.94-2.06-.94 2.06-2.06.94zm-11 1L8.5 8.5l.94-2.06 2.06-.94-2.06-.94L8.5 2.5l-.94 2.06-2.06.94zm10 10l.94 2.06.94-2.06 2.06-.94-2.06-.94-.94-2.06-.94 2.06-2.06.94z\"/><path d=\"M17.41 7.96l-1.37-1.37c-.4-.4-.92-.59-1.43-.59-.52 0-1.04.2-1.43.59L10.3 9.45l-7.72 7.72c-.78.78-.78 2.05 0 2.83L4 21.41c.39.39.9.59 1.41.59.51 0 1.02-.2 1.41-.59l7.78-7.78 2.81-2.81c.8-.78.8-2.07 0-2.86zM5.41 20L4 18.59l7.72-7.72 1.47 1.35L5.41 20z\"/>\n",
              "  </svg>\n",
              "      </button>\n",
              "      \n",
              "  <style>\n",
              "    .colab-df-container {\n",
              "      display:flex;\n",
              "      flex-wrap:wrap;\n",
              "      gap: 12px;\n",
              "    }\n",
              "\n",
              "    .colab-df-convert {\n",
              "      background-color: #E8F0FE;\n",
              "      border: none;\n",
              "      border-radius: 50%;\n",
              "      cursor: pointer;\n",
              "      display: none;\n",
              "      fill: #1967D2;\n",
              "      height: 32px;\n",
              "      padding: 0 0 0 0;\n",
              "      width: 32px;\n",
              "    }\n",
              "\n",
              "    .colab-df-convert:hover {\n",
              "      background-color: #E2EBFA;\n",
              "      box-shadow: 0px 1px 2px rgba(60, 64, 67, 0.3), 0px 1px 3px 1px rgba(60, 64, 67, 0.15);\n",
              "      fill: #174EA6;\n",
              "    }\n",
              "\n",
              "    [theme=dark] .colab-df-convert {\n",
              "      background-color: #3B4455;\n",
              "      fill: #D2E3FC;\n",
              "    }\n",
              "\n",
              "    [theme=dark] .colab-df-convert:hover {\n",
              "      background-color: #434B5C;\n",
              "      box-shadow: 0px 1px 3px 1px rgba(0, 0, 0, 0.15);\n",
              "      filter: drop-shadow(0px 1px 2px rgba(0, 0, 0, 0.3));\n",
              "      fill: #FFFFFF;\n",
              "    }\n",
              "  </style>\n",
              "\n",
              "      <script>\n",
              "        const buttonEl =\n",
              "          document.querySelector('#df-621d135e-e2bc-450e-afa7-47baadd5608c button.colab-df-convert');\n",
              "        buttonEl.style.display =\n",
              "          google.colab.kernel.accessAllowed ? 'block' : 'none';\n",
              "\n",
              "        async function convertToInteractive(key) {\n",
              "          const element = document.querySelector('#df-621d135e-e2bc-450e-afa7-47baadd5608c');\n",
              "          const dataTable =\n",
              "            await google.colab.kernel.invokeFunction('convertToInteractive',\n",
              "                                                     [key], {});\n",
              "          if (!dataTable) return;\n",
              "\n",
              "          const docLinkHtml = 'Like what you see? Visit the ' +\n",
              "            '<a target=\"_blank\" href=https://colab.research.google.com/notebooks/data_table.ipynb>data table notebook</a>'\n",
              "            + ' to learn more about interactive tables.';\n",
              "          element.innerHTML = '';\n",
              "          dataTable['output_type'] = 'display_data';\n",
              "          await google.colab.output.renderOutput(dataTable, element);\n",
              "          const docLink = document.createElement('div');\n",
              "          docLink.innerHTML = docLinkHtml;\n",
              "          element.appendChild(docLink);\n",
              "        }\n",
              "      </script>\n",
              "    </div>\n",
              "  </div>\n",
              "  "
            ]
          },
          "metadata": {},
          "execution_count": 186
        }
      ]
    },
    {
      "cell_type": "code",
      "source": [
        "x_train, x_test, y_train, y_test = train_test_split(std_X, Y, test_size=0.1, random_state=1)"
      ],
      "metadata": {
        "colab": {
          "base_uri": "https://localhost:8080/"
        },
        "id": "Imfi-TRoF3Sa",
        "outputId": "4f7e4945-d9f9-4993-f185-b7af65ece824"
      },
      "execution_count": 187,
      "outputs": [
        {
          "output_type": "stream",
          "name": "stderr",
          "text": [
            "/usr/local/lib/python3.10/dist-packages/ipykernel/ipkernel.py:283: DeprecationWarning: `should_run_async` will not call `transform_cell` automatically in the future. Please pass the result to `transformed_cell` argument and any exception that happen during thetransform in `preprocessing_exc_tuple` in IPython 7.17 and above.\n",
            "  and should_run_async(code)\n"
          ]
        }
      ]
    },
    {
      "cell_type": "code",
      "source": [
        "final = LinearRegression()\n",
        "final.fit(x_train, y_train)"
      ],
      "metadata": {
        "colab": {
          "base_uri": "https://localhost:8080/",
          "height": 75
        },
        "id": "EauKqSl0GYSu",
        "outputId": "27cea4e4-71e7-49b5-81b4-940a78425ffa"
      },
      "execution_count": 188,
      "outputs": [
        {
          "output_type": "execute_result",
          "data": {
            "text/plain": [
              "LinearRegression()"
            ],
            "text/html": [
              "<style>#sk-container-id-8 {color: black;background-color: white;}#sk-container-id-8 pre{padding: 0;}#sk-container-id-8 div.sk-toggleable {background-color: white;}#sk-container-id-8 label.sk-toggleable__label {cursor: pointer;display: block;width: 100%;margin-bottom: 0;padding: 0.3em;box-sizing: border-box;text-align: center;}#sk-container-id-8 label.sk-toggleable__label-arrow:before {content: \"▸\";float: left;margin-right: 0.25em;color: #696969;}#sk-container-id-8 label.sk-toggleable__label-arrow:hover:before {color: black;}#sk-container-id-8 div.sk-estimator:hover label.sk-toggleable__label-arrow:before {color: black;}#sk-container-id-8 div.sk-toggleable__content {max-height: 0;max-width: 0;overflow: hidden;text-align: left;background-color: #f0f8ff;}#sk-container-id-8 div.sk-toggleable__content pre {margin: 0.2em;color: black;border-radius: 0.25em;background-color: #f0f8ff;}#sk-container-id-8 input.sk-toggleable__control:checked~div.sk-toggleable__content {max-height: 200px;max-width: 100%;overflow: auto;}#sk-container-id-8 input.sk-toggleable__control:checked~label.sk-toggleable__label-arrow:before {content: \"▾\";}#sk-container-id-8 div.sk-estimator input.sk-toggleable__control:checked~label.sk-toggleable__label {background-color: #d4ebff;}#sk-container-id-8 div.sk-label input.sk-toggleable__control:checked~label.sk-toggleable__label {background-color: #d4ebff;}#sk-container-id-8 input.sk-hidden--visually {border: 0;clip: rect(1px 1px 1px 1px);clip: rect(1px, 1px, 1px, 1px);height: 1px;margin: -1px;overflow: hidden;padding: 0;position: absolute;width: 1px;}#sk-container-id-8 div.sk-estimator {font-family: monospace;background-color: #f0f8ff;border: 1px dotted black;border-radius: 0.25em;box-sizing: border-box;margin-bottom: 0.5em;}#sk-container-id-8 div.sk-estimator:hover {background-color: #d4ebff;}#sk-container-id-8 div.sk-parallel-item::after {content: \"\";width: 100%;border-bottom: 1px solid gray;flex-grow: 1;}#sk-container-id-8 div.sk-label:hover label.sk-toggleable__label {background-color: #d4ebff;}#sk-container-id-8 div.sk-serial::before {content: \"\";position: absolute;border-left: 1px solid gray;box-sizing: border-box;top: 0;bottom: 0;left: 50%;z-index: 0;}#sk-container-id-8 div.sk-serial {display: flex;flex-direction: column;align-items: center;background-color: white;padding-right: 0.2em;padding-left: 0.2em;position: relative;}#sk-container-id-8 div.sk-item {position: relative;z-index: 1;}#sk-container-id-8 div.sk-parallel {display: flex;align-items: stretch;justify-content: center;background-color: white;position: relative;}#sk-container-id-8 div.sk-item::before, #sk-container-id-8 div.sk-parallel-item::before {content: \"\";position: absolute;border-left: 1px solid gray;box-sizing: border-box;top: 0;bottom: 0;left: 50%;z-index: -1;}#sk-container-id-8 div.sk-parallel-item {display: flex;flex-direction: column;z-index: 1;position: relative;background-color: white;}#sk-container-id-8 div.sk-parallel-item:first-child::after {align-self: flex-end;width: 50%;}#sk-container-id-8 div.sk-parallel-item:last-child::after {align-self: flex-start;width: 50%;}#sk-container-id-8 div.sk-parallel-item:only-child::after {width: 0;}#sk-container-id-8 div.sk-dashed-wrapped {border: 1px dashed gray;margin: 0 0.4em 0.5em 0.4em;box-sizing: border-box;padding-bottom: 0.4em;background-color: white;}#sk-container-id-8 div.sk-label label {font-family: monospace;font-weight: bold;display: inline-block;line-height: 1.2em;}#sk-container-id-8 div.sk-label-container {text-align: center;}#sk-container-id-8 div.sk-container {/* jupyter's `normalize.less` sets `[hidden] { display: none; }` but bootstrap.min.css set `[hidden] { display: none !important; }` so we also need the `!important` here to be able to override the default hidden behavior on the sphinx rendered scikit-learn.org. See: https://github.com/scikit-learn/scikit-learn/issues/21755 */display: inline-block !important;position: relative;}#sk-container-id-8 div.sk-text-repr-fallback {display: none;}</style><div id=\"sk-container-id-8\" class=\"sk-top-container\"><div class=\"sk-text-repr-fallback\"><pre>LinearRegression()</pre><b>In a Jupyter environment, please rerun this cell to show the HTML representation or trust the notebook. <br />On GitHub, the HTML representation is unable to render, please try loading this page with nbviewer.org.</b></div><div class=\"sk-container\" hidden><div class=\"sk-item\"><div class=\"sk-estimator sk-toggleable\"><input class=\"sk-toggleable__control sk-hidden--visually\" id=\"sk-estimator-id-8\" type=\"checkbox\" checked><label for=\"sk-estimator-id-8\" class=\"sk-toggleable__label sk-toggleable__label-arrow\">LinearRegression</label><div class=\"sk-toggleable__content\"><pre>LinearRegression()</pre></div></div></div></div></div>"
            ]
          },
          "metadata": {},
          "execution_count": 188
        }
      ]
    },
    {
      "cell_type": "code",
      "source": [
        "final.score(x_train, y_train) # R-square"
      ],
      "metadata": {
        "colab": {
          "base_uri": "https://localhost:8080/"
        },
        "id": "5SmUNuIPGnyv",
        "outputId": "0ba459cc-557d-4e97-ac08-ba9a28fd60f9"
      },
      "execution_count": 189,
      "outputs": [
        {
          "output_type": "stream",
          "name": "stderr",
          "text": [
            "/usr/local/lib/python3.10/dist-packages/ipykernel/ipkernel.py:283: DeprecationWarning: `should_run_async` will not call `transform_cell` automatically in the future. Please pass the result to `transformed_cell` argument and any exception that happen during thetransform in `preprocessing_exc_tuple` in IPython 7.17 and above.\n",
            "  and should_run_async(code)\n"
          ]
        },
        {
          "output_type": "execute_result",
          "data": {
            "text/plain": [
              "0.6968194825765284"
            ]
          },
          "metadata": {},
          "execution_count": 189
        }
      ]
    },
    {
      "cell_type": "code",
      "source": [
        "Adjusted_R_Squared = 1 - (1-final.score(std_X,Y)) * (len(Y) - 1) / (len(Y) - std_X.shape[1]-1)\n",
        "Adjusted_R_Squared"
      ],
      "metadata": {
        "colab": {
          "base_uri": "https://localhost:8080/"
        },
        "id": "tGiGTA8FGx4f",
        "outputId": "9162ffd5-afe1-4369-9b72-56aad502b478"
      },
      "execution_count": 190,
      "outputs": [
        {
          "output_type": "stream",
          "name": "stderr",
          "text": [
            "/usr/local/lib/python3.10/dist-packages/ipykernel/ipkernel.py:283: DeprecationWarning: `should_run_async` will not call `transform_cell` automatically in the future. Please pass the result to `transformed_cell` argument and any exception that happen during thetransform in `preprocessing_exc_tuple` in IPython 7.17 and above.\n",
            "  and should_run_async(code)\n"
          ]
        },
        {
          "output_type": "execute_result",
          "data": {
            "text/plain": [
              "0.69558693883487"
            ]
          },
          "metadata": {},
          "execution_count": 190
        }
      ]
    },
    {
      "cell_type": "code",
      "source": [
        "y_pred = final.predict(x_test)"
      ],
      "metadata": {
        "colab": {
          "base_uri": "https://localhost:8080/"
        },
        "id": "nqSaYQvFH2hT",
        "outputId": "d65839b3-1958-408d-a5d9-6e34f1583848"
      },
      "execution_count": 191,
      "outputs": [
        {
          "output_type": "stream",
          "name": "stderr",
          "text": [
            "/usr/local/lib/python3.10/dist-packages/ipykernel/ipkernel.py:283: DeprecationWarning: `should_run_async` will not call `transform_cell` automatically in the future. Please pass the result to `transformed_cell` argument and any exception that happen during thetransform in `preprocessing_exc_tuple` in IPython 7.17 and above.\n",
            "  and should_run_async(code)\n"
          ]
        }
      ]
    },
    {
      "cell_type": "code",
      "source": [
        "from sklearn.metrics import mean_absolute_error\n",
        "from sklearn.metrics import mean_squared_error\n",
        "\n",
        "MAE = mean_absolute_error(y_test,y_pred)\n",
        "MSE = mean_squared_error(y_test, y_pred)\n",
        "RMSE = np.sqrt(MSE)\n",
        "print(\"MAE : \", MAE)\n",
        "print(\"MSE : \", MSE)\n",
        "print(\"RMSE : \", RMSE)"
      ],
      "metadata": {
        "colab": {
          "base_uri": "https://localhost:8080/"
        },
        "id": "XdbXS4DrIJrV",
        "outputId": "29ee934f-7785-4adb-fb03-be320e92c017"
      },
      "execution_count": 192,
      "outputs": [
        {
          "output_type": "stream",
          "name": "stdout",
          "text": [
            "MAE :  1.568894517199689\n",
            "MSE :  5.389058229197303\n",
            "RMSE :  2.3214345196876227\n"
          ]
        },
        {
          "output_type": "stream",
          "name": "stderr",
          "text": [
            "/usr/local/lib/python3.10/dist-packages/ipykernel/ipkernel.py:283: DeprecationWarning: `should_run_async` will not call `transform_cell` automatically in the future. Please pass the result to `transformed_cell` argument and any exception that happen during thetransform in `preprocessing_exc_tuple` in IPython 7.17 and above.\n",
            "  and should_run_async(code)\n"
          ]
        }
      ]
    },
    {
      "cell_type": "markdown",
      "source": [
        "### Residual Analysis after removing outlier"
      ],
      "metadata": {
        "id": "q_p8A7bmI52V"
      }
    },
    {
      "cell_type": "code",
      "source": [
        "pred = final.predict(x_train)\n",
        "errors = pred - y_train"
      ],
      "metadata": {
        "colab": {
          "base_uri": "https://localhost:8080/"
        },
        "id": "IOb79y2UIe_E",
        "outputId": "c0042597-a48c-48cf-df0d-770ea2e99f45"
      },
      "execution_count": 193,
      "outputs": [
        {
          "output_type": "stream",
          "name": "stderr",
          "text": [
            "/usr/local/lib/python3.10/dist-packages/ipykernel/ipkernel.py:283: DeprecationWarning: `should_run_async` will not call `transform_cell` automatically in the future. Please pass the result to `transformed_cell` argument and any exception that happen during thetransform in `preprocessing_exc_tuple` in IPython 7.17 and above.\n",
            "  and should_run_async(code)\n"
          ]
        }
      ]
    },
    {
      "cell_type": "code",
      "source": [
        "sns.distplot(errors)"
      ],
      "metadata": {
        "colab": {
          "base_uri": "https://localhost:8080/",
          "height": 766
        },
        "id": "OVTStflZJYZU",
        "outputId": "56a1411a-04b7-430a-81be-9a566dbf5d5f"
      },
      "execution_count": 194,
      "outputs": [
        {
          "output_type": "stream",
          "name": "stderr",
          "text": [
            "/usr/local/lib/python3.10/dist-packages/ipykernel/ipkernel.py:283: DeprecationWarning: `should_run_async` will not call `transform_cell` automatically in the future. Please pass the result to `transformed_cell` argument and any exception that happen during thetransform in `preprocessing_exc_tuple` in IPython 7.17 and above.\n",
            "  and should_run_async(code)\n",
            "<ipython-input-194-4a151ca7bc24>:1: UserWarning: \n",
            "\n",
            "`distplot` is a deprecated function and will be removed in seaborn v0.14.0.\n",
            "\n",
            "Please adapt your code to use either `displot` (a figure-level function with\n",
            "similar flexibility) or `histplot` (an axes-level function for histograms).\n",
            "\n",
            "For a guide to updating your code to use the new functions, please see\n",
            "https://gist.github.com/mwaskom/de44147ed2974457ad6372750bbe5751\n",
            "\n",
            "  sns.distplot(errors)\n"
          ]
        },
        {
          "output_type": "execute_result",
          "data": {
            "text/plain": [
              "<Axes: xlabel='selling_price', ylabel='Density'>"
            ]
          },
          "metadata": {},
          "execution_count": 194
        },
        {
          "output_type": "display_data",
          "data": {
            "text/plain": [
              "<Figure size 800x550 with 1 Axes>"
            ],
            "image/png": "[encoded data removed]"
          },
          "metadata": {}
        }
      ]
    },
    {
      "cell_type": "code",
      "source": [
        "## prediction vs residual plot\n",
        "sns.scatterplot(x=pred, y=errors)\n",
        "plt.xlabel(\"Prediction\")\n",
        "plt.ylabel(\"Errors\")"
      ],
      "metadata": {
        "colab": {
          "base_uri": "https://localhost:8080/",
          "height": 575
        },
        "id": "wEwndyPpJeX_",
        "outputId": "bfc2184c-bc03-465c-f325-e06f598e10c3"
      },
      "execution_count": 195,
      "outputs": [
        {
          "output_type": "stream",
          "name": "stderr",
          "text": [
            "/usr/local/lib/python3.10/dist-packages/ipykernel/ipkernel.py:283: DeprecationWarning: `should_run_async` will not call `transform_cell` automatically in the future. Please pass the result to `transformed_cell` argument and any exception that happen during thetransform in `preprocessing_exc_tuple` in IPython 7.17 and above.\n",
            "  and should_run_async(code)\n"
          ]
        },
        {
          "output_type": "execute_result",
          "data": {
            "text/plain": [
              "Text(0, 0.5, 'Errors')"
            ]
          },
          "metadata": {},
          "execution_count": 195
        },
        {
          "output_type": "display_data",
          "data": {
            "text/plain": [
              "<Figure size 800x550 with 1 Axes>"
            ],
            "image/png": "[encoded data removed]"
          },
          "metadata": {}
        }
      ]
    },
    {
      "cell_type": "markdown",
      "source": [
        "As selling_price increases, errors also increases, to here is Autocorrelation."
      ],
      "metadata": {
        "id": "d7BkkKkAM1PJ"
      }
    },
    {
      "cell_type": "code",
      "source": [
        "Y_train = np.log(y_train)\n",
        "Y_test = np.log(y_test)"
      ],
      "metadata": {
        "colab": {
          "base_uri": "https://localhost:8080/"
        },
        "id": "XMizYfOALpx1",
        "outputId": "1f7e78b1-2578-4455-8177-4e37a9e398e2"
      },
      "execution_count": 196,
      "outputs": [
        {
          "output_type": "stream",
          "name": "stderr",
          "text": [
            "/usr/local/lib/python3.10/dist-packages/ipykernel/ipkernel.py:283: DeprecationWarning: `should_run_async` will not call `transform_cell` automatically in the future. Please pass the result to `transformed_cell` argument and any exception that happen during thetransform in `preprocessing_exc_tuple` in IPython 7.17 and above.\n",
            "  and should_run_async(code)\n"
          ]
        }
      ]
    },
    {
      "cell_type": "code",
      "source": [
        "sns.distplot(Y_train)"
      ],
      "metadata": {
        "colab": {
          "base_uri": "https://localhost:8080/",
          "height": 711
        },
        "id": "kwY7AormQfvu",
        "outputId": "9eb05a4a-471e-4a40-9773-bdafdec42242"
      },
      "execution_count": 197,
      "outputs": [
        {
          "output_type": "stream",
          "name": "stderr",
          "text": [
            "<ipython-input-197-41c662f48c87>:1: UserWarning: \n",
            "\n",
            "`distplot` is a deprecated function and will be removed in seaborn v0.14.0.\n",
            "\n",
            "Please adapt your code to use either `displot` (a figure-level function with\n",
            "similar flexibility) or `histplot` (an axes-level function for histograms).\n",
            "\n",
            "For a guide to updating your code to use the new functions, please see\n",
            "https://gist.github.com/mwaskom/de44147ed2974457ad6372750bbe5751\n",
            "\n",
            "  sns.distplot(Y_train)\n"
          ]
        },
        {
          "output_type": "execute_result",
          "data": {
            "text/plain": [
              "<Axes: xlabel='selling_price', ylabel='Density'>"
            ]
          },
          "metadata": {},
          "execution_count": 197
        },
        {
          "output_type": "display_data",
          "data": {
            "text/plain": [
              "<Figure size 800x550 with 1 Axes>"
            ],
            "image/png": "[encoded data removed]"
          },
          "metadata": {}
        }
      ]
    },
    {
      "cell_type": "code",
      "source": [
        "Y_train.min()"
      ],
      "metadata": {
        "colab": {
          "base_uri": "https://localhost:8080/"
        },
        "id": "DpKN_1hrQl1x",
        "outputId": "1fa60cf2-db82-4711-ec40-a4db6e081410"
      },
      "execution_count": 198,
      "outputs": [
        {
          "output_type": "stream",
          "name": "stderr",
          "text": [
            "/usr/local/lib/python3.10/dist-packages/ipykernel/ipkernel.py:283: DeprecationWarning: `should_run_async` will not call `transform_cell` automatically in the future. Please pass the result to `transformed_cell` argument and any exception that happen during thetransform in `preprocessing_exc_tuple` in IPython 7.17 and above.\n",
            "  and should_run_async(code)\n"
          ]
        },
        {
          "output_type": "execute_result",
          "data": {
            "text/plain": [
              "-1.2039728043259361"
            ]
          },
          "metadata": {},
          "execution_count": 198
        }
      ]
    },
    {
      "cell_type": "code",
      "source": [
        "df['selling_price'].min()"
      ],
      "metadata": {
        "colab": {
          "base_uri": "https://localhost:8080/"
        },
        "id": "-v5vNkXhRnAD",
        "outputId": "71c6ee78-5eb3-4fef-a2db-cf95e9562d97"
      },
      "execution_count": 199,
      "outputs": [
        {
          "output_type": "execute_result",
          "data": {
            "text/plain": [
              "0.3"
            ]
          },
          "metadata": {},
          "execution_count": 199
        }
      ]
    },
    {
      "cell_type": "code",
      "source": [
        "final2 = LinearRegression()\n",
        "final2.fit(x_train, Y_train)"
      ],
      "metadata": {
        "colab": {
          "base_uri": "https://localhost:8080/",
          "height": 75
        },
        "id": "wo7PEFlER02I",
        "outputId": "c48b4304-06f8-47f1-f4c9-f41251e5088e"
      },
      "execution_count": 200,
      "outputs": [
        {
          "output_type": "execute_result",
          "data": {
            "text/plain": [
              "LinearRegression()"
            ],
            "text/html": [
              "<style>#sk-container-id-9 {color: black;background-color: white;}#sk-container-id-9 pre{padding: 0;}#sk-container-id-9 div.sk-toggleable {background-color: white;}#sk-container-id-9 label.sk-toggleable__label {cursor: pointer;display: block;width: 100%;margin-bottom: 0;padding: 0.3em;box-sizing: border-box;text-align: center;}#sk-container-id-9 label.sk-toggleable__label-arrow:before {content: \"▸\";float: left;margin-right: 0.25em;color: #696969;}#sk-container-id-9 label.sk-toggleable__label-arrow:hover:before {color: black;}#sk-container-id-9 div.sk-estimator:hover label.sk-toggleable__label-arrow:before {color: black;}#sk-container-id-9 div.sk-toggleable__content {max-height: 0;max-width: 0;overflow: hidden;text-align: left;background-color: #f0f8ff;}#sk-container-id-9 div.sk-toggleable__content pre {margin: 0.2em;color: black;border-radius: 0.25em;background-color: #f0f8ff;}#sk-container-id-9 input.sk-toggleable__control:checked~div.sk-toggleable__content {max-height: 200px;max-width: 100%;overflow: auto;}#sk-container-id-9 input.sk-toggleable__control:checked~label.sk-toggleable__label-arrow:before {content: \"▾\";}#sk-container-id-9 div.sk-estimator input.sk-toggleable__control:checked~label.sk-toggleable__label {background-color: #d4ebff;}#sk-container-id-9 div.sk-label input.sk-toggleable__control:checked~label.sk-toggleable__label {background-color: #d4ebff;}#sk-container-id-9 input.sk-hidden--visually {border: 0;clip: rect(1px 1px 1px 1px);clip: rect(1px, 1px, 1px, 1px);height: 1px;margin: -1px;overflow: hidden;padding: 0;position: absolute;width: 1px;}#sk-container-id-9 div.sk-estimator {font-family: monospace;background-color: #f0f8ff;border: 1px dotted black;border-radius: 0.25em;box-sizing: border-box;margin-bottom: 0.5em;}#sk-container-id-9 div.sk-estimator:hover {background-color: #d4ebff;}#sk-container-id-9 div.sk-parallel-item::after {content: \"\";width: 100%;border-bottom: 1px solid gray;flex-grow: 1;}#sk-container-id-9 div.sk-label:hover label.sk-toggleable__label {background-color: #d4ebff;}#sk-container-id-9 div.sk-serial::before {content: \"\";position: absolute;border-left: 1px solid gray;box-sizing: border-box;top: 0;bottom: 0;left: 50%;z-index: 0;}#sk-container-id-9 div.sk-serial {display: flex;flex-direction: column;align-items: center;background-color: white;padding-right: 0.2em;padding-left: 0.2em;position: relative;}#sk-container-id-9 div.sk-item {position: relative;z-index: 1;}#sk-container-id-9 div.sk-parallel {display: flex;align-items: stretch;justify-content: center;background-color: white;position: relative;}#sk-container-id-9 div.sk-item::before, #sk-container-id-9 div.sk-parallel-item::before {content: \"\";position: absolute;border-left: 1px solid gray;box-sizing: border-box;top: 0;bottom: 0;left: 50%;z-index: -1;}#sk-container-id-9 div.sk-parallel-item {display: flex;flex-direction: column;z-index: 1;position: relative;background-color: white;}#sk-container-id-9 div.sk-parallel-item:first-child::after {align-self: flex-end;width: 50%;}#sk-container-id-9 div.sk-parallel-item:last-child::after {align-self: flex-start;width: 50%;}#sk-container-id-9 div.sk-parallel-item:only-child::after {width: 0;}#sk-container-id-9 div.sk-dashed-wrapped {border: 1px dashed gray;margin: 0 0.4em 0.5em 0.4em;box-sizing: border-box;padding-bottom: 0.4em;background-color: white;}#sk-container-id-9 div.sk-label label {font-family: monospace;font-weight: bold;display: inline-block;line-height: 1.2em;}#sk-container-id-9 div.sk-label-container {text-align: center;}#sk-container-id-9 div.sk-container {/* jupyter's `normalize.less` sets `[hidden] { display: none; }` but bootstrap.min.css set `[hidden] { display: none !important; }` so we also need the `!important` here to be able to override the default hidden behavior on the sphinx rendered scikit-learn.org. See: https://github.com/scikit-learn/scikit-learn/issues/21755 */display: inline-block !important;position: relative;}#sk-container-id-9 div.sk-text-repr-fallback {display: none;}</style><div id=\"sk-container-id-9\" class=\"sk-top-container\"><div class=\"sk-text-repr-fallback\"><pre>LinearRegression()</pre><b>In a Jupyter environment, please rerun this cell to show the HTML representation or trust the notebook. <br />On GitHub, the HTML representation is unable to render, please try loading this page with nbviewer.org.</b></div><div class=\"sk-container\" hidden><div class=\"sk-item\"><div class=\"sk-estimator sk-toggleable\"><input class=\"sk-toggleable__control sk-hidden--visually\" id=\"sk-estimator-id-9\" type=\"checkbox\" checked><label for=\"sk-estimator-id-9\" class=\"sk-toggleable__label sk-toggleable__label-arrow\">LinearRegression</label><div class=\"sk-toggleable__content\"><pre>LinearRegression()</pre></div></div></div></div></div>"
            ]
          },
          "metadata": {},
          "execution_count": 200
        }
      ]
    },
    {
      "cell_type": "code",
      "source": [
        "final2.score(x_train, Y_train)"
      ],
      "metadata": {
        "colab": {
          "base_uri": "https://localhost:8080/"
        },
        "id": "ljoz3CqMSGDJ",
        "outputId": "766f69a3-4116-4559-c828-ff9408b90864"
      },
      "execution_count": 201,
      "outputs": [
        {
          "output_type": "stream",
          "name": "stderr",
          "text": [
            "/usr/local/lib/python3.10/dist-packages/ipykernel/ipkernel.py:283: DeprecationWarning: `should_run_async` will not call `transform_cell` automatically in the future. Please pass the result to `transformed_cell` argument and any exception that happen during thetransform in `preprocessing_exc_tuple` in IPython 7.17 and above.\n",
            "  and should_run_async(code)\n"
          ]
        },
        {
          "output_type": "execute_result",
          "data": {
            "text/plain": [
              "0.786790742277433"
            ]
          },
          "metadata": {},
          "execution_count": 201
        }
      ]
    },
    {
      "cell_type": "code",
      "source": [
        "Y_pred  =final2.predict(x_test)"
      ],
      "metadata": {
        "colab": {
          "base_uri": "https://localhost:8080/"
        },
        "id": "hC65JTdJSOTB",
        "outputId": "ba05989b-abf5-4370-9e35-357469b1984a"
      },
      "execution_count": 202,
      "outputs": [
        {
          "output_type": "stream",
          "name": "stderr",
          "text": [
            "/usr/local/lib/python3.10/dist-packages/ipykernel/ipkernel.py:283: DeprecationWarning: `should_run_async` will not call `transform_cell` automatically in the future. Please pass the result to `transformed_cell` argument and any exception that happen during thetransform in `preprocessing_exc_tuple` in IPython 7.17 and above.\n",
            "  and should_run_async(code)\n"
          ]
        }
      ]
    },
    {
      "cell_type": "code",
      "source": [
        "# Performence matrics on log transform data\n",
        "\n",
        "MAE = mean_absolute_error(Y_test,Y_pred)\n",
        "MSE = mean_squared_error(Y_test, Y_pred)\n",
        "RMSE = np.sqrt(MSE)\n",
        "print(\"MAE : \", MAE)\n",
        "print(\"MSE : \", MSE)\n",
        "print(\"RMSE : \", RMSE)"
      ],
      "metadata": {
        "colab": {
          "base_uri": "https://localhost:8080/"
        },
        "id": "CZaF8-DqS4RC",
        "outputId": "7e486b19-4fa3-4816-81a7-80de8cdb4653"
      },
      "execution_count": 203,
      "outputs": [
        {
          "output_type": "stream",
          "name": "stdout",
          "text": [
            "MAE :  0.22779566164923976\n",
            "MSE :  0.09582842674956592\n",
            "RMSE :  0.3095616687343023\n"
          ]
        },
        {
          "output_type": "stream",
          "name": "stderr",
          "text": [
            "/usr/local/lib/python3.10/dist-packages/ipykernel/ipkernel.py:283: DeprecationWarning: `should_run_async` will not call `transform_cell` automatically in the future. Please pass the result to `transformed_cell` argument and any exception that happen during thetransform in `preprocessing_exc_tuple` in IPython 7.17 and above.\n",
            "  and should_run_async(code)\n"
          ]
        }
      ]
    },
    {
      "cell_type": "code",
      "source": [
        "pred = final2.predict(x_train)\n",
        "errors  =pred - Y_train"
      ],
      "metadata": {
        "colab": {
          "base_uri": "https://localhost:8080/"
        },
        "id": "KAsHlzAwTUHf",
        "outputId": "4675545f-7c70-48a3-df0f-69d4efe06234"
      },
      "execution_count": 204,
      "outputs": [
        {
          "output_type": "stream",
          "name": "stderr",
          "text": [
            "/usr/local/lib/python3.10/dist-packages/ipykernel/ipkernel.py:283: DeprecationWarning: `should_run_async` will not call `transform_cell` automatically in the future. Please pass the result to `transformed_cell` argument and any exception that happen during thetransform in `preprocessing_exc_tuple` in IPython 7.17 and above.\n",
            "  and should_run_async(code)\n"
          ]
        }
      ]
    },
    {
      "cell_type": "code",
      "source": [
        "sns.distplot(errors)"
      ],
      "metadata": {
        "colab": {
          "base_uri": "https://localhost:8080/",
          "height": 771
        },
        "id": "bLp1cTm9Trsw",
        "outputId": "3257328c-2ba6-4b6e-f38c-4b54cb4b493f"
      },
      "execution_count": 205,
      "outputs": [
        {
          "output_type": "stream",
          "name": "stderr",
          "text": [
            "/usr/local/lib/python3.10/dist-packages/ipykernel/ipkernel.py:283: DeprecationWarning: `should_run_async` will not call `transform_cell` automatically in the future. Please pass the result to `transformed_cell` argument and any exception that happen during thetransform in `preprocessing_exc_tuple` in IPython 7.17 and above.\n",
            "  and should_run_async(code)\n",
            "<ipython-input-205-4a151ca7bc24>:1: UserWarning: \n",
            "\n",
            "`distplot` is a deprecated function and will be removed in seaborn v0.14.0.\n",
            "\n",
            "Please adapt your code to use either `displot` (a figure-level function with\n",
            "similar flexibility) or `histplot` (an axes-level function for histograms).\n",
            "\n",
            "For a guide to updating your code to use the new functions, please see\n",
            "https://gist.github.com/mwaskom/de44147ed2974457ad6372750bbe5751\n",
            "\n",
            "  sns.distplot(errors)\n"
          ]
        },
        {
          "output_type": "execute_result",
          "data": {
            "text/plain": [
              "<Axes: xlabel='selling_price', ylabel='Density'>"
            ]
          },
          "metadata": {},
          "execution_count": 205
        },
        {
          "output_type": "display_data",
          "data": {
            "text/plain": [
              "<Figure size 800x550 with 1 Axes>"
            ],
            "image/png": "[encoded data removed]"
          },
          "metadata": {}
        }
      ]
    },
    {
      "cell_type": "code",
      "source": [
        "## prediction vs residual plot\n",
        "sns.scatterplot(x=pred, y=errors)\n",
        "plt.xlabel(\"Prediction\")\n",
        "plt.ylabel(\"Errors\")"
      ],
      "metadata": {
        "colab": {
          "base_uri": "https://localhost:8080/",
          "height": 575
        },
        "id": "YduGKYF7TznH",
        "outputId": "887035ac-a8cd-4506-ce11-dde0ab526f94"
      },
      "execution_count": 206,
      "outputs": [
        {
          "output_type": "stream",
          "name": "stderr",
          "text": [
            "/usr/local/lib/python3.10/dist-packages/ipykernel/ipkernel.py:283: DeprecationWarning: `should_run_async` will not call `transform_cell` automatically in the future. Please pass the result to `transformed_cell` argument and any exception that happen during thetransform in `preprocessing_exc_tuple` in IPython 7.17 and above.\n",
            "  and should_run_async(code)\n"
          ]
        },
        {
          "output_type": "execute_result",
          "data": {
            "text/plain": [
              "Text(0, 0.5, 'Errors')"
            ]
          },
          "metadata": {},
          "execution_count": 206
        },
        {
          "output_type": "display_data",
          "data": {
            "text/plain": [
              "<Figure size 800x550 with 1 Axes>"
            ],
            "image/png": "[encoded data removed]"
          },
          "metadata": {}
        }
      ]
    },
    {
      "cell_type": "code",
      "source": [],
      "metadata": {
        "colab": {
          "base_uri": "https://localhost:8080/"
        },
        "id": "evojQiffULl9",
        "outputId": "c57dec0a-7e0e-40f4-e1f9-419456000980"
      },
      "execution_count": 206,
      "outputs": [
        {
          "output_type": "stream",
          "name": "stderr",
          "text": [
            "/usr/local/lib/python3.10/dist-packages/ipykernel/ipkernel.py:283: DeprecationWarning: `should_run_async` will not call `transform_cell` automatically in the future. Please pass the result to `transformed_cell` argument and any exception that happen during thetransform in `preprocessing_exc_tuple` in IPython 7.17 and above.\n",
            "  and should_run_async(code)\n"
          ]
        }
      ]
    }
  ]
}